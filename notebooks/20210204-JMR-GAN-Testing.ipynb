{
 "cells": [
  {
   "cell_type": "markdown",
   "id": "sunrise-passage",
   "metadata": {},
   "source": [
    "# Introduction\n",
    "This notebook is for building and testing a pipeline for creating synthetic data with GANs"
   ]
  },
  {
   "cell_type": "markdown",
   "id": "primary-alcohol",
   "metadata": {},
   "source": [
    "### Imports\n",
    "Import libraries and write settings here."
   ]
  },
  {
   "cell_type": "code",
   "execution_count": 13,
   "id": "shared-lambda",
   "metadata": {
    "ExecuteTime": {
     "end_time": "2021-02-05T17:35:38.937360Z",
     "start_time": "2021-02-05T17:35:38.870319Z"
    }
   },
   "outputs": [
    {
     "name": "stdout",
     "output_type": "stream",
     "text": [
      "Warning: Your Kaggle API key is readable by other users on this system! To fix this, you can run 'chmod 600 /Users/jrudd/.kaggle/kaggle.json'\n"
     ]
    },
    {
     "data": {
      "text/html": [
       "        <script type=\"text/javascript\">\n",
       "        window.PlotlyConfig = {MathJaxConfig: 'local'};\n",
       "        if (window.MathJax) {MathJax.Hub.Config({SVG: {font: \"STIX-Web\"}});}\n",
       "        if (typeof require !== 'undefined') {\n",
       "        require.undef(\"plotly\");\n",
       "        requirejs.config({\n",
       "            paths: {\n",
       "                'plotly': ['https://cdn.plot.ly/plotly-latest.min']\n",
       "            }\n",
       "        });\n",
       "        require(['plotly'], function(Plotly) {\n",
       "            window._Plotly = Plotly;\n",
       "        });\n",
       "        }\n",
       "        </script>\n",
       "        "
      ]
     },
     "metadata": {},
     "output_type": "display_data"
    },
    {
     "data": {
      "text/html": [
       "        <script type=\"text/javascript\">\n",
       "        window.PlotlyConfig = {MathJaxConfig: 'local'};\n",
       "        if (window.MathJax) {MathJax.Hub.Config({SVG: {font: \"STIX-Web\"}});}\n",
       "        if (typeof require !== 'undefined') {\n",
       "        require.undef(\"plotly\");\n",
       "        requirejs.config({\n",
       "            paths: {\n",
       "                'plotly': ['https://cdn.plot.ly/plotly-latest.min']\n",
       "            }\n",
       "        });\n",
       "        require(['plotly'], function(Plotly) {\n",
       "            window._Plotly = Plotly;\n",
       "        });\n",
       "        }\n",
       "        </script>\n",
       "        "
      ]
     },
     "metadata": {},
     "output_type": "display_data"
    }
   ],
   "source": [
    "from plotly.offline import iplot\n",
    "import plotly.offline as py\n",
    "import matplotlib.pyplot as plt\n",
    "import numpy as np\n",
    "import pandas as pd\n",
    "from IPython.core.interactiveshell import InteractiveShell\n",
    "from IPython import get_ipython\n",
    "import cufflinks as cf\n",
    "import os\n",
    "import sys\n",
    "import zipfile\n",
    "\n",
    "import importlib\n",
    "\n",
    "# models\n",
    "import sklearn.cluster as cluster\n",
    "\n",
    "from ydata_synthetic.synthesizers.regular import WGAN_GP, VanilllaGAN\n",
    "from ydata_synthetic.preprocessing.regular.credit_fraud import *\n",
    "\n",
    "#from config import kaggle\n",
    "from kaggle.api.kaggle_api_extended import KaggleApi\n",
    "api = KaggleApi()\n",
    "api.authenticate()\n",
    "\n",
    "root_dir = os.path.join(os.getcwd(), '..')\n",
    "sys.path.append(root_dir)\n",
    "\n",
    "# Options for pandas\n",
    "pd.options.display.max_columns = 50\n",
    "pd.options.display.max_rows = 30\n",
    "\n",
    "# Display all cell outputs\n",
    "InteractiveShell.ast_node_interactivity = 'all'\n",
    "\n",
    "ipython = get_ipython()\n",
    "\n",
    "# autoreload extension\n",
    "if 'autoreload' not in ipython.extension_manager.loaded:\n",
    "    %load_ext autoreload\n",
    "\n",
    "%autoreload 2\n",
    "\n",
    "# Visualizations\n",
    "py.init_notebook_mode(connected=True)\n",
    "\n",
    "cf.go_offline(connected=True)\n",
    "cf.set_config_file(theme='white')"
   ]
  },
  {
   "cell_type": "markdown",
   "id": "future-dress",
   "metadata": {},
   "source": [
    "#### Set data paths"
   ]
  },
  {
   "cell_type": "code",
   "execution_count": 25,
   "id": "piano-toyota",
   "metadata": {
    "ExecuteTime": {
     "end_time": "2021-02-04T15:37:31.247811Z",
     "start_time": "2021-02-04T15:37:31.219258Z"
    }
   },
   "outputs": [],
   "source": [
    "external_data = '../data/external/'\n",
    "raw_data = '../data/raw/'"
   ]
  },
  {
   "cell_type": "markdown",
   "id": "faced-answer",
   "metadata": {},
   "source": [
    "#### Import data from Kaggle"
   ]
  },
  {
   "cell_type": "code",
   "execution_count": 45,
   "id": "manufactured-federation",
   "metadata": {
    "ExecuteTime": {
     "end_time": "2021-02-04T16:16:54.203998Z",
     "start_time": "2021-02-04T16:16:53.637538Z"
    }
   },
   "outputs": [],
   "source": [
    "# downloading from https://www.kaggle.com/mlg-ulb/creditcardfraud\n",
    "# we write to the raw data directory path with './'\n",
    "api.dataset_download_files('dansbecker/hospital-readmissions',\n",
    "                          path=external_data)"
   ]
  },
  {
   "cell_type": "code",
   "execution_count": 47,
   "id": "applicable-contractor",
   "metadata": {
    "ExecuteTime": {
     "end_time": "2021-02-04T16:17:17.332493Z",
     "start_time": "2021-02-04T16:17:17.284414Z"
    }
   },
   "outputs": [],
   "source": [
    "#unzip\n",
    "\n",
    "with zipfile.ZipFile(external_data+'hospital-readmissions.zip', 'r') as zipref:\n",
    "    zipref.extractall(raw_data)"
   ]
  },
  {
   "cell_type": "markdown",
   "id": "enclosed-edward",
   "metadata": {},
   "source": [
    "#### Create kaggle import data function"
   ]
  },
  {
   "cell_type": "code",
   "execution_count": 37,
   "id": "perceived-carol",
   "metadata": {
    "ExecuteTime": {
     "end_time": "2021-02-04T16:09:30.903046Z",
     "start_time": "2021-02-04T16:09:30.872708Z"
    }
   },
   "outputs": [],
   "source": [
    "# Put data collection code into a .py document in the src/d00_utils folder. From there \n",
    "# it can be imported into different jupyter notebooks for easy data \n",
    "def kaggle_download_raw(url, file_name):\n",
    "    api.dataset_download_files(url,\n",
    "                          path=external_data)\n",
    "    with zipfile.ZipFile(external_data+file_name, 'r') as zipref:\n",
    "        zipref.extractall(raw_data)\n"
   ]
  },
  {
   "cell_type": "code",
   "execution_count": 43,
   "id": "abroad-connection",
   "metadata": {
    "ExecuteTime": {
     "end_time": "2021-02-04T16:15:16.958786Z",
     "start_time": "2021-02-04T16:15:16.930999Z"
    }
   },
   "outputs": [
    {
     "ename": "SyntaxError",
     "evalue": "invalid syntax (<ipython-input-43-16697aeec6c2>, line 4)",
     "output_type": "error",
     "traceback": [
      "\u001b[0;36m  File \u001b[0;32m\"<ipython-input-43-16697aeec6c2>\"\u001b[0;36m, line \u001b[0;32m4\u001b[0m\n\u001b[0;31m    kaggle_download_raw(url,file_name) for url,file_name in [urls, file_names]\u001b[0m\n\u001b[0m                                       ^\u001b[0m\n\u001b[0;31mSyntaxError\u001b[0m\u001b[0;31m:\u001b[0m invalid syntax\n"
     ]
    }
   ],
   "source": [
    "#Needs work\n",
    "\n",
    "urls = ['mlg-ulb/creditcardfraud','dansbecker/hospital-readmissions']\n",
    "file_names = ['creditcardfraud.zip','hospital-readmissions.zip']\n",
    "\n",
    "[kaggle_download_raw(url,file_name) for url,file_name in urls, file_names]"
   ]
  },
  {
   "cell_type": "markdown",
   "id": "single-billy",
   "metadata": {},
   "source": [
    "#### Read in as pandas dataframes"
   ]
  },
  {
   "cell_type": "code",
   "execution_count": null,
   "id": "chinese-dylan",
   "metadata": {},
   "outputs": [],
   "source": []
  },
  {
   "cell_type": "markdown",
   "id": "increasing-workplace",
   "metadata": {},
   "source": [
    "# Data Preprocessing"
   ]
  },
  {
   "cell_type": "code",
   "execution_count": null,
   "id": "unlike-indication",
   "metadata": {},
   "outputs": [],
   "source": []
  },
  {
   "cell_type": "markdown",
   "id": "billion-default",
   "metadata": {},
   "source": [
    "# Analysis/Modeling\n",
    "Do work here"
   ]
  },
  {
   "cell_type": "markdown",
   "id": "boring-campaign",
   "metadata": {},
   "source": [
    "# Results\n",
    "Show graphs and stats here"
   ]
  },
  {
   "cell_type": "markdown",
   "id": "sudden-expression",
   "metadata": {},
   "source": [
    "# Conclusions and Next Steps\n",
    "Summarize findings here"
   ]
  },
  {
   "cell_type": "code",
   "execution_count": null,
   "id": "governing-series",
   "metadata": {},
   "outputs": [],
   "source": []
  }
 ],
 "metadata": {
  "kernelspec": {
   "display_name": "Python 3",
   "language": "python",
   "name": "python3"
  },
  "language_info": {
   "codemirror_mode": {
    "name": "ipython",
    "version": 3
   },
   "file_extension": ".py",
   "mimetype": "text/x-python",
   "name": "python",
   "nbconvert_exporter": "python",
   "pygments_lexer": "ipython3",
   "version": "3.8.5"
  },
  "toc": {
   "base_numbering": 1,
   "nav_menu": {},
   "number_sections": true,
   "sideBar": true,
   "skip_h1_title": false,
   "title_cell": "Table of Contents",
   "title_sidebar": "Contents",
   "toc_cell": false,
   "toc_position": {},
   "toc_section_display": true,
   "toc_window_display": true
  }
 },
 "nbformat": 4,
 "nbformat_minor": 5
}
