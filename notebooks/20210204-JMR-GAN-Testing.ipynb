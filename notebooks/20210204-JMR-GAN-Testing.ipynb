{
 "cells": [
  {
   "cell_type": "markdown",
   "id": "sporting-control",
   "metadata": {},
   "source": [
    "# Introduction\n",
    "This notebook is for building and testing a pipeline for creating synthetic data with GANs"
   ]
  },
  {
   "cell_type": "markdown",
   "id": "harmful-george",
   "metadata": {},
   "source": [
    "## Imports\n",
    "Import libraries and write settings here."
   ]
  },
  {
   "cell_type": "code",
   "execution_count": 284,
   "id": "suspended-notice",
   "metadata": {
    "ExecuteTime": {
     "end_time": "2021-02-11T19:10:51.554697Z",
     "start_time": "2021-02-11T19:10:51.290805Z"
    }
   },
   "outputs": [
    {
     "name": "stdout",
     "output_type": "stream",
     "text": [
      "[34359738368, 13680652288]\n",
      "Warning: Your Kaggle API key is readable by other users on this system! To fix this, you can run 'chmod 600 /Users/jrudd/.kaggle/kaggle.json'\n"
     ]
    },
    {
     "data": {
      "text/html": [
       "        <script type=\"text/javascript\">\n",
       "        window.PlotlyConfig = {MathJaxConfig: 'local'};\n",
       "        if (window.MathJax) {MathJax.Hub.Config({SVG: {font: \"STIX-Web\"}});}\n",
       "        if (typeof require !== 'undefined') {\n",
       "        require.undef(\"plotly\");\n",
       "        requirejs.config({\n",
       "            paths: {\n",
       "                'plotly': ['https://cdn.plot.ly/plotly-latest.min']\n",
       "            }\n",
       "        });\n",
       "        require(['plotly'], function(Plotly) {\n",
       "            window._Plotly = Plotly;\n",
       "        });\n",
       "        }\n",
       "        </script>\n",
       "        "
      ]
     },
     "metadata": {},
     "output_type": "display_data"
    }
   ],
   "source": [
    "from sklearn.metrics import recall_score, precision_score, roc_auc_score\n",
    "import xgboost as xgb\n",
    "import cufflinks as cf\n",
    "import seaborn as sns\n",
    "import matplotlib.pyplot as plt\n",
    "from kaggle.api.kaggle_api_extended import KaggleApi\n",
    "from ydata_synthetic.preprocessing.regular.credit_fraud import *\n",
    "from ydata_synthetic.synthesizers.regular import WGAN_GP, VanilllaGAN\n",
    "import sklearn.cluster as cluster\n",
    "from sklearn.preprocessing import PowerTransformer\n",
    "import pickle\n",
    "import importlib\n",
    "import math\n",
    "import zipfile\n",
    "import sys\n",
    "import os\n",
    "from pathlib import Path\n",
    "from IPython import get_ipython\n",
    "from IPython.core.interactiveshell import InteractiveShell\n",
    "import pandas as pd\n",
    "import numpy as np\n",
    "import psutil\n",
    "print(list(psutil.virtual_memory())[0:2])\n",
    "root_dir = os.path.join(os.getcwd(), '..')\n",
    "sys.path.append(root_dir)\n",
    "\n",
    "# kaggle imports\n",
    "api = KaggleApi()\n",
    "api.authenticate()\n",
    "\n",
    "# Options for pandas\n",
    "pd.set_option('max_columns', 120)\n",
    "pd.set_option('max_colwidth', 5000)\n",
    "pd.options.display.max_rows = None\n",
    "\n",
    "# Visualizations\n",
    "%matplotlib inline\n",
    "plt.style.use('ggplot')\n",
    "plt.rcParams['figure.figsize'] = (12, 8)\n",
    "\n",
    "cf.go_offline(connected=True)\n",
    "cf.set_config_file(theme='white')\n",
    "\n",
    "# Autoreload extension\n",
    "if 'autoreload' not in get_ipython().extension_manager.loaded:\n",
    "    %load_ext autoreload\n",
    "\n",
    "%autoreload 2"
   ]
  },
  {
   "cell_type": "markdown",
   "id": "every-quest",
   "metadata": {},
   "source": [
    "### Set data paths"
   ]
  },
  {
   "cell_type": "code",
   "execution_count": 74,
   "id": "academic-championship",
   "metadata": {
    "ExecuteTime": {
     "end_time": "2021-02-09T21:31:15.512499Z",
     "start_time": "2021-02-09T21:31:15.461671Z"
    }
   },
   "outputs": [],
   "source": [
    "external_data = '../data/external/'\n",
    "raw_data = '../data/raw/'\n",
    "interim_data = '../data/interim/'\n",
    "processed_data = '../data/processed/'"
   ]
  },
  {
   "cell_type": "markdown",
   "id": "public-boxing",
   "metadata": {},
   "source": [
    "### Import data from Kaggle"
   ]
  },
  {
   "cell_type": "code",
   "execution_count": 3,
   "id": "swiss-lounge",
   "metadata": {
    "ExecuteTime": {
     "end_time": "2021-02-09T17:44:58.165284Z",
     "start_time": "2021-02-09T17:44:51.741676Z"
    }
   },
   "outputs": [],
   "source": [
    "# downloading from https://www.kaggle.com/mlg-ulb/creditcardfraud\n",
    "# we write to the raw data directory path with './'\n",
    "api.dataset_download_files('mlg-ulb/creditcardfraud',\n",
    "                          path=external_data)"
   ]
  },
  {
   "cell_type": "code",
   "execution_count": 97,
   "id": "typical-flush",
   "metadata": {
    "ExecuteTime": {
     "end_time": "2021-02-09T17:21:54.524795Z",
     "start_time": "2021-02-09T17:21:54.453775Z"
    }
   },
   "outputs": [],
   "source": [
    "#unzip\n",
    "\n",
    "with zipfile.ZipFile(external_data+'hospital-readmissions.zip', 'r') as zipref:\n",
    "    zipref.extractall(raw_data)"
   ]
  },
  {
   "cell_type": "markdown",
   "id": "vertical-overall",
   "metadata": {},
   "source": [
    "#### Create kaggle import data function"
   ]
  },
  {
   "cell_type": "code",
   "execution_count": 37,
   "id": "american-length",
   "metadata": {
    "ExecuteTime": {
     "end_time": "2021-02-09T19:32:58.662189Z",
     "start_time": "2021-02-09T19:32:58.611416Z"
    }
   },
   "outputs": [],
   "source": [
    "# Put data collection code into a .py document in the src/d00_utils folder. From there \n",
    "# it can be imported into different jupyter notebooks for easy data \n",
    "def kaggle_download_raw(url, in_path):\n",
    "    api.dataset_download_files(url,\n",
    "                          path=in_path)\n",
    "    \n",
    "def unzip(in_path, out_path):\n",
    "    pathlist = Path(in_path).rglob('*.zip')\n",
    "    for path in pathlist:   # get the list of files\n",
    "        with zipfile.ZipFile(path) as zipref: # treat the file as a zip\n",
    "            zipref.extractall(out_path)  # extract it in the raw data directory\n",
    "\n",
    "            \n",
    "def read_files(in_path, index = False):\n",
    "    pathlist = Path(in_path).rglob('*.csv')\n",
    "    dataframes = [pd.read_csv(path, index_col=index) for path in pathlist]\n",
    "    return dataframes"
   ]
  },
  {
   "cell_type": "code",
   "execution_count": 5,
   "id": "cultural-daily",
   "metadata": {
    "ExecuteTime": {
     "end_time": "2021-02-09T17:45:29.230551Z",
     "start_time": "2021-02-09T17:45:22.839092Z"
    }
   },
   "outputs": [
    {
     "data": {
      "text/plain": [
       "[None, None]"
      ]
     },
     "execution_count": 5,
     "metadata": {},
     "output_type": "execute_result"
    }
   ],
   "source": [
    "urls = ['mlg-ulb/creditcardfraud','dansbecker/hospital-readmissions']\n",
    "#file_names = ['creditcardfraud.zip','hospital-readmissions.zip']\n",
    "\n",
    "[kaggle_download_raw(url,external_data) for url in urls ]"
   ]
  },
  {
   "cell_type": "code",
   "execution_count": 8,
   "id": "czech-jewelry",
   "metadata": {
    "ExecuteTime": {
     "end_time": "2021-02-09T17:46:01.592188Z",
     "start_time": "2021-02-09T17:46:00.706576Z"
    }
   },
   "outputs": [],
   "source": [
    "unzip(external_data, raw_data)"
   ]
  },
  {
   "cell_type": "markdown",
   "id": "african-brick",
   "metadata": {},
   "source": [
    "### Read in as pandas dataframes"
   ]
  },
  {
   "cell_type": "code",
   "execution_count": 78,
   "id": "republican-remove",
   "metadata": {
    "ExecuteTime": {
     "end_time": "2021-02-10T19:52:05.805950Z",
     "start_time": "2021-02-10T19:52:04.232372Z"
    }
   },
   "outputs": [
    {
     "name": "stdout",
     "output_type": "stream",
     "text": [
      "(284807, 31)\n"
     ]
    },
    {
     "data": {
      "text/html": [
       "<div>\n",
       "<style scoped>\n",
       "    .dataframe tbody tr th:only-of-type {\n",
       "        vertical-align: middle;\n",
       "    }\n",
       "\n",
       "    .dataframe tbody tr th {\n",
       "        vertical-align: top;\n",
       "    }\n",
       "\n",
       "    .dataframe thead th {\n",
       "        text-align: right;\n",
       "    }\n",
       "</style>\n",
       "<table border=\"1\" class=\"dataframe\">\n",
       "  <thead>\n",
       "    <tr style=\"text-align: right;\">\n",
       "      <th></th>\n",
       "      <th>Time</th>\n",
       "      <th>V1</th>\n",
       "      <th>V2</th>\n",
       "      <th>V3</th>\n",
       "      <th>V4</th>\n",
       "      <th>V5</th>\n",
       "      <th>V6</th>\n",
       "      <th>V7</th>\n",
       "      <th>V8</th>\n",
       "      <th>V9</th>\n",
       "      <th>V10</th>\n",
       "      <th>V11</th>\n",
       "      <th>V12</th>\n",
       "      <th>V13</th>\n",
       "      <th>V14</th>\n",
       "      <th>V15</th>\n",
       "      <th>V16</th>\n",
       "      <th>V17</th>\n",
       "      <th>V18</th>\n",
       "      <th>V19</th>\n",
       "      <th>V20</th>\n",
       "      <th>V21</th>\n",
       "      <th>V22</th>\n",
       "      <th>V23</th>\n",
       "      <th>V24</th>\n",
       "      <th>V25</th>\n",
       "      <th>V26</th>\n",
       "      <th>V27</th>\n",
       "      <th>V28</th>\n",
       "      <th>Amount</th>\n",
       "      <th>Class</th>\n",
       "    </tr>\n",
       "  </thead>\n",
       "  <tbody>\n",
       "    <tr>\n",
       "      <th>0</th>\n",
       "      <td>0.0</td>\n",
       "      <td>-1.359807</td>\n",
       "      <td>-0.072781</td>\n",
       "      <td>2.536347</td>\n",
       "      <td>1.378155</td>\n",
       "      <td>-0.338321</td>\n",
       "      <td>0.462388</td>\n",
       "      <td>0.239599</td>\n",
       "      <td>0.098698</td>\n",
       "      <td>0.363787</td>\n",
       "      <td>0.090794</td>\n",
       "      <td>-0.551600</td>\n",
       "      <td>-0.617801</td>\n",
       "      <td>-0.991390</td>\n",
       "      <td>-0.311169</td>\n",
       "      <td>1.468177</td>\n",
       "      <td>-0.470401</td>\n",
       "      <td>0.207971</td>\n",
       "      <td>0.025791</td>\n",
       "      <td>0.403993</td>\n",
       "      <td>0.251412</td>\n",
       "      <td>-0.018307</td>\n",
       "      <td>0.277838</td>\n",
       "      <td>-0.110474</td>\n",
       "      <td>0.066928</td>\n",
       "      <td>0.128539</td>\n",
       "      <td>-0.189115</td>\n",
       "      <td>0.133558</td>\n",
       "      <td>-0.021053</td>\n",
       "      <td>149.62</td>\n",
       "      <td>0</td>\n",
       "    </tr>\n",
       "    <tr>\n",
       "      <th>1</th>\n",
       "      <td>0.0</td>\n",
       "      <td>1.191857</td>\n",
       "      <td>0.266151</td>\n",
       "      <td>0.166480</td>\n",
       "      <td>0.448154</td>\n",
       "      <td>0.060018</td>\n",
       "      <td>-0.082361</td>\n",
       "      <td>-0.078803</td>\n",
       "      <td>0.085102</td>\n",
       "      <td>-0.255425</td>\n",
       "      <td>-0.166974</td>\n",
       "      <td>1.612727</td>\n",
       "      <td>1.065235</td>\n",
       "      <td>0.489095</td>\n",
       "      <td>-0.143772</td>\n",
       "      <td>0.635558</td>\n",
       "      <td>0.463917</td>\n",
       "      <td>-0.114805</td>\n",
       "      <td>-0.183361</td>\n",
       "      <td>-0.145783</td>\n",
       "      <td>-0.069083</td>\n",
       "      <td>-0.225775</td>\n",
       "      <td>-0.638672</td>\n",
       "      <td>0.101288</td>\n",
       "      <td>-0.339846</td>\n",
       "      <td>0.167170</td>\n",
       "      <td>0.125895</td>\n",
       "      <td>-0.008983</td>\n",
       "      <td>0.014724</td>\n",
       "      <td>2.69</td>\n",
       "      <td>0</td>\n",
       "    </tr>\n",
       "    <tr>\n",
       "      <th>2</th>\n",
       "      <td>1.0</td>\n",
       "      <td>-1.358354</td>\n",
       "      <td>-1.340163</td>\n",
       "      <td>1.773209</td>\n",
       "      <td>0.379780</td>\n",
       "      <td>-0.503198</td>\n",
       "      <td>1.800499</td>\n",
       "      <td>0.791461</td>\n",
       "      <td>0.247676</td>\n",
       "      <td>-1.514654</td>\n",
       "      <td>0.207643</td>\n",
       "      <td>0.624501</td>\n",
       "      <td>0.066084</td>\n",
       "      <td>0.717293</td>\n",
       "      <td>-0.165946</td>\n",
       "      <td>2.345865</td>\n",
       "      <td>-2.890083</td>\n",
       "      <td>1.109969</td>\n",
       "      <td>-0.121359</td>\n",
       "      <td>-2.261857</td>\n",
       "      <td>0.524980</td>\n",
       "      <td>0.247998</td>\n",
       "      <td>0.771679</td>\n",
       "      <td>0.909412</td>\n",
       "      <td>-0.689281</td>\n",
       "      <td>-0.327642</td>\n",
       "      <td>-0.139097</td>\n",
       "      <td>-0.055353</td>\n",
       "      <td>-0.059752</td>\n",
       "      <td>378.66</td>\n",
       "      <td>0</td>\n",
       "    </tr>\n",
       "    <tr>\n",
       "      <th>3</th>\n",
       "      <td>1.0</td>\n",
       "      <td>-0.966272</td>\n",
       "      <td>-0.185226</td>\n",
       "      <td>1.792993</td>\n",
       "      <td>-0.863291</td>\n",
       "      <td>-0.010309</td>\n",
       "      <td>1.247203</td>\n",
       "      <td>0.237609</td>\n",
       "      <td>0.377436</td>\n",
       "      <td>-1.387024</td>\n",
       "      <td>-0.054952</td>\n",
       "      <td>-0.226487</td>\n",
       "      <td>0.178228</td>\n",
       "      <td>0.507757</td>\n",
       "      <td>-0.287924</td>\n",
       "      <td>-0.631418</td>\n",
       "      <td>-1.059647</td>\n",
       "      <td>-0.684093</td>\n",
       "      <td>1.965775</td>\n",
       "      <td>-1.232622</td>\n",
       "      <td>-0.208038</td>\n",
       "      <td>-0.108300</td>\n",
       "      <td>0.005274</td>\n",
       "      <td>-0.190321</td>\n",
       "      <td>-1.175575</td>\n",
       "      <td>0.647376</td>\n",
       "      <td>-0.221929</td>\n",
       "      <td>0.062723</td>\n",
       "      <td>0.061458</td>\n",
       "      <td>123.50</td>\n",
       "      <td>0</td>\n",
       "    </tr>\n",
       "    <tr>\n",
       "      <th>4</th>\n",
       "      <td>2.0</td>\n",
       "      <td>-1.158233</td>\n",
       "      <td>0.877737</td>\n",
       "      <td>1.548718</td>\n",
       "      <td>0.403034</td>\n",
       "      <td>-0.407193</td>\n",
       "      <td>0.095921</td>\n",
       "      <td>0.592941</td>\n",
       "      <td>-0.270533</td>\n",
       "      <td>0.817739</td>\n",
       "      <td>0.753074</td>\n",
       "      <td>-0.822843</td>\n",
       "      <td>0.538196</td>\n",
       "      <td>1.345852</td>\n",
       "      <td>-1.119670</td>\n",
       "      <td>0.175121</td>\n",
       "      <td>-0.451449</td>\n",
       "      <td>-0.237033</td>\n",
       "      <td>-0.038195</td>\n",
       "      <td>0.803487</td>\n",
       "      <td>0.408542</td>\n",
       "      <td>-0.009431</td>\n",
       "      <td>0.798278</td>\n",
       "      <td>-0.137458</td>\n",
       "      <td>0.141267</td>\n",
       "      <td>-0.206010</td>\n",
       "      <td>0.502292</td>\n",
       "      <td>0.219422</td>\n",
       "      <td>0.215153</td>\n",
       "      <td>69.99</td>\n",
       "      <td>0</td>\n",
       "    </tr>\n",
       "  </tbody>\n",
       "</table>\n",
       "</div>"
      ],
      "text/plain": [
       "   Time        V1        V2        V3        V4        V5        V6        V7  \\\n",
       "0   0.0 -1.359807 -0.072781  2.536347  1.378155 -0.338321  0.462388  0.239599   \n",
       "1   0.0  1.191857  0.266151  0.166480  0.448154  0.060018 -0.082361 -0.078803   \n",
       "2   1.0 -1.358354 -1.340163  1.773209  0.379780 -0.503198  1.800499  0.791461   \n",
       "3   1.0 -0.966272 -0.185226  1.792993 -0.863291 -0.010309  1.247203  0.237609   \n",
       "4   2.0 -1.158233  0.877737  1.548718  0.403034 -0.407193  0.095921  0.592941   \n",
       "\n",
       "         V8        V9       V10       V11       V12       V13       V14  \\\n",
       "0  0.098698  0.363787  0.090794 -0.551600 -0.617801 -0.991390 -0.311169   \n",
       "1  0.085102 -0.255425 -0.166974  1.612727  1.065235  0.489095 -0.143772   \n",
       "2  0.247676 -1.514654  0.207643  0.624501  0.066084  0.717293 -0.165946   \n",
       "3  0.377436 -1.387024 -0.054952 -0.226487  0.178228  0.507757 -0.287924   \n",
       "4 -0.270533  0.817739  0.753074 -0.822843  0.538196  1.345852 -1.119670   \n",
       "\n",
       "        V15       V16       V17       V18       V19       V20       V21  \\\n",
       "0  1.468177 -0.470401  0.207971  0.025791  0.403993  0.251412 -0.018307   \n",
       "1  0.635558  0.463917 -0.114805 -0.183361 -0.145783 -0.069083 -0.225775   \n",
       "2  2.345865 -2.890083  1.109969 -0.121359 -2.261857  0.524980  0.247998   \n",
       "3 -0.631418 -1.059647 -0.684093  1.965775 -1.232622 -0.208038 -0.108300   \n",
       "4  0.175121 -0.451449 -0.237033 -0.038195  0.803487  0.408542 -0.009431   \n",
       "\n",
       "        V22       V23       V24       V25       V26       V27       V28  \\\n",
       "0  0.277838 -0.110474  0.066928  0.128539 -0.189115  0.133558 -0.021053   \n",
       "1 -0.638672  0.101288 -0.339846  0.167170  0.125895 -0.008983  0.014724   \n",
       "2  0.771679  0.909412 -0.689281 -0.327642 -0.139097 -0.055353 -0.059752   \n",
       "3  0.005274 -0.190321 -1.175575  0.647376 -0.221929  0.062723  0.061458   \n",
       "4  0.798278 -0.137458  0.141267 -0.206010  0.502292  0.219422  0.215153   \n",
       "\n",
       "   Amount  Class  \n",
       "0  149.62      0  \n",
       "1    2.69      0  \n",
       "2  378.66      0  \n",
       "3  123.50      0  \n",
       "4   69.99      0  "
      ]
     },
     "execution_count": 78,
     "metadata": {},
     "output_type": "execute_result"
    }
   ],
   "source": [
    "credit_fraud = read_files(raw_data)[0]\n",
    "print(credit_fraud.shape)\n",
    "credit_fraud.head()"
   ]
  },
  {
   "cell_type": "code",
   "execution_count": 111,
   "id": "reverse-columbia",
   "metadata": {
    "ExecuteTime": {
     "end_time": "2021-02-11T16:14:16.222025Z",
     "start_time": "2021-02-11T16:14:14.164000Z"
    }
   },
   "outputs": [
    {
     "data": {
      "text/html": [
       "<div>\n",
       "<style scoped>\n",
       "    .dataframe tbody tr th:only-of-type {\n",
       "        vertical-align: middle;\n",
       "    }\n",
       "\n",
       "    .dataframe tbody tr th {\n",
       "        vertical-align: top;\n",
       "    }\n",
       "\n",
       "    .dataframe thead th {\n",
       "        text-align: right;\n",
       "    }\n",
       "</style>\n",
       "<table border=\"1\" class=\"dataframe\">\n",
       "  <thead>\n",
       "    <tr style=\"text-align: right;\">\n",
       "      <th></th>\n",
       "      <th>time_in_hospital</th>\n",
       "      <th>num_lab_procedures</th>\n",
       "      <th>num_procedures</th>\n",
       "      <th>num_medications</th>\n",
       "      <th>number_outpatient</th>\n",
       "      <th>number_emergency</th>\n",
       "      <th>number_inpatient</th>\n",
       "      <th>number_diagnoses</th>\n",
       "      <th>race_Caucasian</th>\n",
       "      <th>race_AfricanAmerican</th>\n",
       "      <th>gender_Female</th>\n",
       "      <th>age_[70-80)</th>\n",
       "      <th>age_[60-70)</th>\n",
       "      <th>age_[50-60)</th>\n",
       "      <th>age_[80-90)</th>\n",
       "      <th>age_[40-50)</th>\n",
       "      <th>payer_code_?</th>\n",
       "      <th>payer_code_MC</th>\n",
       "      <th>payer_code_HM</th>\n",
       "      <th>payer_code_SP</th>\n",
       "      <th>payer_code_BC</th>\n",
       "      <th>medical_specialty_?</th>\n",
       "      <th>medical_specialty_InternalMedicine</th>\n",
       "      <th>medical_specialty_Emergency/Trauma</th>\n",
       "      <th>medical_specialty_Family/GeneralPractice</th>\n",
       "      <th>...</th>\n",
       "      <th>repaglinide_No</th>\n",
       "      <th>nateglinide_No</th>\n",
       "      <th>chlorpropamide_No</th>\n",
       "      <th>glimepiride_No</th>\n",
       "      <th>acetohexamide_No</th>\n",
       "      <th>glipizide_No</th>\n",
       "      <th>glyburide_No</th>\n",
       "      <th>tolbutamide_No</th>\n",
       "      <th>pioglitazone_No</th>\n",
       "      <th>rosiglitazone_No</th>\n",
       "      <th>acarbose_No</th>\n",
       "      <th>miglitol_No</th>\n",
       "      <th>troglitazone_No</th>\n",
       "      <th>tolazamide_No</th>\n",
       "      <th>examide_No</th>\n",
       "      <th>citoglipton_No</th>\n",
       "      <th>insulin_No</th>\n",
       "      <th>glyburide-metformin_No</th>\n",
       "      <th>glipizide-metformin_No</th>\n",
       "      <th>glimepiride-pioglitazone_No</th>\n",
       "      <th>metformin-rosiglitazone_No</th>\n",
       "      <th>metformin-pioglitazone_No</th>\n",
       "      <th>change_No</th>\n",
       "      <th>diabetesMed_Yes</th>\n",
       "      <th>readmitted</th>\n",
       "    </tr>\n",
       "  </thead>\n",
       "  <tbody>\n",
       "    <tr>\n",
       "      <th>0</th>\n",
       "      <td>14</td>\n",
       "      <td>41</td>\n",
       "      <td>0</td>\n",
       "      <td>11</td>\n",
       "      <td>0</td>\n",
       "      <td>0</td>\n",
       "      <td>0</td>\n",
       "      <td>6</td>\n",
       "      <td>True</td>\n",
       "      <td>False</td>\n",
       "      <td>False</td>\n",
       "      <td>False</td>\n",
       "      <td>False</td>\n",
       "      <td>True</td>\n",
       "      <td>False</td>\n",
       "      <td>False</td>\n",
       "      <td>False</td>\n",
       "      <td>False</td>\n",
       "      <td>False</td>\n",
       "      <td>True</td>\n",
       "      <td>False</td>\n",
       "      <td>True</td>\n",
       "      <td>False</td>\n",
       "      <td>False</td>\n",
       "      <td>False</td>\n",
       "      <td>...</td>\n",
       "      <td>True</td>\n",
       "      <td>True</td>\n",
       "      <td>True</td>\n",
       "      <td>True</td>\n",
       "      <td>True</td>\n",
       "      <td>False</td>\n",
       "      <td>True</td>\n",
       "      <td>True</td>\n",
       "      <td>True</td>\n",
       "      <td>True</td>\n",
       "      <td>True</td>\n",
       "      <td>True</td>\n",
       "      <td>True</td>\n",
       "      <td>True</td>\n",
       "      <td>True</td>\n",
       "      <td>True</td>\n",
       "      <td>True</td>\n",
       "      <td>True</td>\n",
       "      <td>True</td>\n",
       "      <td>True</td>\n",
       "      <td>True</td>\n",
       "      <td>True</td>\n",
       "      <td>True</td>\n",
       "      <td>True</td>\n",
       "      <td>0</td>\n",
       "    </tr>\n",
       "    <tr>\n",
       "      <th>1</th>\n",
       "      <td>2</td>\n",
       "      <td>30</td>\n",
       "      <td>0</td>\n",
       "      <td>12</td>\n",
       "      <td>0</td>\n",
       "      <td>0</td>\n",
       "      <td>1</td>\n",
       "      <td>9</td>\n",
       "      <td>True</td>\n",
       "      <td>False</td>\n",
       "      <td>True</td>\n",
       "      <td>False</td>\n",
       "      <td>False</td>\n",
       "      <td>True</td>\n",
       "      <td>False</td>\n",
       "      <td>False</td>\n",
       "      <td>False</td>\n",
       "      <td>False</td>\n",
       "      <td>False</td>\n",
       "      <td>True</td>\n",
       "      <td>False</td>\n",
       "      <td>True</td>\n",
       "      <td>False</td>\n",
       "      <td>False</td>\n",
       "      <td>False</td>\n",
       "      <td>...</td>\n",
       "      <td>True</td>\n",
       "      <td>True</td>\n",
       "      <td>True</td>\n",
       "      <td>True</td>\n",
       "      <td>True</td>\n",
       "      <td>True</td>\n",
       "      <td>True</td>\n",
       "      <td>True</td>\n",
       "      <td>False</td>\n",
       "      <td>True</td>\n",
       "      <td>True</td>\n",
       "      <td>True</td>\n",
       "      <td>True</td>\n",
       "      <td>True</td>\n",
       "      <td>True</td>\n",
       "      <td>True</td>\n",
       "      <td>False</td>\n",
       "      <td>True</td>\n",
       "      <td>True</td>\n",
       "      <td>True</td>\n",
       "      <td>True</td>\n",
       "      <td>True</td>\n",
       "      <td>False</td>\n",
       "      <td>True</td>\n",
       "      <td>1</td>\n",
       "    </tr>\n",
       "    <tr>\n",
       "      <th>2</th>\n",
       "      <td>5</td>\n",
       "      <td>66</td>\n",
       "      <td>0</td>\n",
       "      <td>22</td>\n",
       "      <td>1</td>\n",
       "      <td>0</td>\n",
       "      <td>2</td>\n",
       "      <td>9</td>\n",
       "      <td>True</td>\n",
       "      <td>False</td>\n",
       "      <td>True</td>\n",
       "      <td>False</td>\n",
       "      <td>False</td>\n",
       "      <td>False</td>\n",
       "      <td>True</td>\n",
       "      <td>False</td>\n",
       "      <td>False</td>\n",
       "      <td>True</td>\n",
       "      <td>False</td>\n",
       "      <td>False</td>\n",
       "      <td>False</td>\n",
       "      <td>True</td>\n",
       "      <td>False</td>\n",
       "      <td>False</td>\n",
       "      <td>False</td>\n",
       "      <td>...</td>\n",
       "      <td>True</td>\n",
       "      <td>True</td>\n",
       "      <td>True</td>\n",
       "      <td>True</td>\n",
       "      <td>True</td>\n",
       "      <td>True</td>\n",
       "      <td>True</td>\n",
       "      <td>True</td>\n",
       "      <td>True</td>\n",
       "      <td>True</td>\n",
       "      <td>True</td>\n",
       "      <td>True</td>\n",
       "      <td>True</td>\n",
       "      <td>True</td>\n",
       "      <td>True</td>\n",
       "      <td>True</td>\n",
       "      <td>True</td>\n",
       "      <td>True</td>\n",
       "      <td>True</td>\n",
       "      <td>True</td>\n",
       "      <td>True</td>\n",
       "      <td>True</td>\n",
       "      <td>True</td>\n",
       "      <td>True</td>\n",
       "      <td>1</td>\n",
       "    </tr>\n",
       "    <tr>\n",
       "      <th>3</th>\n",
       "      <td>3</td>\n",
       "      <td>63</td>\n",
       "      <td>0</td>\n",
       "      <td>8</td>\n",
       "      <td>0</td>\n",
       "      <td>0</td>\n",
       "      <td>0</td>\n",
       "      <td>8</td>\n",
       "      <td>True</td>\n",
       "      <td>False</td>\n",
       "      <td>True</td>\n",
       "      <td>False</td>\n",
       "      <td>False</td>\n",
       "      <td>True</td>\n",
       "      <td>False</td>\n",
       "      <td>False</td>\n",
       "      <td>True</td>\n",
       "      <td>False</td>\n",
       "      <td>False</td>\n",
       "      <td>False</td>\n",
       "      <td>False</td>\n",
       "      <td>True</td>\n",
       "      <td>False</td>\n",
       "      <td>False</td>\n",
       "      <td>False</td>\n",
       "      <td>...</td>\n",
       "      <td>True</td>\n",
       "      <td>True</td>\n",
       "      <td>True</td>\n",
       "      <td>True</td>\n",
       "      <td>True</td>\n",
       "      <td>True</td>\n",
       "      <td>False</td>\n",
       "      <td>True</td>\n",
       "      <td>True</td>\n",
       "      <td>True</td>\n",
       "      <td>True</td>\n",
       "      <td>True</td>\n",
       "      <td>True</td>\n",
       "      <td>True</td>\n",
       "      <td>True</td>\n",
       "      <td>True</td>\n",
       "      <td>True</td>\n",
       "      <td>True</td>\n",
       "      <td>True</td>\n",
       "      <td>True</td>\n",
       "      <td>True</td>\n",
       "      <td>True</td>\n",
       "      <td>True</td>\n",
       "      <td>True</td>\n",
       "      <td>1</td>\n",
       "    </tr>\n",
       "    <tr>\n",
       "      <th>4</th>\n",
       "      <td>5</td>\n",
       "      <td>40</td>\n",
       "      <td>0</td>\n",
       "      <td>6</td>\n",
       "      <td>0</td>\n",
       "      <td>0</td>\n",
       "      <td>1</td>\n",
       "      <td>9</td>\n",
       "      <td>True</td>\n",
       "      <td>False</td>\n",
       "      <td>True</td>\n",
       "      <td>False</td>\n",
       "      <td>False</td>\n",
       "      <td>False</td>\n",
       "      <td>True</td>\n",
       "      <td>False</td>\n",
       "      <td>True</td>\n",
       "      <td>False</td>\n",
       "      <td>False</td>\n",
       "      <td>False</td>\n",
       "      <td>False</td>\n",
       "      <td>False</td>\n",
       "      <td>False</td>\n",
       "      <td>False</td>\n",
       "      <td>True</td>\n",
       "      <td>...</td>\n",
       "      <td>True</td>\n",
       "      <td>True</td>\n",
       "      <td>True</td>\n",
       "      <td>True</td>\n",
       "      <td>True</td>\n",
       "      <td>True</td>\n",
       "      <td>True</td>\n",
       "      <td>True</td>\n",
       "      <td>True</td>\n",
       "      <td>True</td>\n",
       "      <td>True</td>\n",
       "      <td>True</td>\n",
       "      <td>True</td>\n",
       "      <td>True</td>\n",
       "      <td>True</td>\n",
       "      <td>True</td>\n",
       "      <td>True</td>\n",
       "      <td>True</td>\n",
       "      <td>True</td>\n",
       "      <td>True</td>\n",
       "      <td>True</td>\n",
       "      <td>True</td>\n",
       "      <td>True</td>\n",
       "      <td>False</td>\n",
       "      <td>0</td>\n",
       "    </tr>\n",
       "  </tbody>\n",
       "</table>\n",
       "<p>5 rows × 65 columns</p>\n",
       "</div>"
      ],
      "text/plain": [
       "   time_in_hospital  num_lab_procedures  num_procedures  num_medications  \\\n",
       "0                14                  41               0               11   \n",
       "1                 2                  30               0               12   \n",
       "2                 5                  66               0               22   \n",
       "3                 3                  63               0                8   \n",
       "4                 5                  40               0                6   \n",
       "\n",
       "   number_outpatient  number_emergency  number_inpatient  number_diagnoses  \\\n",
       "0                  0                 0                 0                 6   \n",
       "1                  0                 0                 1                 9   \n",
       "2                  1                 0                 2                 9   \n",
       "3                  0                 0                 0                 8   \n",
       "4                  0                 0                 1                 9   \n",
       "\n",
       "   race_Caucasian  race_AfricanAmerican  gender_Female  age_[70-80)  \\\n",
       "0            True                 False          False        False   \n",
       "1            True                 False           True        False   \n",
       "2            True                 False           True        False   \n",
       "3            True                 False           True        False   \n",
       "4            True                 False           True        False   \n",
       "\n",
       "   age_[60-70)  age_[50-60)  age_[80-90)  age_[40-50)  payer_code_?  \\\n",
       "0        False         True        False        False         False   \n",
       "1        False         True        False        False         False   \n",
       "2        False        False         True        False         False   \n",
       "3        False         True        False        False          True   \n",
       "4        False        False         True        False          True   \n",
       "\n",
       "   payer_code_MC  payer_code_HM  payer_code_SP  payer_code_BC  \\\n",
       "0          False          False           True          False   \n",
       "1          False          False           True          False   \n",
       "2           True          False          False          False   \n",
       "3          False          False          False          False   \n",
       "4          False          False          False          False   \n",
       "\n",
       "   medical_specialty_?  medical_specialty_InternalMedicine  \\\n",
       "0                 True                               False   \n",
       "1                 True                               False   \n",
       "2                 True                               False   \n",
       "3                 True                               False   \n",
       "4                False                               False   \n",
       "\n",
       "   medical_specialty_Emergency/Trauma  \\\n",
       "0                               False   \n",
       "1                               False   \n",
       "2                               False   \n",
       "3                               False   \n",
       "4                               False   \n",
       "\n",
       "   medical_specialty_Family/GeneralPractice  ...  repaglinide_No  \\\n",
       "0                                     False  ...            True   \n",
       "1                                     False  ...            True   \n",
       "2                                     False  ...            True   \n",
       "3                                     False  ...            True   \n",
       "4                                      True  ...            True   \n",
       "\n",
       "   nateglinide_No  chlorpropamide_No  glimepiride_No  acetohexamide_No  \\\n",
       "0            True               True            True              True   \n",
       "1            True               True            True              True   \n",
       "2            True               True            True              True   \n",
       "3            True               True            True              True   \n",
       "4            True               True            True              True   \n",
       "\n",
       "   glipizide_No  glyburide_No  tolbutamide_No  pioglitazone_No  \\\n",
       "0         False          True            True             True   \n",
       "1          True          True            True            False   \n",
       "2          True          True            True             True   \n",
       "3          True         False            True             True   \n",
       "4          True          True            True             True   \n",
       "\n",
       "   rosiglitazone_No  acarbose_No  miglitol_No  troglitazone_No  tolazamide_No  \\\n",
       "0              True         True         True             True           True   \n",
       "1              True         True         True             True           True   \n",
       "2              True         True         True             True           True   \n",
       "3              True         True         True             True           True   \n",
       "4              True         True         True             True           True   \n",
       "\n",
       "   examide_No  citoglipton_No  insulin_No  glyburide-metformin_No  \\\n",
       "0        True            True        True                    True   \n",
       "1        True            True       False                    True   \n",
       "2        True            True        True                    True   \n",
       "3        True            True        True                    True   \n",
       "4        True            True        True                    True   \n",
       "\n",
       "   glipizide-metformin_No  glimepiride-pioglitazone_No  \\\n",
       "0                    True                         True   \n",
       "1                    True                         True   \n",
       "2                    True                         True   \n",
       "3                    True                         True   \n",
       "4                    True                         True   \n",
       "\n",
       "   metformin-rosiglitazone_No  metformin-pioglitazone_No  change_No  \\\n",
       "0                        True                       True       True   \n",
       "1                        True                       True      False   \n",
       "2                        True                       True       True   \n",
       "3                        True                       True       True   \n",
       "4                        True                       True       True   \n",
       "\n",
       "   diabetesMed_Yes  readmitted  \n",
       "0             True           0  \n",
       "1             True           1  \n",
       "2             True           1  \n",
       "3             True           1  \n",
       "4            False           0  \n",
       "\n",
       "[5 rows x 65 columns]"
      ]
     },
     "execution_count": 111,
     "metadata": {},
     "output_type": "execute_result"
    }
   ],
   "source": [
    "readmissions = read_files(raw_data)[1]\n",
    "readmissions.head()"
   ]
  },
  {
   "cell_type": "markdown",
   "id": "fluid-selling",
   "metadata": {},
   "source": [
    "# Data EDA & Preprocessing"
   ]
  },
  {
   "cell_type": "markdown",
   "id": "juvenile-boating",
   "metadata": {},
   "source": [
    "## Credit data"
   ]
  },
  {
   "cell_type": "code",
   "execution_count": 264,
   "id": "comparative-yield",
   "metadata": {
    "ExecuteTime": {
     "end_time": "2021-02-11T18:51:46.797185Z",
     "start_time": "2021-02-11T18:51:46.715973Z"
    }
   },
   "outputs": [
    {
     "name": "stdout",
     "output_type": "stream",
     "text": [
      "Dataset columns: ['Time', 'V1', 'V2', 'V3', 'V4', 'V5', 'V6', 'V7', 'V8', 'V9', 'V10', 'V11', 'V12', 'V13', 'V14', 'V15', 'V16', 'V17', 'V18', 'V19', 'V20', 'V21', 'V22', 'V23', 'V24', 'V25', 'V26', 'V27', 'V28', 'Amount']\n",
      "# of data columns:  30\n"
     ]
    },
    {
     "data": {
      "text/html": [
       "<div>\n",
       "<style scoped>\n",
       "    .dataframe tbody tr th:only-of-type {\n",
       "        vertical-align: middle;\n",
       "    }\n",
       "\n",
       "    .dataframe tbody tr th {\n",
       "        vertical-align: top;\n",
       "    }\n",
       "\n",
       "    .dataframe thead th {\n",
       "        text-align: right;\n",
       "    }\n",
       "</style>\n",
       "<table border=\"1\" class=\"dataframe\">\n",
       "  <thead>\n",
       "    <tr style=\"text-align: right;\">\n",
       "      <th></th>\n",
       "      <th>Time</th>\n",
       "      <th>V1</th>\n",
       "      <th>V2</th>\n",
       "      <th>V3</th>\n",
       "      <th>V4</th>\n",
       "      <th>V5</th>\n",
       "      <th>V6</th>\n",
       "      <th>V7</th>\n",
       "      <th>V8</th>\n",
       "      <th>V9</th>\n",
       "      <th>V10</th>\n",
       "      <th>V11</th>\n",
       "      <th>V12</th>\n",
       "      <th>V13</th>\n",
       "      <th>V14</th>\n",
       "      <th>V15</th>\n",
       "      <th>V16</th>\n",
       "      <th>V17</th>\n",
       "      <th>V18</th>\n",
       "      <th>V19</th>\n",
       "      <th>V20</th>\n",
       "      <th>V21</th>\n",
       "      <th>V22</th>\n",
       "      <th>V23</th>\n",
       "      <th>V24</th>\n",
       "      <th>V25</th>\n",
       "      <th>V26</th>\n",
       "      <th>V27</th>\n",
       "      <th>V28</th>\n",
       "      <th>Amount</th>\n",
       "      <th>Class</th>\n",
       "    </tr>\n",
       "  </thead>\n",
       "  <tbody>\n",
       "    <tr>\n",
       "      <th>0</th>\n",
       "      <td>0.0</td>\n",
       "      <td>-1.359807</td>\n",
       "      <td>-0.072781</td>\n",
       "      <td>2.536347</td>\n",
       "      <td>1.378155</td>\n",
       "      <td>-0.338321</td>\n",
       "      <td>0.462388</td>\n",
       "      <td>0.239599</td>\n",
       "      <td>0.098698</td>\n",
       "      <td>0.363787</td>\n",
       "      <td>0.090794</td>\n",
       "      <td>-0.551600</td>\n",
       "      <td>-0.617801</td>\n",
       "      <td>-0.991390</td>\n",
       "      <td>-0.311169</td>\n",
       "      <td>1.468177</td>\n",
       "      <td>-0.470401</td>\n",
       "      <td>0.207971</td>\n",
       "      <td>0.025791</td>\n",
       "      <td>0.403993</td>\n",
       "      <td>0.251412</td>\n",
       "      <td>-0.018307</td>\n",
       "      <td>0.277838</td>\n",
       "      <td>-0.110474</td>\n",
       "      <td>0.066928</td>\n",
       "      <td>0.128539</td>\n",
       "      <td>-0.189115</td>\n",
       "      <td>0.133558</td>\n",
       "      <td>-0.021053</td>\n",
       "      <td>149.62</td>\n",
       "      <td>0</td>\n",
       "    </tr>\n",
       "    <tr>\n",
       "      <th>1</th>\n",
       "      <td>0.0</td>\n",
       "      <td>1.191857</td>\n",
       "      <td>0.266151</td>\n",
       "      <td>0.166480</td>\n",
       "      <td>0.448154</td>\n",
       "      <td>0.060018</td>\n",
       "      <td>-0.082361</td>\n",
       "      <td>-0.078803</td>\n",
       "      <td>0.085102</td>\n",
       "      <td>-0.255425</td>\n",
       "      <td>-0.166974</td>\n",
       "      <td>1.612727</td>\n",
       "      <td>1.065235</td>\n",
       "      <td>0.489095</td>\n",
       "      <td>-0.143772</td>\n",
       "      <td>0.635558</td>\n",
       "      <td>0.463917</td>\n",
       "      <td>-0.114805</td>\n",
       "      <td>-0.183361</td>\n",
       "      <td>-0.145783</td>\n",
       "      <td>-0.069083</td>\n",
       "      <td>-0.225775</td>\n",
       "      <td>-0.638672</td>\n",
       "      <td>0.101288</td>\n",
       "      <td>-0.339846</td>\n",
       "      <td>0.167170</td>\n",
       "      <td>0.125895</td>\n",
       "      <td>-0.008983</td>\n",
       "      <td>0.014724</td>\n",
       "      <td>2.69</td>\n",
       "      <td>0</td>\n",
       "    </tr>\n",
       "    <tr>\n",
       "      <th>2</th>\n",
       "      <td>1.0</td>\n",
       "      <td>-1.358354</td>\n",
       "      <td>-1.340163</td>\n",
       "      <td>1.773209</td>\n",
       "      <td>0.379780</td>\n",
       "      <td>-0.503198</td>\n",
       "      <td>1.800499</td>\n",
       "      <td>0.791461</td>\n",
       "      <td>0.247676</td>\n",
       "      <td>-1.514654</td>\n",
       "      <td>0.207643</td>\n",
       "      <td>0.624501</td>\n",
       "      <td>0.066084</td>\n",
       "      <td>0.717293</td>\n",
       "      <td>-0.165946</td>\n",
       "      <td>2.345865</td>\n",
       "      <td>-2.890083</td>\n",
       "      <td>1.109969</td>\n",
       "      <td>-0.121359</td>\n",
       "      <td>-2.261857</td>\n",
       "      <td>0.524980</td>\n",
       "      <td>0.247998</td>\n",
       "      <td>0.771679</td>\n",
       "      <td>0.909412</td>\n",
       "      <td>-0.689281</td>\n",
       "      <td>-0.327642</td>\n",
       "      <td>-0.139097</td>\n",
       "      <td>-0.055353</td>\n",
       "      <td>-0.059752</td>\n",
       "      <td>378.66</td>\n",
       "      <td>0</td>\n",
       "    </tr>\n",
       "    <tr>\n",
       "      <th>3</th>\n",
       "      <td>1.0</td>\n",
       "      <td>-0.966272</td>\n",
       "      <td>-0.185226</td>\n",
       "      <td>1.792993</td>\n",
       "      <td>-0.863291</td>\n",
       "      <td>-0.010309</td>\n",
       "      <td>1.247203</td>\n",
       "      <td>0.237609</td>\n",
       "      <td>0.377436</td>\n",
       "      <td>-1.387024</td>\n",
       "      <td>-0.054952</td>\n",
       "      <td>-0.226487</td>\n",
       "      <td>0.178228</td>\n",
       "      <td>0.507757</td>\n",
       "      <td>-0.287924</td>\n",
       "      <td>-0.631418</td>\n",
       "      <td>-1.059647</td>\n",
       "      <td>-0.684093</td>\n",
       "      <td>1.965775</td>\n",
       "      <td>-1.232622</td>\n",
       "      <td>-0.208038</td>\n",
       "      <td>-0.108300</td>\n",
       "      <td>0.005274</td>\n",
       "      <td>-0.190321</td>\n",
       "      <td>-1.175575</td>\n",
       "      <td>0.647376</td>\n",
       "      <td>-0.221929</td>\n",
       "      <td>0.062723</td>\n",
       "      <td>0.061458</td>\n",
       "      <td>123.50</td>\n",
       "      <td>0</td>\n",
       "    </tr>\n",
       "    <tr>\n",
       "      <th>4</th>\n",
       "      <td>2.0</td>\n",
       "      <td>-1.158233</td>\n",
       "      <td>0.877737</td>\n",
       "      <td>1.548718</td>\n",
       "      <td>0.403034</td>\n",
       "      <td>-0.407193</td>\n",
       "      <td>0.095921</td>\n",
       "      <td>0.592941</td>\n",
       "      <td>-0.270533</td>\n",
       "      <td>0.817739</td>\n",
       "      <td>0.753074</td>\n",
       "      <td>-0.822843</td>\n",
       "      <td>0.538196</td>\n",
       "      <td>1.345852</td>\n",
       "      <td>-1.119670</td>\n",
       "      <td>0.175121</td>\n",
       "      <td>-0.451449</td>\n",
       "      <td>-0.237033</td>\n",
       "      <td>-0.038195</td>\n",
       "      <td>0.803487</td>\n",
       "      <td>0.408542</td>\n",
       "      <td>-0.009431</td>\n",
       "      <td>0.798278</td>\n",
       "      <td>-0.137458</td>\n",
       "      <td>0.141267</td>\n",
       "      <td>-0.206010</td>\n",
       "      <td>0.502292</td>\n",
       "      <td>0.219422</td>\n",
       "      <td>0.215153</td>\n",
       "      <td>69.99</td>\n",
       "      <td>0</td>\n",
       "    </tr>\n",
       "  </tbody>\n",
       "</table>\n",
       "</div>"
      ],
      "text/plain": [
       "   Time        V1        V2        V3        V4        V5        V6        V7  \\\n",
       "0   0.0 -1.359807 -0.072781  2.536347  1.378155 -0.338321  0.462388  0.239599   \n",
       "1   0.0  1.191857  0.266151  0.166480  0.448154  0.060018 -0.082361 -0.078803   \n",
       "2   1.0 -1.358354 -1.340163  1.773209  0.379780 -0.503198  1.800499  0.791461   \n",
       "3   1.0 -0.966272 -0.185226  1.792993 -0.863291 -0.010309  1.247203  0.237609   \n",
       "4   2.0 -1.158233  0.877737  1.548718  0.403034 -0.407193  0.095921  0.592941   \n",
       "\n",
       "         V8        V9       V10       V11       V12       V13       V14  \\\n",
       "0  0.098698  0.363787  0.090794 -0.551600 -0.617801 -0.991390 -0.311169   \n",
       "1  0.085102 -0.255425 -0.166974  1.612727  1.065235  0.489095 -0.143772   \n",
       "2  0.247676 -1.514654  0.207643  0.624501  0.066084  0.717293 -0.165946   \n",
       "3  0.377436 -1.387024 -0.054952 -0.226487  0.178228  0.507757 -0.287924   \n",
       "4 -0.270533  0.817739  0.753074 -0.822843  0.538196  1.345852 -1.119670   \n",
       "\n",
       "        V15       V16       V17       V18       V19       V20       V21  \\\n",
       "0  1.468177 -0.470401  0.207971  0.025791  0.403993  0.251412 -0.018307   \n",
       "1  0.635558  0.463917 -0.114805 -0.183361 -0.145783 -0.069083 -0.225775   \n",
       "2  2.345865 -2.890083  1.109969 -0.121359 -2.261857  0.524980  0.247998   \n",
       "3 -0.631418 -1.059647 -0.684093  1.965775 -1.232622 -0.208038 -0.108300   \n",
       "4  0.175121 -0.451449 -0.237033 -0.038195  0.803487  0.408542 -0.009431   \n",
       "\n",
       "        V22       V23       V24       V25       V26       V27       V28  \\\n",
       "0  0.277838 -0.110474  0.066928  0.128539 -0.189115  0.133558 -0.021053   \n",
       "1 -0.638672  0.101288 -0.339846  0.167170  0.125895 -0.008983  0.014724   \n",
       "2  0.771679  0.909412 -0.689281 -0.327642 -0.139097 -0.055353 -0.059752   \n",
       "3  0.005274 -0.190321 -1.175575  0.647376 -0.221929  0.062723  0.061458   \n",
       "4  0.798278 -0.137458  0.141267 -0.206010  0.502292  0.219422  0.215153   \n",
       "\n",
       "   Amount  Class  \n",
       "0  149.62      0  \n",
       "1    2.69      0  \n",
       "2  378.66      0  \n",
       "3  123.50      0  \n",
       "4   69.99      0  "
      ]
     },
     "execution_count": 264,
     "metadata": {},
     "output_type": "execute_result"
    }
   ],
   "source": [
    "data = credit_fraud.copy()\n",
    "data_cols = list(data.columns[ data.columns != 'Class'])\n",
    "label_cols = ['Class']\n",
    "\n",
    "print('Dataset columns: {}'.format(data_cols))\n",
    "print('# of data columns: ',len(data_cols))\n",
    "data.head()"
   ]
  },
  {
   "cell_type": "code",
   "execution_count": 265,
   "id": "grateful-thunder",
   "metadata": {
    "ExecuteTime": {
     "end_time": "2021-02-11T18:51:48.111485Z",
     "start_time": "2021-02-11T18:51:48.055373Z"
    }
   },
   "outputs": [
    {
     "data": {
      "text/plain": [
       "Class\n",
       "0    284315\n",
       "1       492\n",
       "Name: Class, dtype: int64"
      ]
     },
     "execution_count": 265,
     "metadata": {},
     "output_type": "execute_result"
    }
   ],
   "source": [
    "# 284315 normal transactions (class 0)\n",
    "# 492 fraud transactions (class 1)\n",
    "\n",
    "data.groupby('Class')['Class'].count()"
   ]
  },
  {
   "cell_type": "code",
   "execution_count": 266,
   "id": "chemical-portland",
   "metadata": {
    "ExecuteTime": {
     "end_time": "2021-02-11T18:51:50.475593Z",
     "start_time": "2021-02-11T18:51:50.406947Z"
    }
   },
   "outputs": [
    {
     "data": {
      "text/plain": [
       "0"
      ]
     },
     "execution_count": 266,
     "metadata": {},
     "output_type": "execute_result"
    }
   ],
   "source": [
    "# Total nulls in dataset (sum over rows, then over columns)\n",
    "\n",
    "data.isnull().sum().sum()"
   ]
  },
  {
   "cell_type": "code",
   "execution_count": 267,
   "id": "boring-ribbon",
   "metadata": {
    "ExecuteTime": {
     "end_time": "2021-02-11T18:51:51.963010Z",
     "start_time": "2021-02-11T18:51:51.429118Z"
    }
   },
   "outputs": [
    {
     "name": "stdout",
     "output_type": "stream",
     "text": [
      "Normal duplicates 1062\n",
      "Fraud duplicates 19\n",
      "Total duplicates 1081\n",
      "Fraction duplicated 0.00379555277784605\n"
     ]
    }
   ],
   "source": [
    "# Duplicates? Yes\n",
    "\n",
    "normal_duplicates = sum( data.loc[ data.Class==0 ].duplicated() )\n",
    "fraud_duplicates = sum( data.loc[ data.Class==1 ].duplicated() )\n",
    "total_duplicates = normal_duplicates + fraud_duplicates\n",
    "\n",
    "print( 'Normal duplicates', normal_duplicates )\n",
    "print( 'Fraud duplicates', fraud_duplicates )\n",
    "print( 'Total duplicates', total_duplicates )\n",
    "print( 'Fraction duplicated', total_duplicates / len(data) )"
   ]
  },
  {
   "cell_type": "code",
   "execution_count": 268,
   "id": "large-assurance",
   "metadata": {
    "ExecuteTime": {
     "end_time": "2021-02-11T18:51:56.305357Z",
     "start_time": "2021-02-11T18:51:56.053563Z"
    }
   },
   "outputs": [
    {
     "name": "stdout",
     "output_type": "stream",
     "text": [
      "Last time value: 48.00\n"
     ]
    },
    {
     "data": {
      "text/plain": [
       "<matplotlib.legend.Legend at 0x7f83a13942b0>"
      ]
     },
     "execution_count": 268,
     "metadata": {},
     "output_type": "execute_result"
    },
    {
     "data": {
      "image/png": "[encoded data removed]",
      "text/plain": [
       "<Figure size 432x288 with 1 Axes>"
      ]
     },
     "metadata": {},
     "output_type": "display_data"
    }
   ],
   "source": [
    "# 'Time' is seconds from first transaction in set\n",
    "# 48 hours worth of data\n",
    "# Let's convert time to time of day, in hours\n",
    "\n",
    "print( 'Last time value: {:.2f}'.format( data['Time'].max() / 3600 ) )\n",
    "\n",
    "data['Time'] = ( data['Time'].values / 3600 ) % 24\n",
    "\n",
    "_ = plt.hist( [ data.loc[ data['Class']==0, 'Time'], data.loc[ data['Class']==1, 'Time'] ],\n",
    "         density=True, label=['normal','fraud'], bins=np.linspace(0,24,25))\n",
    "plt.legend()\n",
    "plt.show()\n",
    "\n",
    "# Looks like normal transactions have a bias towards 8am to midnight\n",
    "# Fraud has spikes at 2-3am and noon"
   ]
  },
  {
   "cell_type": "code",
   "execution_count": 166,
   "id": "returning-scientist",
   "metadata": {
    "ExecuteTime": {
     "end_time": "2021-02-11T16:51:00.724599Z",
     "start_time": "2021-02-11T16:51:00.535196Z"
    }
   },
   "outputs": [
    {
     "data": {
      "text/plain": [
       "Time      -0.499981\n",
       "V1        -3.280667\n",
       "V2        -4.624866\n",
       "V3        -2.240155\n",
       "V4         0.676292\n",
       "            ...    \n",
       "V26        0.576693\n",
       "V27       -1.170209\n",
       "V28       11.192091\n",
       "Amount    16.977724\n",
       "Class     23.997579\n",
       "Length: 31, dtype: float64"
      ]
     },
     "execution_count": 166,
     "metadata": {},
     "output_type": "execute_result"
    }
   ],
   "source": [
    "# several columns heavily skewed, 'Amount' the highest (besides Class)\n",
    "\n",
    "data.skew()"
   ]
  },
  {
   "cell_type": "code",
   "execution_count": 269,
   "id": "tender-collective",
   "metadata": {
    "ExecuteTime": {
     "end_time": "2021-02-11T18:52:03.139036Z",
     "start_time": "2021-02-11T18:52:02.815861Z"
    }
   },
   "outputs": [
    {
     "data": {
      "image/png": "[encoded data removed]",
      "text/plain": [
       "<Figure size 1008x360 with 2 Axes>"
      ]
     },
     "metadata": {},
     "output_type": "display_data"
    }
   ],
   "source": [
    "#Example of skewed feature\n",
    "\n",
    "_ = plt.figure(figsize=(14,5))\n",
    "_ = plt.subplot(1,2,1);\n",
    "_ = plt.hist(data['Amount'], bins=40)\n",
    "_ = plt.title('Original Amount Distribution')\n",
    "\n",
    "_ = plt.subplot(1,2,2)\n",
    "d0 = np.log10( data['Amount'].values + 1 )\n",
    "# d0 = np.log1p( data['Amount'].values ) / np.log(10)\n",
    "_ = plt.hist( d0, bins=40 )\n",
    "_ = plt.title('Log10(x+1) Transformed Amount Distribution')\n",
    "plt.show()"
   ]
  },
  {
   "cell_type": "code",
   "execution_count": 270,
   "id": "eleven-gospel",
   "metadata": {
    "ExecuteTime": {
     "end_time": "2021-02-11T18:52:03.860328Z",
     "start_time": "2021-02-11T18:52:03.808856Z"
    }
   },
   "outputs": [],
   "source": [
    "# Use log transformed data\n",
    "\n",
    "data['Amount'] = d0"
   ]
  },
  {
   "cell_type": "code",
   "execution_count": 271,
   "id": "micro-alpha",
   "metadata": {
    "ExecuteTime": {
     "end_time": "2021-02-11T18:52:09.771500Z",
     "start_time": "2021-02-11T18:52:09.374645Z"
    }
   },
   "outputs": [
    {
     "data": {
      "text/html": [
       "<div>\n",
       "<style scoped>\n",
       "    .dataframe tbody tr th:only-of-type {\n",
       "        vertical-align: middle;\n",
       "    }\n",
       "\n",
       "    .dataframe tbody tr th {\n",
       "        vertical-align: top;\n",
       "    }\n",
       "\n",
       "    .dataframe thead th {\n",
       "        text-align: right;\n",
       "    }\n",
       "</style>\n",
       "<table border=\"1\" class=\"dataframe\">\n",
       "  <thead>\n",
       "    <tr style=\"text-align: right;\">\n",
       "      <th></th>\n",
       "      <th>Time</th>\n",
       "      <th>V1</th>\n",
       "      <th>V2</th>\n",
       "      <th>V3</th>\n",
       "      <th>V4</th>\n",
       "      <th>V5</th>\n",
       "      <th>V6</th>\n",
       "      <th>V7</th>\n",
       "      <th>V8</th>\n",
       "      <th>V9</th>\n",
       "      <th>V10</th>\n",
       "      <th>V11</th>\n",
       "      <th>V12</th>\n",
       "      <th>V13</th>\n",
       "      <th>V14</th>\n",
       "      <th>V15</th>\n",
       "      <th>V16</th>\n",
       "      <th>V17</th>\n",
       "      <th>V18</th>\n",
       "      <th>V19</th>\n",
       "      <th>V20</th>\n",
       "      <th>V21</th>\n",
       "      <th>V22</th>\n",
       "      <th>V23</th>\n",
       "      <th>V24</th>\n",
       "      <th>V25</th>\n",
       "      <th>V26</th>\n",
       "      <th>V27</th>\n",
       "      <th>V28</th>\n",
       "      <th>Amount</th>\n",
       "    </tr>\n",
       "  </thead>\n",
       "  <tbody>\n",
       "    <tr>\n",
       "      <th>min</th>\n",
       "      <td>0.025833</td>\n",
       "      <td>-16.044343</td>\n",
       "      <td>-15.126221</td>\n",
       "      <td>-9.870326</td>\n",
       "      <td>-4.163262</td>\n",
       "      <td>-9.408512</td>\n",
       "      <td>-5.290163</td>\n",
       "      <td>-9.365179</td>\n",
       "      <td>-13.102174</td>\n",
       "      <td>-3.305247</td>\n",
       "      <td>-5.209875</td>\n",
       "      <td>-2.739511</td>\n",
       "      <td>-5.702560</td>\n",
       "      <td>-3.103261</td>\n",
       "      <td>-7.342516</td>\n",
       "      <td>-3.185304</td>\n",
       "      <td>-4.028148</td>\n",
       "      <td>-5.702709</td>\n",
       "      <td>-3.351918</td>\n",
       "      <td>-2.981355</td>\n",
       "      <td>-6.621889</td>\n",
       "      <td>-5.490204</td>\n",
       "      <td>-3.119845</td>\n",
       "      <td>-5.452756</td>\n",
       "      <td>-2.001248</td>\n",
       "      <td>-2.403083</td>\n",
       "      <td>-1.276676</td>\n",
       "      <td>-3.823857</td>\n",
       "      <td>-2.629030</td>\n",
       "      <td>0.000000</td>\n",
       "    </tr>\n",
       "    <tr>\n",
       "      <th>max</th>\n",
       "      <td>23.965278</td>\n",
       "      <td>2.344685</td>\n",
       "      <td>7.852129</td>\n",
       "      <td>3.387393</td>\n",
       "      <td>6.235906</td>\n",
       "      <td>8.074611</td>\n",
       "      <td>6.164944</td>\n",
       "      <td>7.972745</td>\n",
       "      <td>6.135087</td>\n",
       "      <td>5.960836</td>\n",
       "      <td>9.134652</td>\n",
       "      <td>3.841478</td>\n",
       "      <td>2.739501</td>\n",
       "      <td>3.237774</td>\n",
       "      <td>3.865350</td>\n",
       "      <td>2.634778</td>\n",
       "      <td>2.709683</td>\n",
       "      <td>4.054770</td>\n",
       "      <td>2.674716</td>\n",
       "      <td>3.390209</td>\n",
       "      <td>5.809376</td>\n",
       "      <td>7.879007</td>\n",
       "      <td>2.260348</td>\n",
       "      <td>4.759942</td>\n",
       "      <td>1.246819</td>\n",
       "      <td>1.873743</td>\n",
       "      <td>2.251097</td>\n",
       "      <td>2.607462</td>\n",
       "      <td>2.095818</td>\n",
       "      <td>3.477266</td>\n",
       "    </tr>\n",
       "    <tr>\n",
       "      <th>mean</th>\n",
       "      <td>14.543063</td>\n",
       "      <td>0.020195</td>\n",
       "      <td>0.012756</td>\n",
       "      <td>0.011923</td>\n",
       "      <td>-0.003827</td>\n",
       "      <td>0.002532</td>\n",
       "      <td>-0.000677</td>\n",
       "      <td>0.001153</td>\n",
       "      <td>0.011022</td>\n",
       "      <td>-0.002363</td>\n",
       "      <td>-0.001320</td>\n",
       "      <td>-0.003055</td>\n",
       "      <td>0.006787</td>\n",
       "      <td>-0.000105</td>\n",
       "      <td>0.005590</td>\n",
       "      <td>0.000326</td>\n",
       "      <td>0.003794</td>\n",
       "      <td>0.007291</td>\n",
       "      <td>0.001926</td>\n",
       "      <td>-0.000329</td>\n",
       "      <td>0.002214</td>\n",
       "      <td>-0.002930</td>\n",
       "      <td>0.001083</td>\n",
       "      <td>0.002081</td>\n",
       "      <td>0.000089</td>\n",
       "      <td>0.000504</td>\n",
       "      <td>-0.001117</td>\n",
       "      <td>0.001314</td>\n",
       "      <td>-0.000914</td>\n",
       "      <td>1.375513</td>\n",
       "    </tr>\n",
       "    <tr>\n",
       "      <th>stdev</th>\n",
       "      <td>5.827070</td>\n",
       "      <td>1.814661</td>\n",
       "      <td>1.429787</td>\n",
       "      <td>1.419404</td>\n",
       "      <td>1.383725</td>\n",
       "      <td>1.208541</td>\n",
       "      <td>1.263637</td>\n",
       "      <td>1.018486</td>\n",
       "      <td>0.956445</td>\n",
       "      <td>1.064801</td>\n",
       "      <td>0.981458</td>\n",
       "      <td>0.996518</td>\n",
       "      <td>0.935579</td>\n",
       "      <td>0.984448</td>\n",
       "      <td>0.882351</td>\n",
       "      <td>0.904186</td>\n",
       "      <td>0.833654</td>\n",
       "      <td>0.720282</td>\n",
       "      <td>0.817122</td>\n",
       "      <td>0.798721</td>\n",
       "      <td>0.595668</td>\n",
       "      <td>0.550113</td>\n",
       "      <td>0.704365</td>\n",
       "      <td>0.433626</td>\n",
       "      <td>0.596816</td>\n",
       "      <td>0.505554</td>\n",
       "      <td>0.474011</td>\n",
       "      <td>0.330955</td>\n",
       "      <td>0.223416</td>\n",
       "      <td>0.710045</td>\n",
       "    </tr>\n",
       "  </tbody>\n",
       "</table>\n",
       "</div>"
      ],
      "text/plain": [
       "            Time         V1         V2        V3        V4        V5  \\\n",
       "min     0.025833 -16.044343 -15.126221 -9.870326 -4.163262 -9.408512   \n",
       "max    23.965278   2.344685   7.852129  3.387393  6.235906  8.074611   \n",
       "mean   14.543063   0.020195   0.012756  0.011923 -0.003827  0.002532   \n",
       "stdev   5.827070   1.814661   1.429787  1.419404  1.383725  1.208541   \n",
       "\n",
       "             V6        V7         V8        V9       V10       V11       V12  \\\n",
       "min   -5.290163 -9.365179 -13.102174 -3.305247 -5.209875 -2.739511 -5.702560   \n",
       "max    6.164944  7.972745   6.135087  5.960836  9.134652  3.841478  2.739501   \n",
       "mean  -0.000677  0.001153   0.011022 -0.002363 -0.001320 -0.003055  0.006787   \n",
       "stdev  1.263637  1.018486   0.956445  1.064801  0.981458  0.996518  0.935579   \n",
       "\n",
       "            V13       V14       V15       V16       V17       V18       V19  \\\n",
       "min   -3.103261 -7.342516 -3.185304 -4.028148 -5.702709 -3.351918 -2.981355   \n",
       "max    3.237774  3.865350  2.634778  2.709683  4.054770  2.674716  3.390209   \n",
       "mean  -0.000105  0.005590  0.000326  0.003794  0.007291  0.001926 -0.000329   \n",
       "stdev  0.984448  0.882351  0.904186  0.833654  0.720282  0.817122  0.798721   \n",
       "\n",
       "            V20       V21       V22       V23       V24       V25       V26  \\\n",
       "min   -6.621889 -5.490204 -3.119845 -5.452756 -2.001248 -2.403083 -1.276676   \n",
       "max    5.809376  7.879007  2.260348  4.759942  1.246819  1.873743  2.251097   \n",
       "mean   0.002214 -0.002930  0.001083  0.002081  0.000089  0.000504 -0.001117   \n",
       "stdev  0.595668  0.550113  0.704365  0.433626  0.596816  0.505554  0.474011   \n",
       "\n",
       "            V27       V28    Amount  \n",
       "min   -3.823857 -2.629030  0.000000  \n",
       "max    2.607462  2.095818  3.477266  \n",
       "mean   0.001314 -0.000914  1.375513  \n",
       "stdev  0.330955  0.223416  0.710045  "
      ]
     },
     "execution_count": 271,
     "metadata": {},
     "output_type": "execute_result"
    }
   ],
   "source": [
    "# Center and scale all data, only using the middle 99.8%, so outliers don't pull too much.\n",
    "# First generate the percentile data for each feature\n",
    "\n",
    "percentiles =  pd.DataFrame( np.array([ np.percentile( data[i], [ 0.1, 99.9 ] ) for i in data_cols ]).T,\n",
    "                            columns=data_cols, index=['min','max'] )\n",
    "\n",
    "percentile_means = \\\n",
    "    [ [ np.mean( data.loc[ (data[i]>percentiles[i]['min']) & (data[i]<percentiles[i]['max']) , i ] ) ]\n",
    "     for i in data_cols ]\n",
    "\n",
    "percentiles = percentiles.append( pd.DataFrame(np.array(percentile_means).T, columns=data_cols, index=['mean']) )\n",
    "\n",
    "percentile_stds = \\\n",
    "    [ [ np.std( data.loc[ (data[i]>percentiles[i]['min']) & (data[i]<percentiles[i]['max']) , i ] ) ]\n",
    "     for i in data_cols ]\n",
    "\n",
    "percentiles = percentiles.append( pd.DataFrame(np.array(percentile_stds).T, columns=data_cols, index=['stdev']) )\n",
    "\n",
    "percentiles\n"
   ]
  },
  {
   "cell_type": "code",
   "execution_count": 272,
   "id": "spread-quality",
   "metadata": {
    "ExecuteTime": {
     "end_time": "2021-02-11T18:52:10.909750Z",
     "start_time": "2021-02-11T18:52:10.791724Z"
    }
   },
   "outputs": [],
   "source": [
    "# Center and scale the data using the percentile data we just generated\n",
    "\n",
    "data[data_cols] = ( data[data_cols] - percentiles.loc[ 'mean', data_cols ] ) / percentiles.loc[ 'stdev', data_cols ]"
   ]
  },
  {
   "cell_type": "code",
   "execution_count": 273,
   "id": "productive-coating",
   "metadata": {
    "ExecuteTime": {
     "end_time": "2021-02-11T18:52:12.449434Z",
     "start_time": "2021-02-11T18:52:11.681107Z"
    }
   },
   "outputs": [
    {
     "data": {
      "image/png": "[encoded data removed]",
      "text/plain": [
       "<Figure size 432x288 with 1 Axes>"
      ]
     },
     "metadata": {},
     "output_type": "display_data"
    }
   ],
   "source": [
    "# There are outliers, 50-100 stdevs away from mean in several columns\n",
    "\n",
    "plot_cols = data_cols\n",
    "# plt.plot( np.log10( data[ plot_cols ].abs().max().values ) )\n",
    "# plt.plot( data[ plot_cols ].abs().max().values / data[ plot_cols ].std().values / 10, label='max z/10' )\n",
    "plt.plot( data.loc[ data.Class==1, plot_cols ].abs().max().values / data[ plot_cols ].std().values / 10, label='fraud max z/10' )\n",
    "plt.plot( data.loc[ data.Class==0, plot_cols ].abs().max().values / data[ plot_cols ].std().values / 10, label='real max z/10' )\n",
    "plt.plot( data[ plot_cols ].mean().values, label='mean' )\n",
    "# plt.plot( data[ plot_cols ].abs().mean().values, label='abs mean' )\n",
    "plt.plot( data[ plot_cols ].std().values, label='std' )\n",
    "plt.xlabel('Feature')\n",
    "plt.ylabel('z/10')\n",
    "plt.legend() ; "
   ]
  },
  {
   "cell_type": "code",
   "execution_count": 274,
   "id": "prompt-hindu",
   "metadata": {
    "ExecuteTime": {
     "end_time": "2021-02-11T18:53:05.843516Z",
     "start_time": "2021-02-11T18:52:56.163216Z"
    }
   },
   "outputs": [
    {
     "data": {
      "text/html": [
       "<div>\n",
       "<style scoped>\n",
       "    .dataframe tbody tr th:only-of-type {\n",
       "        vertical-align: middle;\n",
       "    }\n",
       "\n",
       "    .dataframe tbody tr th {\n",
       "        vertical-align: top;\n",
       "    }\n",
       "\n",
       "    .dataframe thead th {\n",
       "        text-align: right;\n",
       "    }\n",
       "</style>\n",
       "<table border=\"1\" class=\"dataframe\">\n",
       "  <thead>\n",
       "    <tr style=\"text-align: right;\">\n",
       "      <th></th>\n",
       "      <th>Time</th>\n",
       "      <th>V1</th>\n",
       "      <th>V2</th>\n",
       "      <th>V3</th>\n",
       "      <th>V4</th>\n",
       "      <th>V5</th>\n",
       "      <th>V6</th>\n",
       "      <th>V7</th>\n",
       "      <th>V8</th>\n",
       "      <th>V9</th>\n",
       "      <th>V10</th>\n",
       "      <th>V11</th>\n",
       "      <th>V12</th>\n",
       "      <th>V13</th>\n",
       "      <th>V14</th>\n",
       "      <th>V15</th>\n",
       "      <th>V16</th>\n",
       "      <th>V17</th>\n",
       "      <th>V18</th>\n",
       "      <th>V19</th>\n",
       "      <th>V20</th>\n",
       "      <th>V21</th>\n",
       "      <th>V22</th>\n",
       "      <th>V23</th>\n",
       "      <th>V24</th>\n",
       "      <th>V25</th>\n",
       "      <th>V26</th>\n",
       "      <th>V27</th>\n",
       "      <th>V28</th>\n",
       "      <th>Amount</th>\n",
       "      <th>Class</th>\n",
       "    </tr>\n",
       "  </thead>\n",
       "  <tbody>\n",
       "    <tr>\n",
       "      <th>0</th>\n",
       "      <td>-2.097892</td>\n",
       "      <td>-0.918361</td>\n",
       "      <td>-0.126941</td>\n",
       "      <td>2.179072</td>\n",
       "      <td>0.985929</td>\n",
       "      <td>-0.256348</td>\n",
       "      <td>0.453311</td>\n",
       "      <td>0.193567</td>\n",
       "      <td>0.019899</td>\n",
       "      <td>0.380248</td>\n",
       "      <td>0.127280</td>\n",
       "      <td>-0.513029</td>\n",
       "      <td>-0.773716</td>\n",
       "      <td>-0.997406</td>\n",
       "      <td>-0.404862</td>\n",
       "      <td>1.711526</td>\n",
       "      <td>-0.600737</td>\n",
       "      <td>0.215343</td>\n",
       "      <td>0.010324</td>\n",
       "      <td>0.503249</td>\n",
       "      <td>0.324326</td>\n",
       "      <td>-0.004980</td>\n",
       "      <td>0.366815</td>\n",
       "      <td>-0.190321</td>\n",
       "      <td>0.008864</td>\n",
       "      <td>0.209150</td>\n",
       "      <td>-0.320634</td>\n",
       "      <td>0.319677</td>\n",
       "      <td>-0.051441</td>\n",
       "      <td>1.116232</td>\n",
       "      <td>0</td>\n",
       "    </tr>\n",
       "    <tr>\n",
       "      <th>1</th>\n",
       "      <td>-2.097892</td>\n",
       "      <td>0.627278</td>\n",
       "      <td>0.097411</td>\n",
       "      <td>-0.030922</td>\n",
       "      <td>0.387996</td>\n",
       "      <td>0.031793</td>\n",
       "      <td>0.038355</td>\n",
       "      <td>-0.063818</td>\n",
       "      <td>0.006326</td>\n",
       "      <td>-0.184730</td>\n",
       "      <td>-0.114989</td>\n",
       "      <td>1.523893</td>\n",
       "      <td>1.297063</td>\n",
       "      <td>0.498809</td>\n",
       "      <td>-0.233321</td>\n",
       "      <td>0.674971</td>\n",
       "      <td>0.491301</td>\n",
       "      <td>-0.174764</td>\n",
       "      <td>-0.238217</td>\n",
       "      <td>-0.169665</td>\n",
       "      <td>-0.092147</td>\n",
       "      <td>-0.297283</td>\n",
       "      <td>-0.883694</td>\n",
       "      <td>0.152007</td>\n",
       "      <td>-0.639250</td>\n",
       "      <td>0.286009</td>\n",
       "      <td>0.356852</td>\n",
       "      <td>-0.041941</td>\n",
       "      <td>0.058518</td>\n",
       "      <td>-1.128782</td>\n",
       "      <td>0</td>\n",
       "    </tr>\n",
       "    <tr>\n",
       "      <th>2</th>\n",
       "      <td>-2.097861</td>\n",
       "      <td>-0.917772</td>\n",
       "      <td>-0.876575</td>\n",
       "      <td>1.379633</td>\n",
       "      <td>0.341674</td>\n",
       "      <td>-0.374776</td>\n",
       "      <td>1.327090</td>\n",
       "      <td>0.639733</td>\n",
       "      <td>0.171795</td>\n",
       "      <td>-1.453454</td>\n",
       "      <td>0.234507</td>\n",
       "      <td>0.640717</td>\n",
       "      <td>-0.106076</td>\n",
       "      <td>0.724944</td>\n",
       "      <td>-0.256407</td>\n",
       "      <td>2.871130</td>\n",
       "      <td>-2.809860</td>\n",
       "      <td>1.379931</td>\n",
       "      <td>-0.164889</td>\n",
       "      <td>-2.836166</td>\n",
       "      <td>0.681052</td>\n",
       "      <td>0.359178</td>\n",
       "      <td>1.069681</td>\n",
       "      <td>1.507168</td>\n",
       "      <td>-1.129176</td>\n",
       "      <td>-0.653908</td>\n",
       "      <td>-0.205645</td>\n",
       "      <td>-0.157419</td>\n",
       "      <td>-0.171327</td>\n",
       "      <td>1.629849</td>\n",
       "      <td>0</td>\n",
       "    </tr>\n",
       "    <tr>\n",
       "      <th>3</th>\n",
       "      <td>-2.097861</td>\n",
       "      <td>-0.751287</td>\n",
       "      <td>-0.198599</td>\n",
       "      <td>1.399416</td>\n",
       "      <td>-0.580509</td>\n",
       "      <td>-0.019312</td>\n",
       "      <td>0.984311</td>\n",
       "      <td>0.191959</td>\n",
       "      <td>0.308552</td>\n",
       "      <td>-1.319307</td>\n",
       "      <td>-0.008705</td>\n",
       "      <td>-0.179208</td>\n",
       "      <td>0.025795</td>\n",
       "      <td>0.517338</td>\n",
       "      <td>-0.381402</td>\n",
       "      <td>-0.720131</td>\n",
       "      <td>-1.192490</td>\n",
       "      <td>-0.825670</td>\n",
       "      <td>2.432502</td>\n",
       "      <td>-1.528564</td>\n",
       "      <td>-0.272131</td>\n",
       "      <td>-0.130886</td>\n",
       "      <td>-0.013017</td>\n",
       "      <td>-0.317606</td>\n",
       "      <td>-1.748833</td>\n",
       "      <td>1.279747</td>\n",
       "      <td>-0.397429</td>\n",
       "      <td>0.138793</td>\n",
       "      <td>0.200887</td>\n",
       "      <td>1.008889</td>\n",
       "      <td>0</td>\n",
       "    </tr>\n",
       "    <tr>\n",
       "      <th>4</th>\n",
       "      <td>-2.097829</td>\n",
       "      <td>-0.834752</td>\n",
       "      <td>0.531035</td>\n",
       "      <td>1.158863</td>\n",
       "      <td>0.357472</td>\n",
       "      <td>-0.305871</td>\n",
       "      <td>0.179725</td>\n",
       "      <td>0.479228</td>\n",
       "      <td>-0.331302</td>\n",
       "      <td>0.769637</td>\n",
       "      <td>0.718426</td>\n",
       "      <td>-0.798731</td>\n",
       "      <td>0.495542</td>\n",
       "      <td>1.343519</td>\n",
       "      <td>-1.166584</td>\n",
       "      <td>0.137789</td>\n",
       "      <td>-0.580778</td>\n",
       "      <td>-0.317908</td>\n",
       "      <td>-0.066081</td>\n",
       "      <td>0.986295</td>\n",
       "      <td>0.529106</td>\n",
       "      <td>0.007357</td>\n",
       "      <td>1.107968</td>\n",
       "      <td>-0.233433</td>\n",
       "      <td>0.140403</td>\n",
       "      <td>-0.431047</td>\n",
       "      <td>1.048430</td>\n",
       "      <td>0.541582</td>\n",
       "      <td>0.661431</td>\n",
       "      <td>0.688624</td>\n",
       "      <td>0</td>\n",
       "    </tr>\n",
       "  </tbody>\n",
       "</table>\n",
       "</div>"
      ],
      "text/plain": [
       "       Time        V1        V2        V3        V4        V5        V6  \\\n",
       "0 -2.097892 -0.918361 -0.126941  2.179072  0.985929 -0.256348  0.453311   \n",
       "1 -2.097892  0.627278  0.097411 -0.030922  0.387996  0.031793  0.038355   \n",
       "2 -2.097861 -0.917772 -0.876575  1.379633  0.341674 -0.374776  1.327090   \n",
       "3 -2.097861 -0.751287 -0.198599  1.399416 -0.580509 -0.019312  0.984311   \n",
       "4 -2.097829 -0.834752  0.531035  1.158863  0.357472 -0.305871  0.179725   \n",
       "\n",
       "         V7        V8        V9       V10       V11       V12       V13  \\\n",
       "0  0.193567  0.019899  0.380248  0.127280 -0.513029 -0.773716 -0.997406   \n",
       "1 -0.063818  0.006326 -0.184730 -0.114989  1.523893  1.297063  0.498809   \n",
       "2  0.639733  0.171795 -1.453454  0.234507  0.640717 -0.106076  0.724944   \n",
       "3  0.191959  0.308552 -1.319307 -0.008705 -0.179208  0.025795  0.517338   \n",
       "4  0.479228 -0.331302  0.769637  0.718426 -0.798731  0.495542  1.343519   \n",
       "\n",
       "        V14       V15       V16       V17       V18       V19       V20  \\\n",
       "0 -0.404862  1.711526 -0.600737  0.215343  0.010324  0.503249  0.324326   \n",
       "1 -0.233321  0.674971  0.491301 -0.174764 -0.238217 -0.169665 -0.092147   \n",
       "2 -0.256407  2.871130 -2.809860  1.379931 -0.164889 -2.836166  0.681052   \n",
       "3 -0.381402 -0.720131 -1.192490 -0.825670  2.432502 -1.528564 -0.272131   \n",
       "4 -1.166584  0.137789 -0.580778 -0.317908 -0.066081  0.986295  0.529106   \n",
       "\n",
       "        V21       V22       V23       V24       V25       V26       V27  \\\n",
       "0 -0.004980  0.366815 -0.190321  0.008864  0.209150 -0.320634  0.319677   \n",
       "1 -0.297283 -0.883694  0.152007 -0.639250  0.286009  0.356852 -0.041941   \n",
       "2  0.359178  1.069681  1.507168 -1.129176 -0.653908 -0.205645 -0.157419   \n",
       "3 -0.130886 -0.013017 -0.317606 -1.748833  1.279747 -0.397429  0.138793   \n",
       "4  0.007357  1.107968 -0.233433  0.140403 -0.431047  1.048430  0.541582   \n",
       "\n",
       "        V28    Amount  Class  \n",
       "0 -0.051441  1.116232      0  \n",
       "1  0.058518 -1.128782      0  \n",
       "2 -0.171327  1.629849      0  \n",
       "3  0.200887  1.008889      0  \n",
       "4  0.661431  0.688624      0  "
      ]
     },
     "execution_count": 274,
     "metadata": {},
     "output_type": "execute_result"
    }
   ],
   "source": [
    "#Transform data to Gaussian\n",
    "\n",
    "data[data_cols] = PowerTransformer(method='yeo-johnson', standardize=True, copy=True).fit_transform(data[data_cols])\n",
    "\n",
    "data.head()"
   ]
  },
  {
   "cell_type": "markdown",
   "id": "fancy-origin",
   "metadata": {},
   "source": [
    "#### create data transformation function\n",
    "\n",
    "- need to work on this"
   ]
  },
  {
   "cell_type": "code",
   "execution_count": null,
   "id": "conscious-duration",
   "metadata": {},
   "outputs": [],
   "source": [
    "# def transformations(data):\n",
    "#     #Log transformation to Amount variable\n",
    "#     data_cols = list(data.columns[data.columns != 'Class'])\n",
    "  \n",
    "#     #data[data_cols] = StandardScaler().fit_transform(data[data_cols])\n",
    "#     data[data_cols] = PowerTransformer(method='yeo-johnson', standardize=True, copy=True).fit_transform(data[data_cols])\n",
    "    \n",
    "#     return data"
   ]
  },
  {
   "cell_type": "markdown",
   "id": "welsh-arlington",
   "metadata": {},
   "source": [
    "#### Data distributions by feature and class"
   ]
  },
  {
   "cell_type": "code",
   "execution_count": 275,
   "id": "metallic-kansas",
   "metadata": {
    "ExecuteTime": {
     "end_time": "2021-02-11T18:53:24.799291Z",
     "start_time": "2021-02-11T18:53:17.226064Z"
    }
   },
   "outputs": [
    {
     "data": {
      "text/plain": [
       "(array([[0.23132842, 0.10036743, 0.1150472 , 0.06825705, 0.07139353,\n",
       "         0.09995609, 0.17574584, 0.24965884, 0.38172531, 0.40134118,\n",
       "         0.39522247, 0.37002777, 0.32699112, 0.32958772, 0.33292987,\n",
       "         0.31814727, 0.29871137, 0.2999711 , 0.28194918, 0.27878699,\n",
       "         0.2872195 , 0.25066149, 0.26189626, 0.26523842, 0.2747507 ,\n",
       "         0.27999531, 0.21747134, 0.17847098, 0.15201655],\n",
       "        [0.10400013, 0.80228672, 0.32685755, 0.35657188, 0.20800026,\n",
       "         0.14857162, 0.28228607, 0.1931431 , 0.14857162, 0.1931431 ,\n",
       "         0.63885795, 0.32685755, 0.22285742, 0.23771458, 0.25257175,\n",
       "         0.25257175, 0.28228607, 0.25257175, 0.26742891, 0.29714323,\n",
       "         0.31200039, 0.25257175, 0.07428581, 0.1931431 , 0.20800026,\n",
       "         0.07428581, 0.05942865, 0.16342878, 0.16342878]]),\n",
       " array([-2.09495911, -1.95787641, -1.8207937 , -1.683711  , -1.54662829,\n",
       "        -1.40954559, -1.27246289, -1.13538018, -0.99829748, -0.86121477,\n",
       "        -0.72413207, -0.58704937, -0.44996666, -0.31288396, -0.17580125,\n",
       "        -0.03871855,  0.09836416,  0.23544686,  0.37252956,  0.50961227,\n",
       "         0.64669497,  0.78377768,  0.92086038,  1.05794308,  1.19502579,\n",
       "         1.33210849,  1.4691912 ,  1.6062739 ,  1.7433566 ,  1.88043931]),\n",
       " <a list of 2 BarContainer objects>)"
      ]
     },
     "execution_count": 275,
     "metadata": {},
     "output_type": "execute_result"
    },
    {
     "data": {
      "text/plain": [
       "Text(0.5, 0, 'Time')"
      ]
     },
     "execution_count": 275,
     "metadata": {},
     "output_type": "execute_result"
    },
    {
     "data": {
      "text/plain": [
       "(0.0, 0.8)"
      ]
     },
     "execution_count": 275,
     "metadata": {},
     "output_type": "execute_result"
    },
    {
     "data": {
      "text/plain": [
       "Text(0, 0.5, 'Fraction')"
      ]
     },
     "execution_count": 275,
     "metadata": {},
     "output_type": "execute_result"
    },
    {
     "data": {
      "text/plain": [
       "(array([[0.00134309, 0.00200543, 0.00283337, 0.00472841, 0.00618189,\n",
       "         0.00932803, 0.01164624, 0.01872965, 0.02369724, 0.03392679,\n",
       "         0.04901354, 0.07260039, 0.11515606, 0.18037866, 0.29570031,\n",
       "         0.48614294, 0.63237403, 0.51981215, 0.28162548, 0.09497293,\n",
       "         0.06255482, 0.12350897, 0.44998993, 0.5385602 , 0.12599277,\n",
       "         0.10168838, 0.35724321, 0.52080567, 0.09870782],\n",
       "        [0.11602774, 0.13923329, 0.09282219, 0.12763052, 0.05801387,\n",
       "         0.08121942, 0.15083606, 0.17404161, 0.26686381, 0.26686381,\n",
       "         0.26686381, 0.25526103, 0.3132749 , 0.41769987, 0.39449432,\n",
       "         0.39449432, 0.18564439, 0.19724716, 0.17404161, 0.26686381,\n",
       "         0.10442497, 0.15083606, 0.26686381, 0.18564439, 0.01160277,\n",
       "         0.01160277, 0.11602774, 0.03480832, 0.        ]]),\n",
       " array([-3.79076904, -3.59924396, -3.40771888, -3.2161938 , -3.02466873,\n",
       "        -2.83314365, -2.64161857, -2.45009349, -2.25856842, -2.06704334,\n",
       "        -1.87551826, -1.68399318, -1.49246811, -1.30094303, -1.10941795,\n",
       "        -0.91789287, -0.72636779, -0.53484272, -0.34331764, -0.15179256,\n",
       "         0.03973252,  0.23125759,  0.42278267,  0.61430775,  0.80583283,\n",
       "         0.9973579 ,  1.18888298,  1.38040806,  1.57193314,  1.76345822]),\n",
       " <a list of 2 BarContainer objects>)"
      ]
     },
     "execution_count": 275,
     "metadata": {},
     "output_type": "execute_result"
    },
    {
     "data": {
      "text/plain": [
       "Text(0.5, 0, 'V1')"
      ]
     },
     "execution_count": 275,
     "metadata": {},
     "output_type": "execute_result"
    },
    {
     "data": {
      "text/plain": [
       "(0.0, 0.8)"
      ]
     },
     "execution_count": 275,
     "metadata": {},
     "output_type": "execute_result"
    },
    {
     "data": {
      "text/plain": [
       "(array([[4.82925383e-04, 5.35745347e-04, 9.50759348e-04, 1.09412782e-03,\n",
       "         1.59969033e-03, 2.19580135e-03, 3.07864932e-03, 5.71964751e-03,\n",
       "         8.98693955e-03, 1.60723604e-02, 3.03111135e-02, 9.07446978e-02,\n",
       "         2.89196847e-01, 5.71655377e-01, 5.12074458e-01, 3.92927711e-01,\n",
       "         1.22813962e-01, 4.04450008e-02, 1.82907989e-02, 1.00659760e-02,\n",
       "         6.75340966e-03, 4.51987976e-03, 3.28238346e-03, 2.32407841e-03,\n",
       "         1.70533026e-03, 1.23749629e-03, 1.01867073e-03, 8.22482293e-04,\n",
       "         6.18748147e-04],\n",
       "        [0.00000000e+00, 0.00000000e+00, 0.00000000e+00, 0.00000000e+00,\n",
       "         0.00000000e+00, 4.98029085e-03, 1.99211634e-02, 0.00000000e+00,\n",
       "         9.96058170e-03, 1.99211634e-02, 2.98817451e-02, 2.49014543e-02,\n",
       "         5.97634902e-02, 9.96058170e-02, 1.44428435e-01, 2.58975124e-01,\n",
       "         2.68935706e-01, 1.84270762e-01, 2.19132797e-01, 2.09172216e-01,\n",
       "         1.14546690e-01, 1.14546690e-01, 5.97634902e-02, 6.47437811e-02,\n",
       "         4.48226177e-02, 4.48226177e-02, 3.48620360e-02, 7.96846536e-02,\n",
       "         2.98817451e-02]]),\n",
       " array([-6.60912316, -6.14216621, -5.67520927, -5.20825233, -4.74129538,\n",
       "        -4.27433844, -3.80738149, -3.34042455, -2.87346761, -2.40651066,\n",
       "        -1.93955372, -1.47259678, -1.00563983, -0.53868289, -0.07172594,\n",
       "         0.395231  ,  0.86218794,  1.32914489,  1.79610183,  2.26305877,\n",
       "         2.73001572,  3.19697266,  3.66392961,  4.13088655,  4.59784349,\n",
       "         5.06480044,  5.53175738,  5.99871433,  6.46567127,  6.93262821]),\n",
       " <a list of 2 BarContainer objects>)"
      ]
     },
     "execution_count": 275,
     "metadata": {},
     "output_type": "execute_result"
    },
    {
     "data": {
      "text/plain": [
       "Text(0.5, 0, 'V2')"
      ]
     },
     "execution_count": 275,
     "metadata": {},
     "output_type": "execute_result"
    },
    {
     "data": {
      "text/plain": [
       "(0.0, 0.8)"
      ]
     },
     "execution_count": 275,
     "metadata": {},
     "output_type": "execute_result"
    },
    {
     "data": {
      "text/plain": [
       "(array([[0.00090934, 0.00106323, 0.00151091, 0.0023503 , 0.00299384,\n",
       "         0.00535813, 0.0073307 , 0.0137101 , 0.02939277, 0.06169544,\n",
       "         0.12232764, 0.23571574, 0.29434739, 0.31466072, 0.36060353,\n",
       "         0.36989282, 0.41425478, 0.37024257, 0.32158572, 0.29420749,\n",
       "         0.24072412, 0.18149091, 0.11654982, 0.08228856, 0.05611347,\n",
       "         0.03426125, 0.02010348, 0.01053439, 0.00485449],\n",
       "        [0.12377372, 0.1340882 , 0.17534611, 0.16503163, 0.31974879,\n",
       "         0.43320804, 0.34037774, 0.34037774, 0.25786193, 0.21660402,\n",
       "         0.23723297, 0.21660402, 0.23723297, 0.18566059, 0.15471716,\n",
       "         0.11345925, 0.07220134, 0.05157239, 0.06188686, 0.08251582,\n",
       "         0.01031448, 0.        , 0.02062895, 0.02062895, 0.        ,\n",
       "         0.        , 0.        , 0.        , 0.        ]]),\n",
       " array([-4.15104756, -3.8992265 , -3.64740543, -3.39558437, -3.1437633 ,\n",
       "        -2.89194224, -2.64012117, -2.38830011, -2.13647904, -1.88465797,\n",
       "        -1.63283691, -1.38101584, -1.12919478, -0.87737371, -0.62555265,\n",
       "        -0.37373158, -0.12191052,  0.12991055,  0.38173161,  0.63355268,\n",
       "         0.88537374,  1.13719481,  1.38901587,  1.64083694,  1.892658  ,\n",
       "         2.14447907,  2.39630013,  2.6481212 ,  2.89994226,  3.15176333]),\n",
       " <a list of 2 BarContainer objects>)"
      ]
     },
     "execution_count": 275,
     "metadata": {},
     "output_type": "execute_result"
    },
    {
     "data": {
      "text/plain": [
       "Text(0.5, 0, 'V3')"
      ]
     },
     "execution_count": 275,
     "metadata": {},
     "output_type": "execute_result"
    },
    {
     "data": {
      "text/plain": [
       "(0.0, 0.8)"
      ]
     },
     "execution_count": 275,
     "metadata": {},
     "output_type": "execute_result"
    },
    {
     "data": {
      "text/plain": [
       "(array([[0.00359478, 0.0057488 , 0.00989991, 0.01686123, 0.02557715,\n",
       "         0.04218161, 0.06463473, 0.07193841, 0.10936978, 0.17952506,\n",
       "         0.20631474, 0.25880995, 0.44085992, 0.36076193, 0.40117468,\n",
       "         0.5242246 , 0.41344258, 0.33869397, 0.2424052 , 0.07410669,\n",
       "         0.04999884, 0.06824377, 0.03579089, 0.0400276 , 0.0326098 ,\n",
       "         0.02175413, 0.00786002, 0.00168327, 0.00138371],\n",
       "        [0.        , 0.        , 0.        , 0.        , 0.        ,\n",
       "         0.        , 0.        , 0.        , 0.        , 0.        ,\n",
       "         0.02237281, 0.        , 0.03355921, 0.05593201, 0.07830482,\n",
       "         0.15660964, 0.11186403, 0.20135525, 0.17898244, 0.27966007,\n",
       "         0.34677848, 0.34677848, 0.35796488, 0.29084647, 0.36915129,\n",
       "         0.26847366, 0.22372805, 0.38033769, 0.34677848]]),\n",
       " array([-3.54454264, -3.29759722, -3.05065179, -2.80370637, -2.55676094,\n",
       "        -2.30981552, -2.06287009, -1.81592467, -1.56897925, -1.32203382,\n",
       "        -1.0750884 , -0.82814297, -0.58119755, -0.33425212, -0.0873067 ,\n",
       "         0.15963873,  0.40658415,  0.65352958,  0.900475  ,  1.14742042,\n",
       "         1.39436585,  1.64131127,  1.8882567 ,  2.13520212,  2.38214755,\n",
       "         2.62909297,  2.8760384 ,  3.12298382,  3.36992925,  3.61687467]),\n",
       " <a list of 2 BarContainer objects>)"
      ]
     },
     "execution_count": 275,
     "metadata": {},
     "output_type": "execute_result"
    },
    {
     "data": {
      "text/plain": [
       "Text(0.5, 0, 'V4')"
      ]
     },
     "execution_count": 275,
     "metadata": {},
     "output_type": "execute_result"
    },
    {
     "data": {
      "text/plain": [
       "(0.0, 0.8)"
      ]
     },
     "execution_count": 275,
     "metadata": {},
     "output_type": "execute_result"
    },
    {
     "data": {
      "text/plain": [
       "Text(0, 0.5, 'Fraction')"
      ]
     },
     "execution_count": 275,
     "metadata": {},
     "output_type": "execute_result"
    },
    {
     "data": {
      "text/plain": [
       "(array([[2.26335792e-04, 4.68838427e-04, 4.93088690e-04, 6.22423429e-04,\n",
       "         9.37676854e-04, 1.22059659e-03, 2.07743924e-03, 2.91811504e-03,\n",
       "         4.51863242e-03, 7.40441378e-03, 1.67569321e-02, 6.36731084e-02,\n",
       "         1.97073808e-01, 4.04567145e-01, 5.73470230e-01, 4.85684277e-01,\n",
       "         2.64877544e-01, 1.22948836e-01, 6.56050461e-02, 4.21146242e-02,\n",
       "         1.98124652e-02, 7.90558589e-03, 3.32228609e-03, 1.79451950e-03,\n",
       "         1.32568107e-03, 8.89176327e-04, 5.33505796e-04, 6.14340008e-04,\n",
       "         3.63753952e-04],\n",
       "        [1.09509328e-02, 3.28527984e-02, 4.92791977e-02, 3.83282649e-02,\n",
       "         0.00000000e+00, 4.38037313e-02, 7.11810633e-02, 9.85583953e-02,\n",
       "         8.21319961e-02, 1.14984795e-01, 1.25935727e-01, 1.91641324e-01,\n",
       "         2.51871455e-01, 2.46395988e-01, 2.35445056e-01, 2.08067724e-01,\n",
       "         2.02592257e-01, 1.31411194e-01, 3.28527984e-02, 2.73773320e-02,\n",
       "         2.73773320e-02, 3.28527984e-02, 2.19018656e-02, 1.09509328e-02,\n",
       "         0.00000000e+00, 5.47546641e-03, 0.00000000e+00, 0.00000000e+00,\n",
       "         0.00000000e+00]]),\n",
       " array([-6.49247428, -6.05659637, -5.62071846, -5.18484055, -4.74896264,\n",
       "        -4.31308474, -3.87720683, -3.44132892, -3.00545101, -2.5695731 ,\n",
       "        -2.1336952 , -1.69781729, -1.26193938, -0.82606147, -0.39018356,\n",
       "         0.04569435,  0.48157225,  0.91745016,  1.35332807,  1.78920598,\n",
       "         2.22508389,  2.6609618 ,  3.0968397 ,  3.53271761,  3.96859552,\n",
       "         4.40447343,  4.84035134,  5.27622925,  5.71210715,  6.14798506]),\n",
       " <a list of 2 BarContainer objects>)"
      ]
     },
     "execution_count": 275,
     "metadata": {},
     "output_type": "execute_result"
    },
    {
     "data": {
      "text/plain": [
       "Text(0.5, 0, 'V5')"
      ]
     },
     "execution_count": 275,
     "metadata": {},
     "output_type": "execute_result"
    },
    {
     "data": {
      "text/plain": [
       "(0.0, 0.8)"
      ]
     },
     "execution_count": 275,
     "metadata": {},
     "output_type": "execute_result"
    },
    {
     "data": {
      "text/plain": [
       "(array([[4.15376915e-04, 5.68410515e-04, 5.90272458e-04, 6.01203430e-04,\n",
       "         7.87029944e-04, 9.07270630e-04, 1.28985463e-03, 1.55219795e-03,\n",
       "         2.41574469e-03, 3.21370561e-03, 4.80962744e-03, 9.76135750e-03,\n",
       "         2.54582325e-02, 6.33340486e-02, 1.82612809e-01, 3.72407266e-01,\n",
       "         5.64573744e-01, 5.57162546e-01, 4.65954520e-01, 2.99377446e-01,\n",
       "         1.80000307e-01, 9.76245060e-02, 4.94954387e-02, 3.53070378e-02,\n",
       "         8.78631485e-02, 6.22628134e-02, 2.23538366e-02, 6.40554927e-03,\n",
       "         2.55784732e-03],\n",
       "        [1.91067545e-02, 3.18445908e-02, 3.18445908e-02, 7.64270180e-02,\n",
       "         5.73202635e-02, 3.18445908e-02, 4.45824272e-02, 9.55337725e-02,\n",
       "         1.08271609e-01, 1.71960791e-01, 1.27378363e-01, 1.97436463e-01,\n",
       "         2.54756727e-01, 2.35649972e-01, 2.86601318e-01, 2.35649972e-01,\n",
       "         2.73863481e-01, 2.54756727e-01, 1.97436463e-01, 1.21009445e-01,\n",
       "         8.91648544e-02, 4.45824272e-02, 2.54756727e-02, 1.91067545e-02,\n",
       "         6.36891817e-03, 1.91067545e-02, 0.00000000e+00, 0.00000000e+00,\n",
       "         4.45824272e-02]]),\n",
       " array([-5.78016124, -5.45775357, -5.13534589, -4.81293822, -4.49053055,\n",
       "        -4.16812287, -3.8457152 , -3.52330752, -3.20089985, -2.87849218,\n",
       "        -2.5560845 , -2.23367683, -1.91126916, -1.58886148, -1.26645381,\n",
       "        -0.94404614, -0.62163846, -0.29923079,  0.02317689,  0.34558456,\n",
       "         0.66799223,  0.99039991,  1.31280758,  1.63521525,  1.95762293,\n",
       "         2.2800306 ,  2.60243827,  2.92484595,  3.24725362,  3.5696613 ]),\n",
       " <a list of 2 BarContainer objects>)"
      ]
     },
     "execution_count": 275,
     "metadata": {},
     "output_type": "execute_result"
    },
    {
     "data": {
      "text/plain": [
       "Text(0.5, 0, 'V6')"
      ]
     },
     "execution_count": 275,
     "metadata": {},
     "output_type": "execute_result"
    },
    {
     "data": {
      "text/plain": [
       "(0.0, 0.8)"
      ]
     },
     "execution_count": 275,
     "metadata": {},
     "output_type": "execute_result"
    },
    {
     "data": {
      "text/plain": [
       "(array([[2.62447035e-04, 3.28058793e-04, 4.51992115e-04, 6.85278368e-04,\n",
       "         8.67533253e-04, 8.82113644e-04, 1.47990967e-03, 2.19434882e-03,\n",
       "         2.65363113e-03, 4.27205451e-03, 6.36434059e-03, 1.28671949e-02,\n",
       "         4.35297568e-02, 1.64481389e-01, 4.03869535e-01, 5.87684522e-01,\n",
       "         4.96105087e-01, 2.37580178e-01, 6.47150646e-02, 1.75985317e-02,\n",
       "         8.04837573e-03, 4.48347017e-03, 2.73382328e-03, 1.75693709e-03,\n",
       "         1.21746263e-03, 7.72760713e-04, 6.26956805e-04, 3.93670552e-04,\n",
       "         4.44701920e-04],\n",
       "        [3.24180333e-02, 3.24180333e-02, 4.32240444e-02, 2.70150278e-02,\n",
       "         5.40300555e-02, 4.86270500e-02, 7.02390722e-02, 8.10450833e-02,\n",
       "         1.24269128e-01, 1.35075139e-01, 1.83702189e-01, 1.89105194e-01,\n",
       "         2.21523228e-01, 1.45881150e-01, 1.51284155e-01, 1.35075139e-01,\n",
       "         1.83702189e-01, 9.72540999e-02, 6.48360666e-02, 5.40300555e-03,\n",
       "         1.62090167e-02, 5.40300555e-03, 1.08060111e-02, 0.00000000e+00,\n",
       "         5.40300555e-03, 5.40300555e-03, 0.00000000e+00, 0.00000000e+00,\n",
       "         0.00000000e+00]]),\n",
       " array([-7.5657813 , -7.08253803, -6.59929477, -6.1160515 , -5.63280823,\n",
       "        -5.14956496, -4.6663217 , -4.18307843, -3.69983516, -3.21659189,\n",
       "        -2.73334863, -2.25010536, -1.76686209, -1.28361882, -0.80037556,\n",
       "        -0.31713229,  0.16611098,  0.64935425,  1.13259751,  1.61584078,\n",
       "         2.09908405,  2.58232732,  3.06557058,  3.54881385,  4.03205712,\n",
       "         4.51530039,  4.99854365,  5.48178692,  5.96503019,  6.44827346]),\n",
       " <a list of 2 BarContainer objects>)"
      ]
     },
     "execution_count": 275,
     "metadata": {},
     "output_type": "execute_result"
    },
    {
     "data": {
      "text/plain": [
       "Text(0.5, 0, 'V7')"
      ]
     },
     "execution_count": 275,
     "metadata": {},
     "output_type": "execute_result"
    },
    {
     "data": {
      "text/plain": [
       "(0.0, 0.8)"
      ]
     },
     "execution_count": 275,
     "metadata": {},
     "output_type": "execute_result"
    },
    {
     "data": {
      "text/plain": [
       "(array([[5.66704013e-04, 6.47661729e-04, 1.00263018e-03, 9.96402660e-04,\n",
       "         1.88693754e-03, 1.89939257e-03, 2.92693281e-03, 4.60836230e-03,\n",
       "         4.72045760e-03, 1.27352715e-02, 1.80971633e-02, 2.52961725e-02,\n",
       "         2.11685745e-01, 9.77203226e-01, 3.32555615e-01, 1.15707259e-01,\n",
       "         3.00851328e-02, 1.01695346e-02, 4.70800257e-03, 2.70274221e-03,\n",
       "         1.93053015e-03, 1.45101137e-03, 9.90175143e-04, 7.22391928e-04,\n",
       "         6.72571795e-04, 4.73291263e-04, 3.92333547e-04, 2.92693281e-04,\n",
       "         2.55328182e-04],\n",
       "        [1.21888391e-02, 2.03147319e-02, 0.00000000e+00, 4.06294637e-03,\n",
       "         4.06294637e-03, 4.06294637e-03, 8.12589275e-03, 2.84406246e-02,\n",
       "         8.12589275e-03, 4.87553565e-02, 5.28183029e-02, 4.06294637e-02,\n",
       "         1.54391962e-01, 3.61602227e-01, 3.20972764e-01, 2.11273211e-01,\n",
       "         1.42203123e-01, 9.75107130e-02, 3.65665174e-02, 4.46924101e-02,\n",
       "         1.62517855e-02, 3.25035710e-02, 3.25035710e-02, 1.21888391e-02,\n",
       "         1.21888391e-02, 2.43776782e-02, 1.21888391e-02, 1.62517855e-02,\n",
       "         8.12589275e-03]]),\n",
       " array([-7.73112246, -7.16531372, -6.59950497, -6.03369623, -5.46788749,\n",
       "        -4.90207875, -4.33627001, -3.77046127, -3.20465252, -2.63884378,\n",
       "        -2.07303504, -1.5072263 , -0.94141756, -0.37560882,  0.19019992,\n",
       "         0.75600867,  1.32181741,  1.88762615,  2.45343489,  3.01924363,\n",
       "         3.58505237,  4.15086111,  4.71666986,  5.2824786 ,  5.84828734,\n",
       "         6.41409608,  6.97990482,  7.54571356,  8.1115223 ,  8.67733105]),\n",
       " <a list of 2 BarContainer objects>)"
      ]
     },
     "execution_count": 275,
     "metadata": {},
     "output_type": "execute_result"
    },
    {
     "data": {
      "text/plain": [
       "Text(0.5, 0, 'V8')"
      ]
     },
     "execution_count": 275,
     "metadata": {},
     "output_type": "execute_result"
    },
    {
     "data": {
      "text/plain": [
       "(0.0, 0.8)"
      ]
     },
     "execution_count": 275,
     "metadata": {},
     "output_type": "execute_result"
    },
    {
     "data": {
      "text/plain": [
       "Text(0, 0.5, 'Fraction')"
      ]
     },
     "execution_count": 275,
     "metadata": {},
     "output_type": "execute_result"
    },
    {
     "data": {
      "text/plain": [
       "(array([[0.00233085, 0.00574433, 0.01234204, 0.02947315, 0.04399319,\n",
       "         0.06679221, 0.08346479, 0.11505226, 0.17497929, 0.24741394,\n",
       "         0.34788246, 0.44734477, 0.51199719, 0.42755166, 0.34885046,\n",
       "         0.25918281, 0.19409735, 0.11818553, 0.06814232, 0.04381487,\n",
       "         0.02882356, 0.01487668, 0.00843182, 0.00394843, 0.00294222,\n",
       "         0.00278938, 0.00266201, 0.00161758, 0.00132464],\n",
       "        [0.18460324, 0.24975733, 0.1520262 , 0.28233437, 0.13030817,\n",
       "         0.24975733, 0.29319339, 0.28233437, 0.28233437, 0.24975733,\n",
       "         0.2280393 , 0.23889832, 0.24975733, 0.14116719, 0.11944916,\n",
       "         0.14116719, 0.06515409, 0.03257704, 0.02171803, 0.        ,\n",
       "         0.01085901, 0.        , 0.01085901, 0.        , 0.        ,\n",
       "         0.        , 0.        , 0.        , 0.        ]]),\n",
       " array([-3.43027248, -3.15372777, -2.87718306, -2.60063834, -2.32409363,\n",
       "        -2.04754892, -1.77100421, -1.49445949, -1.21791478, -0.94137007,\n",
       "        -0.66482536, -0.38828065, -0.11173593,  0.16480878,  0.44135349,\n",
       "         0.7178982 ,  0.99444292,  1.27098763,  1.54753234,  1.82407705,\n",
       "         2.10062177,  2.37716648,  2.65371119,  2.9302559 ,  3.20680062,\n",
       "         3.48334533,  3.75989004,  4.03643475,  4.31297946,  4.58952418]),\n",
       " <a list of 2 BarContainer objects>)"
      ]
     },
     "execution_count": 275,
     "metadata": {},
     "output_type": "execute_result"
    },
    {
     "data": {
      "text/plain": [
       "Text(0.5, 0, 'V9')"
      ]
     },
     "execution_count": 275,
     "metadata": {},
     "output_type": "execute_result"
    },
    {
     "data": {
      "text/plain": [
       "(0.0, 0.8)"
      ]
     },
     "execution_count": 275,
     "metadata": {},
     "output_type": "execute_result"
    },
    {
     "data": {
      "text/plain": [
       "(array([[1.85586436e-04, 2.58207215e-04, 2.34000289e-04, 3.63103896e-04,\n",
       "         7.74621645e-04, 1.38786378e-03, 3.64717691e-03, 8.85973506e-03,\n",
       "         2.49815480e-02, 6.34302161e-02, 1.66882551e-01, 3.24727849e-01,\n",
       "         5.96240804e-01, 5.05480968e-01, 2.98261609e-01, 1.44886523e-01,\n",
       "         1.04622336e-01, 1.47178113e-02, 8.56925195e-03, 5.72897258e-03,\n",
       "         4.09097056e-03, 2.78379654e-03, 2.63855498e-03, 1.91234719e-03,\n",
       "         1.50082944e-03, 1.10544964e-03, 1.17807042e-03, 8.23035498e-04,\n",
       "         9.03725252e-04],\n",
       "        [2.14797892e-01, 1.82975982e-01, 1.35243117e-01, 2.30708847e-01,\n",
       "         1.82975982e-01, 2.06842415e-01, 1.59109550e-01, 1.35243117e-01,\n",
       "         1.35243117e-01, 7.95547748e-02, 5.56883424e-02, 1.19332162e-01,\n",
       "         1.35243117e-01, 1.43198595e-01, 5.56883424e-02, 6.36438199e-02,\n",
       "         2.38664324e-02, 7.95547748e-03, 7.95547748e-03, 7.95547748e-03,\n",
       "         7.95547748e-03, 0.00000000e+00, 0.00000000e+00, 0.00000000e+00,\n",
       "         0.00000000e+00, 0.00000000e+00, 0.00000000e+00, 0.00000000e+00,\n",
       "         0.00000000e+00]]),\n",
       " array([-5.68834088, -5.25188408, -4.81542728, -4.37897049, -3.94251369,\n",
       "        -3.50605689, -3.0696001 , -2.6331433 , -2.1966865 , -1.7602297 ,\n",
       "        -1.32377291, -0.88731611, -0.45085931, -0.01440252,  0.42205428,\n",
       "         0.85851108,  1.29496788,  1.73142467,  2.16788147,  2.60433827,\n",
       "         3.04079507,  3.47725186,  3.91370866,  4.35016546,  4.78662225,\n",
       "         5.22307905,  5.65953585,  6.09599265,  6.53244944,  6.96890624]),\n",
       " <a list of 2 BarContainer objects>)"
      ]
     },
     "execution_count": 275,
     "metadata": {},
     "output_type": "execute_result"
    },
    {
     "data": {
      "text/plain": [
       "Text(0.5, 0, 'V10')"
      ]
     },
     "execution_count": 275,
     "metadata": {},
     "output_type": "execute_result"
    },
    {
     "data": {
      "text/plain": [
       "(0.0, 0.8)"
      ]
     },
     "execution_count": 275,
     "metadata": {},
     "output_type": "execute_result"
    },
    {
     "data": {
      "text/plain": [
       "(array([[0.00432712, 0.00900946, 0.0170663 , 0.03124247, 0.05718907,\n",
       "         0.09327533, 0.14227839, 0.19578617, 0.25220023, 0.29550375,\n",
       "         0.31636436, 0.32869989, 0.34594379, 0.3515303 , 0.34059947,\n",
       "         0.34255314, 0.33862966, 0.30905023, 0.27756556, 0.22588228,\n",
       "         0.15203056, 0.07937364, 0.03555345, 0.02108665, 0.01196417,\n",
       "         0.00631308, 0.0016146 , 0.00172762, 0.00053282],\n",
       "        [0.        , 0.        , 0.        , 0.        , 0.        ,\n",
       "         0.01679448, 0.06717793, 0.05038345, 0.05038345, 0.06717793,\n",
       "         0.05038345, 0.15115034, 0.05038345, 0.08397241, 0.11756137,\n",
       "         0.11756137, 0.15115034, 0.16794482, 0.25191723, 0.23512275,\n",
       "         0.11756137, 0.33588964, 0.35268412, 0.23512275, 0.30230067,\n",
       "         0.38627308, 0.31909516, 0.41986205, 0.48703997]]),\n",
       " array([-2.94863013, -2.73052256, -2.51241498, -2.29430741, -2.07619984,\n",
       "        -1.85809227, -1.6399847 , -1.42187712, -1.20376955, -0.98566198,\n",
       "        -0.76755441, -0.54944683, -0.33133926, -0.11323169,  0.10487588,\n",
       "         0.32298345,  0.54109103,  0.7591986 ,  0.97730617,  1.19541374,\n",
       "         1.41352131,  1.63162889,  1.84973646,  2.06784403,  2.2859516 ,\n",
       "         2.50405917,  2.72216675,  2.94027432,  3.15838189,  3.37648946]),\n",
       " <a list of 2 BarContainer objects>)"
      ]
     },
     "execution_count": 275,
     "metadata": {},
     "output_type": "execute_result"
    },
    {
     "data": {
      "text/plain": [
       "Text(0.5, 0, 'V11')"
      ]
     },
     "execution_count": 275,
     "metadata": {},
     "output_type": "execute_result"
    },
    {
     "data": {
      "text/plain": [
       "(0.0, 0.8)"
      ]
     },
     "execution_count": 275,
     "metadata": {},
     "output_type": "execute_result"
    },
    {
     "data": {
      "text/plain": [
       "(array([[2.51268035e-05, 4.52282464e-04, 3.91978135e-03, 1.64454929e-02,\n",
       "         4.33437361e-02, 7.10209102e-02, 7.71141601e-02, 8.81699536e-02,\n",
       "         1.42029257e-01, 2.48818172e-01, 3.58509233e-01, 4.44945437e-01,\n",
       "         4.57621910e-01, 4.17657728e-01, 3.51988827e-01, 2.77110953e-01,\n",
       "         2.07509707e-01, 1.45936475e-01, 9.10469726e-02, 5.51282070e-02,\n",
       "         3.04285591e-02, 1.63072955e-02, 9.42255133e-03, 5.02536071e-03,\n",
       "         3.05290663e-03, 1.74631285e-03, 1.35684739e-03, 9.67381936e-04,\n",
       "         6.90987097e-04],\n",
       "        [4.35439245e-01, 4.35439245e-01, 3.79253536e-01, 4.21392818e-01,\n",
       "         3.65207109e-01, 2.94974973e-01, 7.02321363e-02, 7.02321363e-02,\n",
       "         4.21392818e-02, 2.66882118e-01, 2.66882118e-01, 1.54510700e-01,\n",
       "         1.12371418e-01, 7.02321363e-02, 2.80928545e-02, 4.21392818e-02,\n",
       "         8.42785636e-02, 0.00000000e+00, 1.40464273e-02, 1.40464273e-02,\n",
       "         0.00000000e+00, 0.00000000e+00, 0.00000000e+00, 0.00000000e+00,\n",
       "         0.00000000e+00, 0.00000000e+00, 0.00000000e+00, 0.00000000e+00,\n",
       "         0.00000000e+00]]),\n",
       " array([-3.55533539, -3.27505003, -2.99476468, -2.71447932, -2.43419396,\n",
       "        -2.15390861, -1.87362325, -1.5933379 , -1.31305254, -1.03276718,\n",
       "        -0.75248183, -0.47219647, -0.19191111,  0.08837424,  0.3686596 ,\n",
       "         0.64894496,  0.92923031,  1.20951567,  1.48980103,  1.77008638,\n",
       "         2.05037174,  2.3306571 ,  2.61094245,  2.89122781,  3.17151317,\n",
       "         3.45179852,  3.73208388,  4.01236924,  4.29265459,  4.57293995]),\n",
       " <a list of 2 BarContainer objects>)"
      ]
     },
     "execution_count": 275,
     "metadata": {},
     "output_type": "execute_result"
    },
    {
     "data": {
      "text/plain": [
       "Text(0.5, 0, 'V12')"
      ]
     },
     "execution_count": 275,
     "metadata": {},
     "output_type": "execute_result"
    },
    {
     "data": {
      "text/plain": [
       "(0.0, 0.8)"
      ]
     },
     "execution_count": 275,
     "metadata": {},
     "output_type": "execute_result"
    },
    {
     "data": {
      "text/plain": [
       "Text(0, 0.5, 'Fraction')"
      ]
     },
     "execution_count": 275,
     "metadata": {},
     "output_type": "execute_result"
    },
    {
     "data": {
      "text/plain": [
       "(array([[0.00381896, 0.0068677 , 0.01185802, 0.02126099, 0.03668123,\n",
       "         0.05882475, 0.08985777, 0.12488626, 0.16241793, 0.20571012,\n",
       "         0.2480235 , 0.29404352, 0.37098424, 0.41448503, 0.44445901,\n",
       "         0.38194368, 0.35679954, 0.31461453, 0.28144738, 0.22737226,\n",
       "         0.17472523, 0.11728044, 0.07334641, 0.04255407, 0.0291075 ,\n",
       "         0.02248049, 0.01696065, 0.01312565, 0.00706025],\n",
       "        [0.01854581, 0.        , 0.02781872, 0.00927291, 0.04636453,\n",
       "         0.17618522, 0.09272907, 0.22254976, 0.19473104, 0.31527882,\n",
       "         0.26891429, 0.25036848, 0.24109557, 0.34309754, 0.23182266,\n",
       "         0.40800789, 0.30600592, 0.43582661, 0.21327685, 0.19473104,\n",
       "         0.16691232, 0.17618522, 0.10200197, 0.01854581, 0.02781872,\n",
       "         0.02781872, 0.01854581, 0.01854581, 0.        ]]),\n",
       " array([-3.18988677, -2.97025123, -2.75061568, -2.53098014, -2.31134459,\n",
       "        -2.09170905, -1.8720735 , -1.65243796, -1.43280241, -1.21316687,\n",
       "        -0.99353132, -0.77389578, -0.55426023, -0.33462469, -0.11498914,\n",
       "         0.1046464 ,  0.32428195,  0.54391749,  0.76355303,  0.98318858,\n",
       "         1.20282412,  1.42245967,  1.64209521,  1.86173076,  2.0813663 ,\n",
       "         2.30100185,  2.52063739,  2.74027294,  2.95990848,  3.17954403]),\n",
       " <a list of 2 BarContainer objects>)"
      ]
     },
     "execution_count": 275,
     "metadata": {},
     "output_type": "execute_result"
    },
    {
     "data": {
      "text/plain": [
       "Text(0.5, 0, 'V13')"
      ]
     },
     "execution_count": 275,
     "metadata": {},
     "output_type": "execute_result"
    },
    {
     "data": {
      "text/plain": [
       "(0.0, 0.8)"
      ]
     },
     "execution_count": 275,
     "metadata": {},
     "output_type": "execute_result"
    },
    {
     "data": {
      "text/plain": [
       "(array([[2.03455329e-04, 1.38719542e-04, 5.17886291e-04, 5.17886291e-04,\n",
       "         9.34044918e-04, 1.70162639e-03, 4.81819210e-03, 1.02467502e-02,\n",
       "         1.61284588e-02, 2.78363881e-02, 5.28336497e-02, 1.18605209e-01,\n",
       "         2.22894560e-01, 3.94546122e-01, 5.34208957e-01, 5.01295434e-01,\n",
       "         3.35433101e-01, 1.67110809e-01, 9.12959547e-02, 5.88910697e-02,\n",
       "         3.89709434e-02, 2.26020374e-02, 1.13750025e-02, 6.18689158e-03,\n",
       "         2.74664694e-03, 1.49817106e-03, 1.15599619e-03, 8.04573345e-04,\n",
       "         5.73374108e-04],\n",
       "        [2.67381867e-01, 2.86480572e-01, 2.00536400e-01, 2.57832515e-01,\n",
       "         3.34227334e-01, 2.00536400e-01, 2.00536400e-01, 8.59441716e-02,\n",
       "         3.81974096e-02, 8.59441716e-02, 1.14592229e-01, 8.59441716e-02,\n",
       "         1.33690934e-01, 7.63948192e-02, 4.77467620e-02, 6.68454668e-02,\n",
       "         3.81974096e-02, 3.81974096e-02, 3.81974096e-02, 1.90987048e-02,\n",
       "         0.00000000e+00, 0.00000000e+00, 0.00000000e+00, 0.00000000e+00,\n",
       "         0.00000000e+00, 0.00000000e+00, 0.00000000e+00, 9.54935240e-03,\n",
       "         0.00000000e+00]]),\n",
       " array([-5.68543457, -5.30463769, -4.92384081, -4.54304392, -4.16224704,\n",
       "        -3.78145016, -3.40065327, -3.01985639, -2.6390595 , -2.25826262,\n",
       "        -1.87746574, -1.49666885, -1.11587197, -0.73507509, -0.3542782 ,\n",
       "         0.02651868,  0.40731557,  0.78811245,  1.16890933,  1.54970622,\n",
       "         1.9305031 ,  2.31129998,  2.69209687,  3.07289375,  3.45369064,\n",
       "         3.83448752,  4.2152844 ,  4.59608129,  4.97687817,  5.35767505]),\n",
       " <a list of 2 BarContainer objects>)"
      ]
     },
     "execution_count": 275,
     "metadata": {},
     "output_type": "execute_result"
    },
    {
     "data": {
      "text/plain": [
       "Text(0.5, 0, 'V14')"
      ]
     },
     "execution_count": 275,
     "metadata": {},
     "output_type": "execute_result"
    },
    {
     "data": {
      "text/plain": [
       "(0.0, 0.8)"
      ]
     },
     "execution_count": 275,
     "metadata": {},
     "output_type": "execute_result"
    },
    {
     "data": {
      "text/plain": [
       "(array([[0.00630721, 0.00848489, 0.01966366, 0.03482677, 0.04589262,\n",
       "         0.0671855 , 0.0934306 , 0.12677332, 0.18837751, 0.2583698 ,\n",
       "         0.29730997, 0.35646225, 0.37991669, 0.39072444, 0.39696713,\n",
       "         0.37118983, 0.32986228, 0.28514722, 0.25864403, 0.22835006,\n",
       "         0.1685848 , 0.10667413, 0.06300758, 0.03768195, 0.0236964 ,\n",
       "         0.01550187, 0.00938823, 0.00579102, 0.00290358],\n",
       "        [0.0186821 , 0.03736421, 0.03736421, 0.08406947, 0.08406947,\n",
       "         0.05604631, 0.12143367, 0.18682103, 0.12143367, 0.19616209,\n",
       "         0.24286734, 0.34561891, 0.49507574, 0.46705258, 0.26154945,\n",
       "         0.36430102, 0.30825471, 0.21484419, 0.2895726 , 0.21484419,\n",
       "         0.12143367, 0.07472841, 0.05604631, 0.07472841, 0.02802316,\n",
       "         0.03736421, 0.0186821 , 0.0186821 , 0.        ]]),\n",
       " array([-3.07093846, -2.85246024, -2.63398202, -2.41550381, -2.19702559,\n",
       "        -1.97854737, -1.76006915, -1.54159093, -1.32311271, -1.1046345 ,\n",
       "        -0.88615628, -0.66767806, -0.44919984, -0.23072162, -0.01224341,\n",
       "         0.20623481,  0.42471303,  0.64319125,  0.86166947,  1.08014769,\n",
       "         1.2986259 ,  1.51710412,  1.73558234,  1.95406056,  2.17253878,\n",
       "         2.391017  ,  2.60949521,  2.82797343,  3.04645165,  3.26492987]),\n",
       " <a list of 2 BarContainer objects>)"
      ]
     },
     "execution_count": 275,
     "metadata": {},
     "output_type": "execute_result"
    },
    {
     "data": {
      "text/plain": [
       "Text(0.5, 0, 'V15')"
      ]
     },
     "execution_count": 275,
     "metadata": {},
     "output_type": "execute_result"
    },
    {
     "data": {
      "text/plain": [
       "(0.0, 0.8)"
      ]
     },
     "execution_count": 275,
     "metadata": {},
     "output_type": "execute_result"
    },
    {
     "data": {
      "text/plain": [
       "(array([[0.00114962, 0.00174472, 0.00369231, 0.00833137, 0.01595944,\n",
       "         0.02934913, 0.04589014, 0.06935593, 0.10119365, 0.15392742,\n",
       "         0.22609654, 0.30880159, 0.38501466, 0.45328859, 0.464893  ,\n",
       "         0.43140523, 0.35655817, 0.24994102, 0.16780402, 0.11454277,\n",
       "         0.08421984, 0.06207951, 0.0442942 , 0.02897044, 0.01698733,\n",
       "         0.00849367, 0.00394928, 0.00189349, 0.00089265],\n",
       "        [0.20367453, 0.14548181, 0.21822271, 0.26186725, 0.42189724,\n",
       "         0.26186725, 0.24731907, 0.16002999, 0.11638545, 0.20367453,\n",
       "         0.13093363, 0.20367453, 0.0727409 , 0.04364454, 0.16002999,\n",
       "         0.14548181, 0.16002999, 0.05819272, 0.16002999, 0.05819272,\n",
       "         0.04364454, 0.10183727, 0.0727409 , 0.05819272, 0.        ,\n",
       "         0.02909636, 0.04364454, 0.02909636, 0.02909636]]),\n",
       " array([-3.71645853, -3.45609066, -3.1957228 , -2.93535493, -2.67498707,\n",
       "        -2.4146192 , -2.15425133, -1.89388347, -1.6335156 , -1.37314773,\n",
       "        -1.11277987, -0.852412  , -0.59204413, -0.33167627, -0.0713084 ,\n",
       "         0.18905947,  0.44942733,  0.7097952 ,  0.97016307,  1.23053093,\n",
       "         1.4908988 ,  1.75126667,  2.01163453,  2.2720024 ,  2.53237027,\n",
       "         2.79273813,  3.053106  ,  3.31347386,  3.57384173,  3.8342096 ]),\n",
       " <a list of 2 BarContainer objects>)"
      ]
     },
     "execution_count": 275,
     "metadata": {},
     "output_type": "execute_result"
    },
    {
     "data": {
      "text/plain": [
       "Text(0.5, 0, 'V16')"
      ]
     },
     "execution_count": 275,
     "metadata": {},
     "output_type": "execute_result"
    },
    {
     "data": {
      "text/plain": [
       "(0.0, 0.8)"
      ]
     },
     "execution_count": 275,
     "metadata": {},
     "output_type": "execute_result"
    },
    {
     "data": {
      "text/plain": [
       "Text(0, 0.5, 'Fraction')"
      ]
     },
     "execution_count": 275,
     "metadata": {},
     "output_type": "execute_result"
    },
    {
     "data": {
      "text/plain": [
       "(array([[8.04692769e-05, 3.57641231e-05, 1.78820615e-05, 3.57641231e-05,\n",
       "         4.47051539e-05, 1.07292369e-04, 1.51997523e-04, 2.68230923e-04,\n",
       "         9.20926169e-04, 2.95948119e-03, 2.15121200e-02, 1.15536000e-01,\n",
       "         3.38328604e-01, 5.14055623e-01, 4.98364114e-01, 4.13880314e-01,\n",
       "         2.70019129e-01, 1.54822889e-01, 9.01077081e-02, 4.76288709e-02,\n",
       "         2.61972202e-02, 1.58792706e-02, 9.57584396e-03, 6.75047823e-03,\n",
       "         4.51522054e-03, 2.89689397e-03, 1.89549852e-03, 1.77926512e-03,\n",
       "         8.31515862e-04],\n",
       "        [1.35841927e-01, 2.29886338e-01, 1.77639443e-01, 1.56740685e-01,\n",
       "         1.04493790e-01, 9.40444108e-02, 1.35841927e-01, 1.25392548e-01,\n",
       "         8.35950319e-02, 7.31456529e-02, 9.40444108e-02, 5.22468949e-02,\n",
       "         5.22468949e-02, 5.22468949e-02, 1.25392548e-01, 1.35841927e-01,\n",
       "         1.46291306e-01, 1.25392548e-01, 4.17975159e-02, 8.35950319e-02,\n",
       "         1.14943169e-01, 3.13481369e-02, 4.17975159e-02, 2.08987580e-02,\n",
       "         2.08987580e-02, 0.00000000e+00, 1.04493790e-02, 3.13481369e-02,\n",
       "         4.17975159e-02]]),\n",
       " array([-5.84556887, -5.4517439 , -5.05791893, -4.66409397, -4.270269  ,\n",
       "        -3.87644403, -3.48261906, -3.0887941 , -2.69496913, -2.30114416,\n",
       "        -1.90731919, -1.51349423, -1.11966926, -0.72584429, -0.33201932,\n",
       "         0.06180564,  0.45563061,  0.84945558,  1.24328055,  1.63710551,\n",
       "         2.03093048,  2.42475545,  2.81858042,  3.21240538,  3.60623035,\n",
       "         4.00005532,  4.39388029,  4.78770525,  5.18153022,  5.57535519]),\n",
       " <a list of 2 BarContainer objects>)"
      ]
     },
     "execution_count": 275,
     "metadata": {},
     "output_type": "execute_result"
    },
    {
     "data": {
      "text/plain": [
       "Text(0.5, 0, 'V17')"
      ]
     },
     "execution_count": 275,
     "metadata": {},
     "output_type": "execute_result"
    },
    {
     "data": {
      "text/plain": [
       "(0.0, 0.8)"
      ]
     },
     "execution_count": 275,
     "metadata": {},
     "output_type": "execute_result"
    },
    {
     "data": {
      "text/plain": [
       "(array([[0.00104425, 0.00141618, 0.00376217, 0.00803931, 0.01439064,\n",
       "         0.02268743, 0.03643436, 0.04952326, 0.06591658, 0.09848864,\n",
       "         0.15924118, 0.25019119, 0.32650736, 0.40050616, 0.45686713,\n",
       "         0.45372007, 0.42033264, 0.34749253, 0.27532474, 0.20370054,\n",
       "         0.1432341 , 0.0980595 , 0.07304038, 0.05139719, 0.03958142,\n",
       "         0.02839505, 0.01768075, 0.00969866, 0.0047492 ],\n",
       "        [0.10249647, 0.08968441, 0.05124823, 0.24342912, 0.11530853,\n",
       "         0.08968441, 0.19218088, 0.16655676, 0.11530853, 0.26905323,\n",
       "         0.23061706, 0.20499294, 0.16655676, 0.17936882, 0.20499294,\n",
       "         0.29467735, 0.25624117, 0.24342912, 0.08968441, 0.1537447 ,\n",
       "         0.11530853, 0.1537447 , 0.06406029, 0.10249647, 0.06406029,\n",
       "         0.01281206, 0.03843618, 0.        , 0.05124823]]),\n",
       " array([-3.79102008, -3.54480094, -3.29858179, -3.05236265, -2.8061435 ,\n",
       "        -2.55992436, -2.31370521, -2.06748607, -1.82126692, -1.57504778,\n",
       "        -1.32882863, -1.08260949, -0.83639034, -0.5901712 , -0.34395205,\n",
       "        -0.09773291,  0.14848623,  0.39470538,  0.64092452,  0.88714367,\n",
       "         1.13336281,  1.37958196,  1.6258011 ,  1.87202025,  2.11823939,\n",
       "         2.36445854,  2.61067768,  2.85689683,  3.10311597,  3.34933512]),\n",
       " <a list of 2 BarContainer objects>)"
      ]
     },
     "execution_count": 275,
     "metadata": {},
     "output_type": "execute_result"
    },
    {
     "data": {
      "text/plain": [
       "Text(0.5, 0, 'V18')"
      ]
     },
     "execution_count": 275,
     "metadata": {},
     "output_type": "execute_result"
    },
    {
     "data": {
      "text/plain": [
       "(0.0, 0.8)"
      ]
     },
     "execution_count": 275,
     "metadata": {},
     "output_type": "execute_result"
    },
    {
     "data": {
      "text/plain": [
       "(array([[0.00299636, 0.00434407, 0.008204  , 0.01189384, 0.02021561,\n",
       "         0.0348572 , 0.04940721, 0.07698941, 0.10086869, 0.14712252,\n",
       "         0.20321593, 0.30358741, 0.39500906, 0.49483098, 0.50315275,\n",
       "         0.40856464, 0.31001191, 0.22069687, 0.15227783, 0.10211172,\n",
       "         0.06038513, 0.03558994, 0.01928661, 0.01371259, 0.00991808,\n",
       "         0.00777221, 0.00743202, 0.00554784, 0.00302253],\n",
       "        [0.007985  , 0.01597   , 0.01597   , 0.039925  , 0.06388   ,\n",
       "         0.071865  , 0.103805  , 0.103805  , 0.135745  , 0.103805  ,\n",
       "         0.09582   , 0.151715  , 0.11179   , 0.1597    , 0.231565  ,\n",
       "         0.25552   , 0.295445  , 0.247535  , 0.231565  , 0.27149   ,\n",
       "         0.1597    , 0.135745  , 0.103805  , 0.119775  , 0.151715  ,\n",
       "         0.12776   , 0.055895  , 0.07985   , 0.06388   ]]),\n",
       " array([-3.7582211 , -3.48889891, -3.21957672, -2.95025454, -2.68093235,\n",
       "        -2.41161017, -2.14228798, -1.87296579, -1.60364361, -1.33432142,\n",
       "        -1.06499924, -0.79567705, -0.52635487, -0.25703268,  0.01228951,\n",
       "         0.28161169,  0.55093388,  0.82025606,  1.08957825,  1.35890043,\n",
       "         1.62822262,  1.89754481,  2.16686699,  2.43618918,  2.70551136,\n",
       "         2.97483355,  3.24415574,  3.51347792,  3.78280011,  4.05212229]),\n",
       " <a list of 2 BarContainer objects>)"
      ]
     },
     "execution_count": 275,
     "metadata": {},
     "output_type": "execute_result"
    },
    {
     "data": {
      "text/plain": [
       "Text(0.5, 0, 'V19')"
      ]
     },
     "execution_count": 275,
     "metadata": {},
     "output_type": "execute_result"
    },
    {
     "data": {
      "text/plain": [
       "(0.0, 0.8)"
      ]
     },
     "execution_count": 275,
     "metadata": {},
     "output_type": "execute_result"
    },
    {
     "data": {
      "text/plain": [
       "(array([[2.60078426e-04, 2.98138684e-04, 2.60078426e-04, 4.31349585e-04,\n",
       "         4.94783347e-04, 5.26500228e-04, 7.73891902e-04, 9.95910071e-04,\n",
       "         1.70002483e-03, 2.55003725e-03, 4.11050781e-03, 7.22510554e-03,\n",
       "         1.50274583e-02, 6.64722397e-02, 7.04279691e-01, 7.60037968e-01,\n",
       "         1.35830716e-01, 4.23293497e-02, 2.14279250e-02, 1.21412221e-02,\n",
       "         7.29488268e-03, 4.70044180e-03, 3.69818835e-03, 2.64518789e-03,\n",
       "         1.72539834e-03, 9.57849813e-04, 7.80235278e-04, 5.39186981e-04,\n",
       "         4.05976080e-04],\n",
       "        [0.00000000e+00, 0.00000000e+00, 0.00000000e+00, 0.00000000e+00,\n",
       "         0.00000000e+00, 3.68081866e-03, 0.00000000e+00, 2.20849119e-02,\n",
       "         7.36163731e-03, 7.36163731e-03, 1.84040933e-02, 3.68081866e-02,\n",
       "         6.25739172e-02, 9.57012851e-02, 2.83423037e-01, 4.49059876e-01,\n",
       "         3.38635316e-01, 1.72998477e-01, 1.17786197e-01, 8.46588291e-02,\n",
       "         3.31273679e-02, 2.20849119e-02, 2.20849119e-02, 3.68081866e-03,\n",
       "         1.47232746e-02, 0.00000000e+00, 0.00000000e+00, 0.00000000e+00,\n",
       "         3.68081866e-03]]),\n",
       " array([-8.45801768, -7.90243753, -7.34685738, -6.79127724, -6.23569709,\n",
       "        -5.68011694, -5.12453679, -4.56895664, -4.0133765 , -3.45779635,\n",
       "        -2.9022162 , -2.34663605, -1.7910559 , -1.23547575, -0.67989561,\n",
       "        -0.12431546,  0.43126469,  0.98684484,  1.54242499,  2.09800514,\n",
       "         2.65358528,  3.20916543,  3.76474558,  4.32032573,  4.87590588,\n",
       "         5.43148602,  5.98706617,  6.54264632,  7.09822647,  7.65380662]),\n",
       " <a list of 2 BarContainer objects>)"
      ]
     },
     "execution_count": 275,
     "metadata": {},
     "output_type": "execute_result"
    },
    {
     "data": {
      "text/plain": [
       "Text(0.5, 0, 'V20')"
      ]
     },
     "execution_count": 275,
     "metadata": {},
     "output_type": "execute_result"
    },
    {
     "data": {
      "text/plain": [
       "(0.0, 0.8)"
      ]
     },
     "execution_count": 275,
     "metadata": {},
     "output_type": "execute_result"
    },
    {
     "data": {
      "text/plain": [
       "Text(0, 0.5, 'Fraction')"
      ]
     },
     "execution_count": 275,
     "metadata": {},
     "output_type": "execute_result"
    },
    {
     "data": {
      "text/plain": [
       "(array([[3.22059814e-04, 4.06812396e-04, 2.82508608e-04, 4.74614462e-04,\n",
       "         7.45822726e-04, 6.21518938e-04, 8.13624792e-04, 2.51997679e-03,\n",
       "         1.98886060e-03, 2.51997679e-03, 1.04641189e-02, 1.50238078e-02,\n",
       "         9.50132952e-02, 8.11963641e-01, 5.72520645e-01, 5.43659566e-02,\n",
       "         1.31423005e-02, 6.42424575e-03, 3.98902155e-03, 2.98329090e-03,\n",
       "         1.82500561e-03, 1.44079390e-03, 7.79723759e-04, 7.79723759e-04,\n",
       "         5.36766356e-04, 4.06812396e-04, 4.06812396e-04, 2.76858436e-04,\n",
       "         2.93808953e-04],\n",
       "        [0.00000000e+00, 6.82269109e-03, 0.00000000e+00, 6.82269109e-03,\n",
       "         0.00000000e+00, 3.41134554e-03, 0.00000000e+00, 1.36453822e-02,\n",
       "         3.41134554e-02, 6.82269109e-03, 1.36453822e-02, 3.41134554e-02,\n",
       "         5.45815287e-02, 2.01269387e-01, 3.27489172e-01, 3.54779936e-01,\n",
       "         2.11503424e-01, 1.53510549e-01, 8.52836386e-02, 7.50496019e-02,\n",
       "         6.82269109e-03, 0.00000000e+00, 0.00000000e+00, 0.00000000e+00,\n",
       "         1.02340366e-02, 3.41134554e-03, 0.00000000e+00, 0.00000000e+00,\n",
       "         0.00000000e+00]]),\n",
       " array([-8.65581403, -8.03211304, -7.40841206, -6.78471107, -6.16101009,\n",
       "        -5.53730911, -4.91360812, -4.28990714, -3.66620615, -3.04250517,\n",
       "        -2.41880418, -1.7951032 , -1.17140221, -0.54770123,  0.07599976,\n",
       "         0.69970074,  1.32340173,  1.94710271,  2.5708037 ,  3.19450468,\n",
       "         3.81820567,  4.44190665,  5.06560763,  5.68930862,  6.3130096 ,\n",
       "         6.93671059,  7.56041157,  8.18411256,  8.80781354,  9.43151453]),\n",
       " <a list of 2 BarContainer objects>)"
      ]
     },
     "execution_count": 275,
     "metadata": {},
     "output_type": "execute_result"
    },
    {
     "data": {
      "text/plain": [
       "Text(0.5, 0, 'V21')"
      ]
     },
     "execution_count": 275,
     "metadata": {},
     "output_type": "execute_result"
    },
    {
     "data": {
      "text/plain": [
       "(0.0, 0.8)"
      ]
     },
     "execution_count": 275,
     "metadata": {},
     "output_type": "execute_result"
    },
    {
     "data": {
      "text/plain": [
       "(array([[0.00104561, 0.00100379, 0.0014778 , 0.00223064, 0.00370845,\n",
       "         0.00842068, 0.01211518, 0.02131659, 0.04411098, 0.07147819,\n",
       "         0.12877785, 0.27470376, 0.37276844, 0.34184614, 0.31836861,\n",
       "         0.35088024, 0.37380011, 0.34212497, 0.31003158, 0.28953754,\n",
       "         0.2595075 , 0.18426511, 0.11221532, 0.06948455, 0.0318285 ,\n",
       "         0.01548903, 0.00720777, 0.00426611, 0.00210517],\n",
       "        [0.        , 0.0083816 , 0.0083816 , 0.0083816 , 0.02514481,\n",
       "         0.03352641, 0.03352641, 0.03352641, 0.05028961, 0.08381602,\n",
       "         0.10896083, 0.26821127, 0.25144806, 0.35202729, 0.33526409,\n",
       "         0.34364569, 0.31850088, 0.35202729, 0.26821127, 0.26821127,\n",
       "         0.24306646, 0.23468486, 0.12572403, 0.08381602, 0.05028961,\n",
       "         0.02514481, 0.02514481, 0.        , 0.0167632 ]]),\n",
       " array([-4.07107703, -3.81830387, -3.56553071, -3.31275754, -3.05998438,\n",
       "        -2.80721122, -2.55443806, -2.3016649 , -2.04889174, -1.79611857,\n",
       "        -1.54334541, -1.29057225, -1.03779909, -0.78502593, -0.53225277,\n",
       "        -0.27947961, -0.02670644,  0.22606672,  0.47883988,  0.73161304,\n",
       "         0.9843862 ,  1.23715936,  1.48993252,  1.74270569,  1.99547885,\n",
       "         2.24825201,  2.50102517,  2.75379833,  3.00657149,  3.25934465]),\n",
       " <a list of 2 BarContainer objects>)"
      ]
     },
     "execution_count": 275,
     "metadata": {},
     "output_type": "execute_result"
    },
    {
     "data": {
      "text/plain": [
       "Text(0.5, 0, 'V22')"
      ]
     },
     "execution_count": 275,
     "metadata": {},
     "output_type": "execute_result"
    },
    {
     "data": {
      "text/plain": [
       "(0.0, 0.8)"
      ]
     },
     "execution_count": 275,
     "metadata": {},
     "output_type": "execute_result"
    },
    {
     "data": {
      "text/plain": [
       "(array([[1.98819053e-04, 1.67753576e-04, 3.35507153e-04, 5.52965492e-04,\n",
       "         6.08883351e-04, 6.83440496e-04, 8.76046454e-04, 1.40415956e-03,\n",
       "         1.92605958e-03, 3.25566200e-03, 6.07019422e-03, 1.37930718e-02,\n",
       "         6.74804293e-02, 5.46273988e-01, 8.59115769e-01, 1.96768732e-01,\n",
       "         2.87107139e-02, 1.29729432e-02, 7.55512403e-03, 4.74059180e-03,\n",
       "         2.65299174e-03, 2.07517387e-03, 1.32960242e-03, 9.87882171e-04,\n",
       "         7.08292878e-04, 5.71604778e-04, 4.97047633e-04, 3.66572630e-04,\n",
       "         3.23080962e-04],\n",
       "        [0.00000000e+00, 3.66528712e-03, 3.66528712e-03, 7.33057423e-03,\n",
       "         3.66528712e-03, 3.66528712e-03, 0.00000000e+00, 7.33057423e-03,\n",
       "         3.66528712e-03, 7.33057423e-03, 5.13140196e-02, 8.43016037e-02,\n",
       "         1.68603207e-01, 5.09474909e-01, 4.58160890e-01, 1.86929643e-01,\n",
       "         9.16321779e-02, 6.96404552e-02, 4.39834454e-02, 3.29875840e-02,\n",
       "         3.66528712e-03, 7.33057423e-03, 1.09958613e-02, 0.00000000e+00,\n",
       "         0.00000000e+00, 3.66528712e-03, 0.00000000e+00, 0.00000000e+00,\n",
       "         0.00000000e+00]]),\n",
       " array([-8.09025777, -7.52304379, -6.95582982, -6.38861584, -5.82140186,\n",
       "        -5.25418789, -4.68697391, -4.11975994, -3.55254596, -2.98533198,\n",
       "        -2.41811801, -1.85090403, -1.28369006, -0.71647608, -0.1492621 ,\n",
       "         0.41795187,  0.98516585,  1.55237983,  2.1195938 ,  2.68680778,\n",
       "         3.25402175,  3.82123573,  4.38844971,  4.95566368,  5.52287766,\n",
       "         6.09009163,  6.65730561,  7.22451959,  7.79173356,  8.35894754]),\n",
       " <a list of 2 BarContainer objects>)"
      ]
     },
     "execution_count": 275,
     "metadata": {},
     "output_type": "execute_result"
    },
    {
     "data": {
      "text/plain": [
       "Text(0.5, 0, 'V23')"
      ]
     },
     "execution_count": 275,
     "metadata": {},
     "output_type": "execute_result"
    },
    {
     "data": {
      "text/plain": [
       "(0.0, 0.8)"
      ]
     },
     "execution_count": 275,
     "metadata": {},
     "output_type": "execute_result"
    },
    {
     "data": {
      "text/plain": [
       "(array([[0.00357897, 0.03784607, 0.04872138, 0.06608233, 0.0883075 ,\n",
       "         0.08168345, 0.17394561, 0.131611  , 0.13028619, 0.14408795,\n",
       "         0.33503858, 0.38431361, 0.21232556, 0.35172724, 0.6745657 ,\n",
       "         0.4630113 , 0.24416055, 0.2257714 , 0.3852825 , 0.2739589 ,\n",
       "         0.27461142, 0.27836834, 0.2384263 , 0.08166368, 0.05698661,\n",
       "         0.11697877, 0.07545486, 0.0216913 , 0.01010415],\n",
       "        [0.01142687, 0.        , 0.01142687, 0.0342806 , 0.        ,\n",
       "         0.14854926, 0.19425672, 0.09141493, 0.21711045, 0.42279404,\n",
       "         0.38851344, 0.45707464, 0.51420897, 0.34280598, 0.41136718,\n",
       "         0.5027821 , 0.29709852, 0.31995225, 0.38851344, 0.29709852,\n",
       "         0.15997612, 0.18282986, 0.09141493, 0.09141493, 0.01142687,\n",
       "         0.01142687, 0.01142687, 0.        , 0.        ]]),\n",
       " array([-2.69488391, -2.51664957, -2.33841524, -2.1601809 , -1.98194656,\n",
       "        -1.80371223, -1.62547789, -1.44724356, -1.26900922, -1.09077488,\n",
       "        -0.91254055, -0.73430621, -0.55607187, -0.37783754, -0.1996032 ,\n",
       "        -0.02136886,  0.15686547,  0.33509981,  0.51333415,  0.69156848,\n",
       "         0.86980282,  1.04803715,  1.22627149,  1.40450583,  1.58274016,\n",
       "         1.7609745 ,  1.93920884,  2.11744317,  2.29567751,  2.47391185]),\n",
       " <a list of 2 BarContainer objects>)"
      ]
     },
     "execution_count": 275,
     "metadata": {},
     "output_type": "execute_result"
    },
    {
     "data": {
      "text/plain": [
       "Text(0.5, 0, 'V24')"
      ]
     },
     "execution_count": 275,
     "metadata": {},
     "output_type": "execute_result"
    },
    {
     "data": {
      "text/plain": [
       "(0.0, 0.8)"
      ]
     },
     "execution_count": 275,
     "metadata": {},
     "output_type": "execute_result"
    },
    {
     "data": {
      "text/plain": [
       "Text(0, 0.5, 'Fraction')"
      ]
     },
     "execution_count": 275,
     "metadata": {},
     "output_type": "execute_result"
    },
    {
     "data": {
      "text/plain": [
       "(array([[0.00239064, 0.00323365, 0.00416474, 0.00573753, 0.00875729,\n",
       "         0.01416768, 0.02469907, 0.03808665, 0.06021893, 0.11017069,\n",
       "         0.1816382 , 0.30015096, 0.42961033, 0.39548711, 0.34813989,\n",
       "         0.37901687, 0.38393656, 0.33146833, 0.22668287, 0.14129932,\n",
       "         0.07992282, 0.03853961, 0.02123894, 0.01590404, 0.01095919,\n",
       "         0.00688252, 0.00357338, 0.00259196, 0.00161054],\n",
       "        [0.        , 0.01478377, 0.03695942, 0.04435131, 0.05913508,\n",
       "         0.02956754, 0.04435131, 0.04435131, 0.05913508, 0.14044581,\n",
       "         0.0960945 , 0.23654031, 0.27349973, 0.34741858, 0.34741858,\n",
       "         0.31785104, 0.33263481, 0.32524293, 0.2439322 , 0.17001335,\n",
       "         0.06652696, 0.07391885, 0.03695942, 0.03695942, 0.05913508,\n",
       "         0.05913508, 0.03695942, 0.02217565, 0.01478377]]),\n",
       " array([-4.09603389, -3.81594383, -3.53585378, -3.25576373, -2.97567367,\n",
       "        -2.69558362, -2.41549357, -2.13540352, -1.85531346, -1.57522341,\n",
       "        -1.29513336, -1.01504331, -0.73495325, -0.4548632 , -0.17477315,\n",
       "         0.1053169 ,  0.38540696,  0.66549701,  0.94558706,  1.22567711,\n",
       "         1.50576717,  1.78585722,  2.06594727,  2.34603733,  2.62612738,\n",
       "         2.90621743,  3.18630748,  3.46639754,  3.74648759,  4.02657764]),\n",
       " <a list of 2 BarContainer objects>)"
      ]
     },
     "execution_count": 275,
     "metadata": {},
     "output_type": "execute_result"
    },
    {
     "data": {
      "text/plain": [
       "Text(0.5, 0, 'V25')"
      ]
     },
     "execution_count": 275,
     "metadata": {},
     "output_type": "execute_result"
    },
    {
     "data": {
      "text/plain": [
       "(0.0, 0.8)"
      ]
     },
     "execution_count": 275,
     "metadata": {},
     "output_type": "execute_result"
    },
    {
     "data": {
      "text/plain": [
       "(array([[0.00514345, 0.01030172, 0.01590468, 0.02208571, 0.02860766,\n",
       "         0.04740275, 0.0709559 , 0.11718767, 0.1453803 , 0.24255742,\n",
       "         0.29534079, 0.39438556, 0.39373337, 0.37845124, 0.34747196,\n",
       "         0.54559115, 0.26354626, 0.19906784, 0.16567247, 0.17724894,\n",
       "         0.11484569, 0.12919399, 0.06861393, 0.01357752, 0.00692217,\n",
       "         0.00229751, 0.00083007, 0.0011117 , 0.00243091],\n",
       "        [0.        , 0.03426363, 0.00856591, 0.05139544, 0.00856591,\n",
       "         0.00856591, 0.04282953, 0.06852726, 0.1284886 , 0.18844995,\n",
       "         0.20558177, 0.40259763, 0.45399307, 0.368334  , 0.41972944,\n",
       "         0.31693856, 0.32550447, 0.29980674, 0.41116354, 0.2398454 ,\n",
       "         0.09422498, 0.03426363, 0.07709316, 0.00856591, 0.        ,\n",
       "         0.        , 0.00856591, 0.        , 0.        ]]),\n",
       " array([-3.29363721, -3.05587373, -2.81811024, -2.58034676, -2.34258328,\n",
       "        -2.10481979, -1.86705631, -1.62929283, -1.39152935, -1.15376586,\n",
       "        -0.91600238, -0.6782389 , -0.44047541, -0.20271193,  0.03505155,\n",
       "         0.27281503,  0.51057852,  0.748342  ,  0.98610548,  1.22386897,\n",
       "         1.46163245,  1.69939593,  1.93715941,  2.1749229 ,  2.41268638,\n",
       "         2.65044986,  2.88821335,  3.12597683,  3.36374031,  3.60150379]),\n",
       " <a list of 2 BarContainer objects>)"
      ]
     },
     "execution_count": 275,
     "metadata": {},
     "output_type": "execute_result"
    },
    {
     "data": {
      "text/plain": [
       "Text(0.5, 0, 'V26')"
      ]
     },
     "execution_count": 275,
     "metadata": {},
     "output_type": "execute_result"
    },
    {
     "data": {
      "text/plain": [
       "(0.0, 0.8)"
      ]
     },
     "execution_count": 275,
     "metadata": {},
     "output_type": "execute_result"
    },
    {
     "data": {
      "text/plain": [
       "(array([[3.31292820e-04, 3.76764384e-04, 5.26170950e-04, 1.08482159e-03,\n",
       "         9.35415022e-04, 1.09781346e-03, 1.50056160e-03, 1.90330973e-03,\n",
       "         2.76726944e-03, 4.47570105e-03, 7.13253955e-03, 1.20044928e-02,\n",
       "         2.25214159e-02, 5.04604437e-02, 1.59027050e-01, 1.09383795e+00,\n",
       "         3.28012372e-01, 1.01401587e-01, 2.59122953e-02, 1.06598337e-02,\n",
       "         6.13216515e-03, 3.11155414e-03, 2.17613911e-03, 1.72142348e-03,\n",
       "         1.11080534e-03, 9.61398773e-04, 9.48406898e-04, 7.21049080e-04,\n",
       "         4.28731885e-04],\n",
       "        [3.85623593e-03, 3.85623593e-03, 3.85623593e-03, 1.54249437e-02,\n",
       "         2.31374156e-02, 2.31374156e-02, 3.85623593e-03, 1.54249437e-02,\n",
       "         1.92811796e-02, 5.39873030e-02, 1.92811796e-02, 2.31374156e-02,\n",
       "         1.92811796e-02, 3.47061233e-02, 9.64058982e-02, 2.62224043e-01,\n",
       "         1.81243089e-01, 2.42942863e-01, 2.42942863e-01, 1.38824493e-01,\n",
       "         5.01310671e-02, 1.15687078e-01, 6.94122467e-02, 6.55560108e-02,\n",
       "         2.69936515e-02, 2.69936515e-02, 4.62748311e-02, 1.54249437e-02,\n",
       "         0.00000000e+00]]),\n",
       " array([-8.49076672, -7.94825577, -7.40574482, -6.86323388, -6.32072293,\n",
       "        -5.77821198, -5.23570103, -4.69319008, -4.15067913, -3.60816819,\n",
       "        -3.06565724, -2.52314629, -1.98063534, -1.43812439, -0.89561345,\n",
       "        -0.3531025 ,  0.18940845,  0.7319194 ,  1.27443035,  1.81694129,\n",
       "         2.35945224,  2.90196319,  3.44447414,  3.98698509,  4.52949604,\n",
       "         5.07200698,  5.61451793,  6.15702888,  6.69953983,  7.24205078]),\n",
       " <a list of 2 BarContainer objects>)"
      ]
     },
     "execution_count": 275,
     "metadata": {},
     "output_type": "execute_result"
    },
    {
     "data": {
      "text/plain": [
       "Text(0.5, 0, 'V27')"
      ]
     },
     "execution_count": 275,
     "metadata": {},
     "output_type": "execute_result"
    },
    {
     "data": {
      "text/plain": [
       "(0.0, 0.8)"
      ]
     },
     "execution_count": 275,
     "metadata": {},
     "output_type": "execute_result"
    },
    {
     "data": {
      "text/plain": [
       "(array([[2.55735222e-04, 2.69558747e-04, 3.04117561e-04, 4.21617528e-04,\n",
       "         7.39558615e-04, 7.53382140e-04, 1.07823499e-03, 1.43764665e-03,\n",
       "         1.43764665e-03, 2.75779334e-03, 3.56646958e-03, 5.94411597e-03,\n",
       "         8.66735050e-03, 1.66366130e-02, 3.13586676e-02, 6.39130702e-02,\n",
       "         2.77728451e-01, 1.16577247e+00, 3.00882856e-01, 5.26538087e-02,\n",
       "         1.16048497e-02, 4.94882213e-03, 2.95132270e-03, 1.79014655e-03,\n",
       "         1.30632316e-03, 6.70440987e-04, 5.80588071e-04, 3.04117561e-04,\n",
       "         4.49264579e-04],\n",
       "        [0.00000000e+00, 0.00000000e+00, 0.00000000e+00, 0.00000000e+00,\n",
       "         0.00000000e+00, 7.97229689e-03, 0.00000000e+00, 7.97229689e-03,\n",
       "         4.78337813e-02, 1.99307422e-02, 3.58753360e-02, 2.79030391e-02,\n",
       "         5.58060782e-02, 3.98614844e-02, 8.76952658e-02, 5.97922267e-02,\n",
       "         1.47487492e-01, 3.34836469e-01, 3.78684102e-01, 3.62739508e-01,\n",
       "         1.43501344e-01, 8.37091173e-02, 7.17506720e-02, 1.59445938e-02,\n",
       "         3.98614844e-03, 1.99307422e-02, 0.00000000e+00, 7.97229689e-03,\n",
       "         0.00000000e+00]]),\n",
       " array([-8.84527292, -8.33537713, -7.82548134, -7.31558554, -6.80568975,\n",
       "        -6.29579396, -5.78589816, -5.27600237, -4.76610657, -4.25621078,\n",
       "        -3.74631499, -3.23641919, -2.7265234 , -2.21662761, -1.70673181,\n",
       "        -1.19683602, -0.68694022, -0.17704443,  0.33285136,  0.84274716,\n",
       "         1.35264295,  1.86253874,  2.37243454,  2.88233033,  3.39222613,\n",
       "         3.90212192,  4.41201771,  4.92191351,  5.4318093 ,  5.94170509]),\n",
       " <a list of 2 BarContainer objects>)"
      ]
     },
     "execution_count": 275,
     "metadata": {},
     "output_type": "execute_result"
    },
    {
     "data": {
      "text/plain": [
       "Text(0.5, 0, 'V28')"
      ]
     },
     "execution_count": 275,
     "metadata": {},
     "output_type": "execute_result"
    },
    {
     "data": {
      "text/plain": [
       "(0.0, 0.8)"
      ]
     },
     "execution_count": 275,
     "metadata": {},
     "output_type": "execute_result"
    },
    {
     "data": {
      "text/plain": [
       "Text(0, 0.5, 'Fraction')"
      ]
     },
     "execution_count": 275,
     "metadata": {},
     "output_type": "execute_result"
    },
    {
     "data": {
      "text/plain": [
       "(array([[0.06752923, 0.00774042, 0.58057461, 0.12897825, 0.29329507,\n",
       "         0.12986225, 0.18803399, 0.2139935 , 0.20528283, 0.43452   ,\n",
       "         0.38971612, 0.26953478, 0.36666735, 0.34564532, 0.36295885,\n",
       "         0.37270445, 0.32578758, 0.3199661 , 0.25748215, 0.23234196,\n",
       "         0.18423924, 0.14103088, 0.09984926, 0.07990528, 0.05122907,\n",
       "         0.03514452, 0.02175511, 0.012182  , 0.00605866],\n",
       "        [0.41075669, 0.01244717, 1.82973435, 0.14936607, 0.1369189 ,\n",
       "         0.04978869, 0.12447172, 0.09957738, 0.18670759, 0.12447172,\n",
       "         0.08713021, 0.14936607, 0.07468303, 0.14936607, 0.21160193,\n",
       "         0.11202455, 0.11202455, 0.63480579, 0.23649628, 0.17426041,\n",
       "         0.19915476, 0.28628497, 0.12447172, 0.14936607, 0.16181324,\n",
       "         0.03734152, 0.07468303, 0.02489434, 0.        ]]),\n",
       " array([-1.99154296, -1.82825123, -1.6649595 , -1.50166777, -1.33837604,\n",
       "        -1.17508431, -1.01179258, -0.84850085, -0.68520912, -0.52191739,\n",
       "        -0.35862566, -0.19533393, -0.0320422 ,  0.13124953,  0.29454126,\n",
       "         0.45783299,  0.62112472,  0.78441645,  0.94770818,  1.11099991,\n",
       "         1.27429164,  1.43758337,  1.6008751 ,  1.76416683,  1.92745856,\n",
       "         2.0907503 ,  2.25404203,  2.41733376,  2.58062549,  2.74391722]),\n",
       " <a list of 2 BarContainer objects>)"
      ]
     },
     "execution_count": 275,
     "metadata": {},
     "output_type": "execute_result"
    },
    {
     "data": {
      "text/plain": [
       "Text(0.5, 0, 'Amount')"
      ]
     },
     "execution_count": 275,
     "metadata": {},
     "output_type": "execute_result"
    },
    {
     "data": {
      "text/plain": [
       "(0.0, 0.8)"
      ]
     },
     "execution_count": 275,
     "metadata": {},
     "output_type": "execute_result"
    },
    {
     "data": {
      "image/png": "[encoded data removed]",
      "text/plain": [
       "<Figure size 1008x1152 with 30 Axes>"
      ]
     },
     "metadata": {},
     "output_type": "display_data"
    }
   ],
   "source": [
    "# Plot the data by each feature\n",
    "\n",
    "axarr = [[]]*len(data_cols)\n",
    "columns = 4\n",
    "rows = int( np.ceil( len(data_cols) / columns ) )\n",
    "f, fig = plt.subplots( figsize=(columns*3.5, rows*2) )\n",
    "\n",
    "_ = f.suptitle('Data Distributions by Feature and Class', size=16)\n",
    "\n",
    "for i, col in enumerate(data_cols[:]):\n",
    "    axarr[i] = plt.subplot2grid( (int(rows), int(columns)), (int(i//columns), int(i%columns)) )\n",
    "    axarr[i].hist( [ data.loc[ data.Class == 0, col ], data.loc[ data.Class == 1, col ] ], label=['normal','fraud'], \n",
    "                          bins=np.linspace( np.percentile(data[col],0.1), np.percentile(data[col],99.9), 30 ),\n",
    "                          density=True )\n",
    "    axarr[i].set_xlabel(col, size=12)\n",
    "    axarr[i].set_ylim([0,0.8])\n",
    "    axarr[i].tick_params(axis='both', labelsize=10)\n",
    "    if i == 0: \n",
    "        legend = axarr[i].legend()\n",
    "        legend.get_frame().set_facecolor('white')\n",
    "    if i%4 != 0 : \n",
    "        axarr[i].tick_params(axis='y', left='off', labelleft='off')\n",
    "    else:\n",
    "        axarr[i].set_ylabel('Fraction',size=12)\n",
    "\n",
    "plt.tight_layout(rect=[0,0,1,0.95]) # xmin, ymin, xmax, ymax\n",
    "plt.savefig('../reports/figures/Engineered_Data_Distributions.png')\n",
    "plt.show()"
   ]
  },
  {
   "cell_type": "code",
   "execution_count": 276,
   "id": "vertical-toyota",
   "metadata": {
    "ExecuteTime": {
     "end_time": "2021-02-11T18:53:35.951289Z",
     "start_time": "2021-02-11T18:53:35.853675Z"
    }
   },
   "outputs": [],
   "source": [
    "# Save engineered dataset for use in analysis\n",
    "# Save as pickle for faster reload\n",
    "\n",
    "pickle.dump(data, open(processed_data + 'credicard.engineered.pkl','wb'))"
   ]
  },
  {
   "cell_type": "markdown",
   "id": "configured-alias",
   "metadata": {},
   "source": [
    "## Hospital Readmissions"
   ]
  },
  {
   "cell_type": "code",
   "execution_count": 247,
   "id": "artificial-switzerland",
   "metadata": {
    "ExecuteTime": {
     "end_time": "2021-02-11T18:49:10.954965Z",
     "start_time": "2021-02-11T18:49:10.873454Z"
    }
   },
   "outputs": [
    {
     "name": "stdout",
     "output_type": "stream",
     "text": [
      "Dataset columns: ['time_in_hospital', 'num_lab_procedures', 'num_procedures', 'num_medications', 'number_outpatient', 'number_emergency', 'number_inpatient', 'number_diagnoses', 'race_Caucasian', 'race_AfricanAmerican', 'gender_Female', 'age_[70-80)', 'age_[60-70)', 'age_[50-60)', 'age_[80-90)', 'age_[40-50)', 'payer_code_?', 'payer_code_MC', 'payer_code_HM', 'payer_code_SP', 'payer_code_BC', 'medical_specialty_?', 'medical_specialty_InternalMedicine', 'medical_specialty_Emergency/Trauma', 'medical_specialty_Family/GeneralPractice', 'medical_specialty_Cardiology', 'diag_1_428', 'diag_1_414', 'diag_1_786', 'diag_2_276', 'diag_2_428', 'diag_2_250', 'diag_2_427', 'diag_3_250', 'diag_3_401', 'diag_3_276', 'diag_3_428', 'max_glu_serum_None', 'A1Cresult_None', 'metformin_No', 'repaglinide_No', 'nateglinide_No', 'chlorpropamide_No', 'glimepiride_No', 'acetohexamide_No', 'glipizide_No', 'glyburide_No', 'tolbutamide_No', 'pioglitazone_No', 'rosiglitazone_No', 'acarbose_No', 'miglitol_No', 'troglitazone_No', 'tolazamide_No', 'examide_No', 'citoglipton_No', 'insulin_No', 'glyburide-metformin_No', 'glipizide-metformin_No', 'glimepiride-pioglitazone_No', 'metformin-rosiglitazone_No', 'metformin-pioglitazone_No', 'change_No', 'diabetesMed_Yes']\n",
      "# of data columns:  64\n"
     ]
    },
    {
     "data": {
      "text/html": [
       "<div>\n",
       "<style scoped>\n",
       "    .dataframe tbody tr th:only-of-type {\n",
       "        vertical-align: middle;\n",
       "    }\n",
       "\n",
       "    .dataframe tbody tr th {\n",
       "        vertical-align: top;\n",
       "    }\n",
       "\n",
       "    .dataframe thead th {\n",
       "        text-align: right;\n",
       "    }\n",
       "</style>\n",
       "<table border=\"1\" class=\"dataframe\">\n",
       "  <thead>\n",
       "    <tr style=\"text-align: right;\">\n",
       "      <th></th>\n",
       "      <th>time_in_hospital</th>\n",
       "      <th>num_lab_procedures</th>\n",
       "      <th>num_procedures</th>\n",
       "      <th>num_medications</th>\n",
       "      <th>number_outpatient</th>\n",
       "      <th>number_emergency</th>\n",
       "      <th>number_inpatient</th>\n",
       "      <th>number_diagnoses</th>\n",
       "      <th>race_Caucasian</th>\n",
       "      <th>race_AfricanAmerican</th>\n",
       "      <th>gender_Female</th>\n",
       "      <th>age_[70-80)</th>\n",
       "      <th>age_[60-70)</th>\n",
       "      <th>age_[50-60)</th>\n",
       "      <th>age_[80-90)</th>\n",
       "      <th>age_[40-50)</th>\n",
       "      <th>payer_code_?</th>\n",
       "      <th>payer_code_MC</th>\n",
       "      <th>payer_code_HM</th>\n",
       "      <th>payer_code_SP</th>\n",
       "      <th>payer_code_BC</th>\n",
       "      <th>medical_specialty_?</th>\n",
       "      <th>medical_specialty_InternalMedicine</th>\n",
       "      <th>medical_specialty_Emergency/Trauma</th>\n",
       "      <th>medical_specialty_Family/GeneralPractice</th>\n",
       "      <th>...</th>\n",
       "      <th>repaglinide_No</th>\n",
       "      <th>nateglinide_No</th>\n",
       "      <th>chlorpropamide_No</th>\n",
       "      <th>glimepiride_No</th>\n",
       "      <th>acetohexamide_No</th>\n",
       "      <th>glipizide_No</th>\n",
       "      <th>glyburide_No</th>\n",
       "      <th>tolbutamide_No</th>\n",
       "      <th>pioglitazone_No</th>\n",
       "      <th>rosiglitazone_No</th>\n",
       "      <th>acarbose_No</th>\n",
       "      <th>miglitol_No</th>\n",
       "      <th>troglitazone_No</th>\n",
       "      <th>tolazamide_No</th>\n",
       "      <th>examide_No</th>\n",
       "      <th>citoglipton_No</th>\n",
       "      <th>insulin_No</th>\n",
       "      <th>glyburide-metformin_No</th>\n",
       "      <th>glipizide-metformin_No</th>\n",
       "      <th>glimepiride-pioglitazone_No</th>\n",
       "      <th>metformin-rosiglitazone_No</th>\n",
       "      <th>metformin-pioglitazone_No</th>\n",
       "      <th>change_No</th>\n",
       "      <th>diabetesMed_Yes</th>\n",
       "      <th>readmitted</th>\n",
       "    </tr>\n",
       "  </thead>\n",
       "  <tbody>\n",
       "    <tr>\n",
       "      <th>0</th>\n",
       "      <td>14</td>\n",
       "      <td>41</td>\n",
       "      <td>0</td>\n",
       "      <td>11</td>\n",
       "      <td>0</td>\n",
       "      <td>0</td>\n",
       "      <td>0</td>\n",
       "      <td>6</td>\n",
       "      <td>True</td>\n",
       "      <td>False</td>\n",
       "      <td>False</td>\n",
       "      <td>False</td>\n",
       "      <td>False</td>\n",
       "      <td>True</td>\n",
       "      <td>False</td>\n",
       "      <td>False</td>\n",
       "      <td>False</td>\n",
       "      <td>False</td>\n",
       "      <td>False</td>\n",
       "      <td>True</td>\n",
       "      <td>False</td>\n",
       "      <td>True</td>\n",
       "      <td>False</td>\n",
       "      <td>False</td>\n",
       "      <td>False</td>\n",
       "      <td>...</td>\n",
       "      <td>True</td>\n",
       "      <td>True</td>\n",
       "      <td>True</td>\n",
       "      <td>True</td>\n",
       "      <td>True</td>\n",
       "      <td>False</td>\n",
       "      <td>True</td>\n",
       "      <td>True</td>\n",
       "      <td>True</td>\n",
       "      <td>True</td>\n",
       "      <td>True</td>\n",
       "      <td>True</td>\n",
       "      <td>True</td>\n",
       "      <td>True</td>\n",
       "      <td>True</td>\n",
       "      <td>True</td>\n",
       "      <td>True</td>\n",
       "      <td>True</td>\n",
       "      <td>True</td>\n",
       "      <td>True</td>\n",
       "      <td>True</td>\n",
       "      <td>True</td>\n",
       "      <td>True</td>\n",
       "      <td>True</td>\n",
       "      <td>0</td>\n",
       "    </tr>\n",
       "    <tr>\n",
       "      <th>1</th>\n",
       "      <td>2</td>\n",
       "      <td>30</td>\n",
       "      <td>0</td>\n",
       "      <td>12</td>\n",
       "      <td>0</td>\n",
       "      <td>0</td>\n",
       "      <td>1</td>\n",
       "      <td>9</td>\n",
       "      <td>True</td>\n",
       "      <td>False</td>\n",
       "      <td>True</td>\n",
       "      <td>False</td>\n",
       "      <td>False</td>\n",
       "      <td>True</td>\n",
       "      <td>False</td>\n",
       "      <td>False</td>\n",
       "      <td>False</td>\n",
       "      <td>False</td>\n",
       "      <td>False</td>\n",
       "      <td>True</td>\n",
       "      <td>False</td>\n",
       "      <td>True</td>\n",
       "      <td>False</td>\n",
       "      <td>False</td>\n",
       "      <td>False</td>\n",
       "      <td>...</td>\n",
       "      <td>True</td>\n",
       "      <td>True</td>\n",
       "      <td>True</td>\n",
       "      <td>True</td>\n",
       "      <td>True</td>\n",
       "      <td>True</td>\n",
       "      <td>True</td>\n",
       "      <td>True</td>\n",
       "      <td>False</td>\n",
       "      <td>True</td>\n",
       "      <td>True</td>\n",
       "      <td>True</td>\n",
       "      <td>True</td>\n",
       "      <td>True</td>\n",
       "      <td>True</td>\n",
       "      <td>True</td>\n",
       "      <td>False</td>\n",
       "      <td>True</td>\n",
       "      <td>True</td>\n",
       "      <td>True</td>\n",
       "      <td>True</td>\n",
       "      <td>True</td>\n",
       "      <td>False</td>\n",
       "      <td>True</td>\n",
       "      <td>1</td>\n",
       "    </tr>\n",
       "    <tr>\n",
       "      <th>2</th>\n",
       "      <td>5</td>\n",
       "      <td>66</td>\n",
       "      <td>0</td>\n",
       "      <td>22</td>\n",
       "      <td>1</td>\n",
       "      <td>0</td>\n",
       "      <td>2</td>\n",
       "      <td>9</td>\n",
       "      <td>True</td>\n",
       "      <td>False</td>\n",
       "      <td>True</td>\n",
       "      <td>False</td>\n",
       "      <td>False</td>\n",
       "      <td>False</td>\n",
       "      <td>True</td>\n",
       "      <td>False</td>\n",
       "      <td>False</td>\n",
       "      <td>True</td>\n",
       "      <td>False</td>\n",
       "      <td>False</td>\n",
       "      <td>False</td>\n",
       "      <td>True</td>\n",
       "      <td>False</td>\n",
       "      <td>False</td>\n",
       "      <td>False</td>\n",
       "      <td>...</td>\n",
       "      <td>True</td>\n",
       "      <td>True</td>\n",
       "      <td>True</td>\n",
       "      <td>True</td>\n",
       "      <td>True</td>\n",
       "      <td>True</td>\n",
       "      <td>True</td>\n",
       "      <td>True</td>\n",
       "      <td>True</td>\n",
       "      <td>True</td>\n",
       "      <td>True</td>\n",
       "      <td>True</td>\n",
       "      <td>True</td>\n",
       "      <td>True</td>\n",
       "      <td>True</td>\n",
       "      <td>True</td>\n",
       "      <td>True</td>\n",
       "      <td>True</td>\n",
       "      <td>True</td>\n",
       "      <td>True</td>\n",
       "      <td>True</td>\n",
       "      <td>True</td>\n",
       "      <td>True</td>\n",
       "      <td>True</td>\n",
       "      <td>1</td>\n",
       "    </tr>\n",
       "    <tr>\n",
       "      <th>3</th>\n",
       "      <td>3</td>\n",
       "      <td>63</td>\n",
       "      <td>0</td>\n",
       "      <td>8</td>\n",
       "      <td>0</td>\n",
       "      <td>0</td>\n",
       "      <td>0</td>\n",
       "      <td>8</td>\n",
       "      <td>True</td>\n",
       "      <td>False</td>\n",
       "      <td>True</td>\n",
       "      <td>False</td>\n",
       "      <td>False</td>\n",
       "      <td>True</td>\n",
       "      <td>False</td>\n",
       "      <td>False</td>\n",
       "      <td>True</td>\n",
       "      <td>False</td>\n",
       "      <td>False</td>\n",
       "      <td>False</td>\n",
       "      <td>False</td>\n",
       "      <td>True</td>\n",
       "      <td>False</td>\n",
       "      <td>False</td>\n",
       "      <td>False</td>\n",
       "      <td>...</td>\n",
       "      <td>True</td>\n",
       "      <td>True</td>\n",
       "      <td>True</td>\n",
       "      <td>True</td>\n",
       "      <td>True</td>\n",
       "      <td>True</td>\n",
       "      <td>False</td>\n",
       "      <td>True</td>\n",
       "      <td>True</td>\n",
       "      <td>True</td>\n",
       "      <td>True</td>\n",
       "      <td>True</td>\n",
       "      <td>True</td>\n",
       "      <td>True</td>\n",
       "      <td>True</td>\n",
       "      <td>True</td>\n",
       "      <td>True</td>\n",
       "      <td>True</td>\n",
       "      <td>True</td>\n",
       "      <td>True</td>\n",
       "      <td>True</td>\n",
       "      <td>True</td>\n",
       "      <td>True</td>\n",
       "      <td>True</td>\n",
       "      <td>1</td>\n",
       "    </tr>\n",
       "    <tr>\n",
       "      <th>4</th>\n",
       "      <td>5</td>\n",
       "      <td>40</td>\n",
       "      <td>0</td>\n",
       "      <td>6</td>\n",
       "      <td>0</td>\n",
       "      <td>0</td>\n",
       "      <td>1</td>\n",
       "      <td>9</td>\n",
       "      <td>True</td>\n",
       "      <td>False</td>\n",
       "      <td>True</td>\n",
       "      <td>False</td>\n",
       "      <td>False</td>\n",
       "      <td>False</td>\n",
       "      <td>True</td>\n",
       "      <td>False</td>\n",
       "      <td>True</td>\n",
       "      <td>False</td>\n",
       "      <td>False</td>\n",
       "      <td>False</td>\n",
       "      <td>False</td>\n",
       "      <td>False</td>\n",
       "      <td>False</td>\n",
       "      <td>False</td>\n",
       "      <td>True</td>\n",
       "      <td>...</td>\n",
       "      <td>True</td>\n",
       "      <td>True</td>\n",
       "      <td>True</td>\n",
       "      <td>True</td>\n",
       "      <td>True</td>\n",
       "      <td>True</td>\n",
       "      <td>True</td>\n",
       "      <td>True</td>\n",
       "      <td>True</td>\n",
       "      <td>True</td>\n",
       "      <td>True</td>\n",
       "      <td>True</td>\n",
       "      <td>True</td>\n",
       "      <td>True</td>\n",
       "      <td>True</td>\n",
       "      <td>True</td>\n",
       "      <td>True</td>\n",
       "      <td>True</td>\n",
       "      <td>True</td>\n",
       "      <td>True</td>\n",
       "      <td>True</td>\n",
       "      <td>True</td>\n",
       "      <td>True</td>\n",
       "      <td>False</td>\n",
       "      <td>0</td>\n",
       "    </tr>\n",
       "  </tbody>\n",
       "</table>\n",
       "<p>5 rows × 65 columns</p>\n",
       "</div>"
      ],
      "text/plain": [
       "   time_in_hospital  num_lab_procedures  num_procedures  num_medications  \\\n",
       "0                14                  41               0               11   \n",
       "1                 2                  30               0               12   \n",
       "2                 5                  66               0               22   \n",
       "3                 3                  63               0                8   \n",
       "4                 5                  40               0                6   \n",
       "\n",
       "   number_outpatient  number_emergency  number_inpatient  number_diagnoses  \\\n",
       "0                  0                 0                 0                 6   \n",
       "1                  0                 0                 1                 9   \n",
       "2                  1                 0                 2                 9   \n",
       "3                  0                 0                 0                 8   \n",
       "4                  0                 0                 1                 9   \n",
       "\n",
       "   race_Caucasian  race_AfricanAmerican  gender_Female  age_[70-80)  \\\n",
       "0            True                 False          False        False   \n",
       "1            True                 False           True        False   \n",
       "2            True                 False           True        False   \n",
       "3            True                 False           True        False   \n",
       "4            True                 False           True        False   \n",
       "\n",
       "   age_[60-70)  age_[50-60)  age_[80-90)  age_[40-50)  payer_code_?  \\\n",
       "0        False         True        False        False         False   \n",
       "1        False         True        False        False         False   \n",
       "2        False        False         True        False         False   \n",
       "3        False         True        False        False          True   \n",
       "4        False        False         True        False          True   \n",
       "\n",
       "   payer_code_MC  payer_code_HM  payer_code_SP  payer_code_BC  \\\n",
       "0          False          False           True          False   \n",
       "1          False          False           True          False   \n",
       "2           True          False          False          False   \n",
       "3          False          False          False          False   \n",
       "4          False          False          False          False   \n",
       "\n",
       "   medical_specialty_?  medical_specialty_InternalMedicine  \\\n",
       "0                 True                               False   \n",
       "1                 True                               False   \n",
       "2                 True                               False   \n",
       "3                 True                               False   \n",
       "4                False                               False   \n",
       "\n",
       "   medical_specialty_Emergency/Trauma  \\\n",
       "0                               False   \n",
       "1                               False   \n",
       "2                               False   \n",
       "3                               False   \n",
       "4                               False   \n",
       "\n",
       "   medical_specialty_Family/GeneralPractice  ...  repaglinide_No  \\\n",
       "0                                     False  ...            True   \n",
       "1                                     False  ...            True   \n",
       "2                                     False  ...            True   \n",
       "3                                     False  ...            True   \n",
       "4                                      True  ...            True   \n",
       "\n",
       "   nateglinide_No  chlorpropamide_No  glimepiride_No  acetohexamide_No  \\\n",
       "0            True               True            True              True   \n",
       "1            True               True            True              True   \n",
       "2            True               True            True              True   \n",
       "3            True               True            True              True   \n",
       "4            True               True            True              True   \n",
       "\n",
       "   glipizide_No  glyburide_No  tolbutamide_No  pioglitazone_No  \\\n",
       "0         False          True            True             True   \n",
       "1          True          True            True            False   \n",
       "2          True          True            True             True   \n",
       "3          True         False            True             True   \n",
       "4          True          True            True             True   \n",
       "\n",
       "   rosiglitazone_No  acarbose_No  miglitol_No  troglitazone_No  tolazamide_No  \\\n",
       "0              True         True         True             True           True   \n",
       "1              True         True         True             True           True   \n",
       "2              True         True         True             True           True   \n",
       "3              True         True         True             True           True   \n",
       "4              True         True         True             True           True   \n",
       "\n",
       "   examide_No  citoglipton_No  insulin_No  glyburide-metformin_No  \\\n",
       "0        True            True        True                    True   \n",
       "1        True            True       False                    True   \n",
       "2        True            True        True                    True   \n",
       "3        True            True        True                    True   \n",
       "4        True            True        True                    True   \n",
       "\n",
       "   glipizide-metformin_No  glimepiride-pioglitazone_No  \\\n",
       "0                    True                         True   \n",
       "1                    True                         True   \n",
       "2                    True                         True   \n",
       "3                    True                         True   \n",
       "4                    True                         True   \n",
       "\n",
       "   metformin-rosiglitazone_No  metformin-pioglitazone_No  change_No  \\\n",
       "0                        True                       True       True   \n",
       "1                        True                       True      False   \n",
       "2                        True                       True       True   \n",
       "3                        True                       True       True   \n",
       "4                        True                       True       True   \n",
       "\n",
       "   diabetesMed_Yes  readmitted  \n",
       "0             True           0  \n",
       "1             True           1  \n",
       "2             True           1  \n",
       "3             True           1  \n",
       "4            False           0  \n",
       "\n",
       "[5 rows x 65 columns]"
      ]
     },
     "execution_count": 247,
     "metadata": {},
     "output_type": "execute_result"
    }
   ],
   "source": [
    "data = readmissions.copy()\n",
    "data_cols = list(data.columns[ data.columns != 'readmitted'])\n",
    "label_cols = ['readmitted']\n",
    "\n",
    "print('Dataset columns: {}'.format(data_cols))\n",
    "print('# of data columns: ',len(data_cols))\n",
    "data.head()"
   ]
  },
  {
   "cell_type": "code",
   "execution_count": 248,
   "id": "parliamentary-night",
   "metadata": {
    "ExecuteTime": {
     "end_time": "2021-02-11T18:49:17.538955Z",
     "start_time": "2021-02-11T18:49:17.483872Z"
    }
   },
   "outputs": [
    {
     "data": {
      "text/plain": [
       "readmitted\n",
       "0    13590\n",
       "1    11410\n",
       "Name: readmitted, dtype: int64"
      ]
     },
     "execution_count": 248,
     "metadata": {},
     "output_type": "execute_result"
    }
   ],
   "source": [
    "# 13590 non-readmitted(class 0)\n",
    "# 11410 readmitted (class 1)\n",
    "\n",
    "data.groupby('readmitted')['readmitted'].count()"
   ]
  },
  {
   "cell_type": "code",
   "execution_count": 249,
   "id": "rubber-leeds",
   "metadata": {
    "ExecuteTime": {
     "end_time": "2021-02-11T18:49:18.369519Z",
     "start_time": "2021-02-11T18:49:18.315365Z"
    }
   },
   "outputs": [
    {
     "data": {
      "text/plain": [
       "0"
      ]
     },
     "execution_count": 249,
     "metadata": {},
     "output_type": "execute_result"
    }
   ],
   "source": [
    "# Total nulls in dataset (sum over rows, then over columns)\n",
    "\n",
    "data.isnull().sum().sum()"
   ]
  },
  {
   "cell_type": "code",
   "execution_count": 250,
   "id": "imposed-injury",
   "metadata": {
    "ExecuteTime": {
     "end_time": "2021-02-11T18:49:19.004970Z",
     "start_time": "2021-02-11T18:49:18.943647Z"
    }
   },
   "outputs": [
    {
     "name": "stdout",
     "output_type": "stream",
     "text": [
      "<class 'pandas.core.frame.DataFrame'>\n",
      "RangeIndex: 25000 entries, 0 to 24999\n",
      "Data columns (total 65 columns):\n",
      " #   Column                                    Non-Null Count  Dtype\n",
      "---  ------                                    --------------  -----\n",
      " 0   time_in_hospital                          25000 non-null  int64\n",
      " 1   num_lab_procedures                        25000 non-null  int64\n",
      " 2   num_procedures                            25000 non-null  int64\n",
      " 3   num_medications                           25000 non-null  int64\n",
      " 4   number_outpatient                         25000 non-null  int64\n",
      " 5   number_emergency                          25000 non-null  int64\n",
      " 6   number_inpatient                          25000 non-null  int64\n",
      " 7   number_diagnoses                          25000 non-null  int64\n",
      " 8   race_Caucasian                            25000 non-null  bool \n",
      " 9   race_AfricanAmerican                      25000 non-null  bool \n",
      " 10  gender_Female                             25000 non-null  bool \n",
      " 11  age_[70-80)                               25000 non-null  bool \n",
      " 12  age_[60-70)                               25000 non-null  bool \n",
      " 13  age_[50-60)                               25000 non-null  bool \n",
      " 14  age_[80-90)                               25000 non-null  bool \n",
      " 15  age_[40-50)                               25000 non-null  bool \n",
      " 16  payer_code_?                              25000 non-null  bool \n",
      " 17  payer_code_MC                             25000 non-null  bool \n",
      " 18  payer_code_HM                             25000 non-null  bool \n",
      " 19  payer_code_SP                             25000 non-null  bool \n",
      " 20  payer_code_BC                             25000 non-null  bool \n",
      " 21  medical_specialty_?                       25000 non-null  bool \n",
      " 22  medical_specialty_InternalMedicine        25000 non-null  bool \n",
      " 23  medical_specialty_Emergency/Trauma        25000 non-null  bool \n",
      " 24  medical_specialty_Family/GeneralPractice  25000 non-null  bool \n",
      " 25  medical_specialty_Cardiology              25000 non-null  bool \n",
      " 26  diag_1_428                                25000 non-null  bool \n",
      " 27  diag_1_414                                25000 non-null  bool \n",
      " 28  diag_1_786                                25000 non-null  bool \n",
      " 29  diag_2_276                                25000 non-null  bool \n",
      " 30  diag_2_428                                25000 non-null  bool \n",
      " 31  diag_2_250                                25000 non-null  bool \n",
      " 32  diag_2_427                                25000 non-null  bool \n",
      " 33  diag_3_250                                25000 non-null  bool \n",
      " 34  diag_3_401                                25000 non-null  bool \n",
      " 35  diag_3_276                                25000 non-null  bool \n",
      " 36  diag_3_428                                25000 non-null  bool \n",
      " 37  max_glu_serum_None                        25000 non-null  bool \n",
      " 38  A1Cresult_None                            25000 non-null  bool \n",
      " 39  metformin_No                              25000 non-null  bool \n",
      " 40  repaglinide_No                            25000 non-null  bool \n",
      " 41  nateglinide_No                            25000 non-null  bool \n",
      " 42  chlorpropamide_No                         25000 non-null  bool \n",
      " 43  glimepiride_No                            25000 non-null  bool \n",
      " 44  acetohexamide_No                          25000 non-null  bool \n",
      " 45  glipizide_No                              25000 non-null  bool \n",
      " 46  glyburide_No                              25000 non-null  bool \n",
      " 47  tolbutamide_No                            25000 non-null  bool \n",
      " 48  pioglitazone_No                           25000 non-null  bool \n",
      " 49  rosiglitazone_No                          25000 non-null  bool \n",
      " 50  acarbose_No                               25000 non-null  bool \n",
      " 51  miglitol_No                               25000 non-null  bool \n",
      " 52  troglitazone_No                           25000 non-null  bool \n",
      " 53  tolazamide_No                             25000 non-null  bool \n",
      " 54  examide_No                                25000 non-null  bool \n",
      " 55  citoglipton_No                            25000 non-null  bool \n",
      " 56  insulin_No                                25000 non-null  bool \n",
      " 57  glyburide-metformin_No                    25000 non-null  bool \n",
      " 58  glipizide-metformin_No                    25000 non-null  bool \n",
      " 59  glimepiride-pioglitazone_No               25000 non-null  bool \n",
      " 60  metformin-rosiglitazone_No                25000 non-null  bool \n",
      " 61  metformin-pioglitazone_No                 25000 non-null  bool \n",
      " 62  change_No                                 25000 non-null  bool \n",
      " 63  diabetesMed_Yes                           25000 non-null  bool \n",
      " 64  readmitted                                25000 non-null  int64\n",
      "dtypes: bool(56), int64(9)\n",
      "memory usage: 3.1 MB\n"
     ]
    }
   ],
   "source": [
    "data.info()"
   ]
  },
  {
   "cell_type": "code",
   "execution_count": 251,
   "id": "anticipated-motorcycle",
   "metadata": {
    "ExecuteTime": {
     "end_time": "2021-02-11T18:49:22.177692Z",
     "start_time": "2021-02-11T18:49:22.082740Z"
    }
   },
   "outputs": [
    {
     "name": "stdout",
     "output_type": "stream",
     "text": [
      "Normal duplicates 0\n",
      "Fraud duplicates 0\n",
      "Total duplicates 0\n",
      "Fraction duplicated 0.0\n"
     ]
    }
   ],
   "source": [
    "# Duplicates? No\n",
    "\n",
    "normal_duplicates = sum( data.loc[ data.readmitted==0 ].duplicated() )\n",
    "fraud_duplicates = sum( data.loc[ data.readmitted==1 ].duplicated() )\n",
    "total_duplicates = normal_duplicates + fraud_duplicates\n",
    "\n",
    "print( 'Normal duplicates', normal_duplicates )\n",
    "print( 'Fraud duplicates', fraud_duplicates )\n",
    "print( 'Total duplicates', total_duplicates )\n",
    "print( 'Fraction duplicated', total_duplicates / len(data) )"
   ]
  },
  {
   "cell_type": "code",
   "execution_count": 252,
   "id": "combined-yukon",
   "metadata": {
    "ExecuteTime": {
     "end_time": "2021-02-11T18:49:25.310155Z",
     "start_time": "2021-02-11T18:49:25.056563Z"
    }
   },
   "outputs": [
    {
     "data": {
      "text/plain": [
       "<matplotlib.legend.Legend at 0x7f849208cca0>"
      ]
     },
     "execution_count": 252,
     "metadata": {},
     "output_type": "execute_result"
    },
    {
     "data": {
      "image/png": "[encoded data removed]",
      "text/plain": [
       "<Figure size 432x288 with 1 Axes>"
      ]
     },
     "metadata": {},
     "output_type": "display_data"
    }
   ],
   "source": [
    "# Distribution of time in hospital by readmission\n",
    "\n",
    "_ = plt.hist( [ data.loc[ data['readmitted']==0, 'time_in_hospital'], data.loc[ data['readmitted']==1, 'time_in_hospital'] ],\n",
    "         density=True, label=['no readmission','readmission'], bins=np.linspace(0,24,25))\n",
    "plt.legend()\n",
    "plt.show()\n"
   ]
  },
  {
   "cell_type": "code",
   "execution_count": 253,
   "id": "interim-alcohol",
   "metadata": {
    "ExecuteTime": {
     "end_time": "2021-02-11T18:49:27.582338Z",
     "start_time": "2021-02-11T18:49:27.486965Z"
    }
   },
   "outputs": [
    {
     "name": "stdout",
     "output_type": "stream",
     "text": [
      "(25000, 60)\n"
     ]
    },
    {
     "data": {
      "text/html": [
       "<div>\n",
       "<style scoped>\n",
       "    .dataframe tbody tr th:only-of-type {\n",
       "        vertical-align: middle;\n",
       "    }\n",
       "\n",
       "    .dataframe tbody tr th {\n",
       "        vertical-align: top;\n",
       "    }\n",
       "\n",
       "    .dataframe thead th {\n",
       "        text-align: right;\n",
       "    }\n",
       "</style>\n",
       "<table border=\"1\" class=\"dataframe\">\n",
       "  <thead>\n",
       "    <tr style=\"text-align: right;\">\n",
       "      <th></th>\n",
       "      <th>time_in_hospital</th>\n",
       "      <th>num_lab_procedures</th>\n",
       "      <th>num_procedures</th>\n",
       "      <th>num_medications</th>\n",
       "      <th>number_outpatient</th>\n",
       "      <th>number_emergency</th>\n",
       "      <th>number_inpatient</th>\n",
       "      <th>number_diagnoses</th>\n",
       "      <th>race_Caucasian</th>\n",
       "      <th>race_AfricanAmerican</th>\n",
       "      <th>gender_Female</th>\n",
       "      <th>age_[70-80)</th>\n",
       "      <th>age_[60-70)</th>\n",
       "      <th>age_[50-60)</th>\n",
       "      <th>age_[80-90)</th>\n",
       "      <th>age_[40-50)</th>\n",
       "      <th>payer_code_?</th>\n",
       "      <th>payer_code_MC</th>\n",
       "      <th>payer_code_HM</th>\n",
       "      <th>payer_code_SP</th>\n",
       "      <th>payer_code_BC</th>\n",
       "      <th>medical_specialty_?</th>\n",
       "      <th>medical_specialty_InternalMedicine</th>\n",
       "      <th>medical_specialty_Emergency/Trauma</th>\n",
       "      <th>medical_specialty_Family/GeneralPractice</th>\n",
       "      <th>...</th>\n",
       "      <th>diag_3_276</th>\n",
       "      <th>diag_3_428</th>\n",
       "      <th>max_glu_serum_None</th>\n",
       "      <th>A1Cresult_None</th>\n",
       "      <th>metformin_No</th>\n",
       "      <th>repaglinide_No</th>\n",
       "      <th>nateglinide_No</th>\n",
       "      <th>chlorpropamide_No</th>\n",
       "      <th>glimepiride_No</th>\n",
       "      <th>glipizide_No</th>\n",
       "      <th>glyburide_No</th>\n",
       "      <th>tolbutamide_No</th>\n",
       "      <th>pioglitazone_No</th>\n",
       "      <th>rosiglitazone_No</th>\n",
       "      <th>acarbose_No</th>\n",
       "      <th>miglitol_No</th>\n",
       "      <th>troglitazone_No</th>\n",
       "      <th>tolazamide_No</th>\n",
       "      <th>insulin_No</th>\n",
       "      <th>glyburide-metformin_No</th>\n",
       "      <th>glipizide-metformin_No</th>\n",
       "      <th>glimepiride-pioglitazone_No</th>\n",
       "      <th>change_No</th>\n",
       "      <th>diabetesMed_Yes</th>\n",
       "      <th>readmitted</th>\n",
       "    </tr>\n",
       "  </thead>\n",
       "  <tbody>\n",
       "    <tr>\n",
       "      <th>0</th>\n",
       "      <td>14</td>\n",
       "      <td>41</td>\n",
       "      <td>0</td>\n",
       "      <td>11</td>\n",
       "      <td>0</td>\n",
       "      <td>0</td>\n",
       "      <td>0</td>\n",
       "      <td>6</td>\n",
       "      <td>True</td>\n",
       "      <td>False</td>\n",
       "      <td>False</td>\n",
       "      <td>False</td>\n",
       "      <td>False</td>\n",
       "      <td>True</td>\n",
       "      <td>False</td>\n",
       "      <td>False</td>\n",
       "      <td>False</td>\n",
       "      <td>False</td>\n",
       "      <td>False</td>\n",
       "      <td>True</td>\n",
       "      <td>False</td>\n",
       "      <td>True</td>\n",
       "      <td>False</td>\n",
       "      <td>False</td>\n",
       "      <td>False</td>\n",
       "      <td>...</td>\n",
       "      <td>False</td>\n",
       "      <td>False</td>\n",
       "      <td>True</td>\n",
       "      <td>True</td>\n",
       "      <td>True</td>\n",
       "      <td>True</td>\n",
       "      <td>True</td>\n",
       "      <td>True</td>\n",
       "      <td>True</td>\n",
       "      <td>False</td>\n",
       "      <td>True</td>\n",
       "      <td>True</td>\n",
       "      <td>True</td>\n",
       "      <td>True</td>\n",
       "      <td>True</td>\n",
       "      <td>True</td>\n",
       "      <td>True</td>\n",
       "      <td>True</td>\n",
       "      <td>True</td>\n",
       "      <td>True</td>\n",
       "      <td>True</td>\n",
       "      <td>True</td>\n",
       "      <td>True</td>\n",
       "      <td>True</td>\n",
       "      <td>0</td>\n",
       "    </tr>\n",
       "    <tr>\n",
       "      <th>1</th>\n",
       "      <td>2</td>\n",
       "      <td>30</td>\n",
       "      <td>0</td>\n",
       "      <td>12</td>\n",
       "      <td>0</td>\n",
       "      <td>0</td>\n",
       "      <td>1</td>\n",
       "      <td>9</td>\n",
       "      <td>True</td>\n",
       "      <td>False</td>\n",
       "      <td>True</td>\n",
       "      <td>False</td>\n",
       "      <td>False</td>\n",
       "      <td>True</td>\n",
       "      <td>False</td>\n",
       "      <td>False</td>\n",
       "      <td>False</td>\n",
       "      <td>False</td>\n",
       "      <td>False</td>\n",
       "      <td>True</td>\n",
       "      <td>False</td>\n",
       "      <td>True</td>\n",
       "      <td>False</td>\n",
       "      <td>False</td>\n",
       "      <td>False</td>\n",
       "      <td>...</td>\n",
       "      <td>False</td>\n",
       "      <td>False</td>\n",
       "      <td>True</td>\n",
       "      <td>True</td>\n",
       "      <td>True</td>\n",
       "      <td>True</td>\n",
       "      <td>True</td>\n",
       "      <td>True</td>\n",
       "      <td>True</td>\n",
       "      <td>True</td>\n",
       "      <td>True</td>\n",
       "      <td>True</td>\n",
       "      <td>False</td>\n",
       "      <td>True</td>\n",
       "      <td>True</td>\n",
       "      <td>True</td>\n",
       "      <td>True</td>\n",
       "      <td>True</td>\n",
       "      <td>False</td>\n",
       "      <td>True</td>\n",
       "      <td>True</td>\n",
       "      <td>True</td>\n",
       "      <td>False</td>\n",
       "      <td>True</td>\n",
       "      <td>1</td>\n",
       "    </tr>\n",
       "    <tr>\n",
       "      <th>2</th>\n",
       "      <td>5</td>\n",
       "      <td>66</td>\n",
       "      <td>0</td>\n",
       "      <td>22</td>\n",
       "      <td>1</td>\n",
       "      <td>0</td>\n",
       "      <td>2</td>\n",
       "      <td>9</td>\n",
       "      <td>True</td>\n",
       "      <td>False</td>\n",
       "      <td>True</td>\n",
       "      <td>False</td>\n",
       "      <td>False</td>\n",
       "      <td>False</td>\n",
       "      <td>True</td>\n",
       "      <td>False</td>\n",
       "      <td>False</td>\n",
       "      <td>True</td>\n",
       "      <td>False</td>\n",
       "      <td>False</td>\n",
       "      <td>False</td>\n",
       "      <td>True</td>\n",
       "      <td>False</td>\n",
       "      <td>False</td>\n",
       "      <td>False</td>\n",
       "      <td>...</td>\n",
       "      <td>False</td>\n",
       "      <td>False</td>\n",
       "      <td>True</td>\n",
       "      <td>False</td>\n",
       "      <td>False</td>\n",
       "      <td>True</td>\n",
       "      <td>True</td>\n",
       "      <td>True</td>\n",
       "      <td>True</td>\n",
       "      <td>True</td>\n",
       "      <td>True</td>\n",
       "      <td>True</td>\n",
       "      <td>True</td>\n",
       "      <td>True</td>\n",
       "      <td>True</td>\n",
       "      <td>True</td>\n",
       "      <td>True</td>\n",
       "      <td>True</td>\n",
       "      <td>True</td>\n",
       "      <td>True</td>\n",
       "      <td>True</td>\n",
       "      <td>True</td>\n",
       "      <td>True</td>\n",
       "      <td>True</td>\n",
       "      <td>1</td>\n",
       "    </tr>\n",
       "    <tr>\n",
       "      <th>3</th>\n",
       "      <td>3</td>\n",
       "      <td>63</td>\n",
       "      <td>0</td>\n",
       "      <td>8</td>\n",
       "      <td>0</td>\n",
       "      <td>0</td>\n",
       "      <td>0</td>\n",
       "      <td>8</td>\n",
       "      <td>True</td>\n",
       "      <td>False</td>\n",
       "      <td>True</td>\n",
       "      <td>False</td>\n",
       "      <td>False</td>\n",
       "      <td>True</td>\n",
       "      <td>False</td>\n",
       "      <td>False</td>\n",
       "      <td>True</td>\n",
       "      <td>False</td>\n",
       "      <td>False</td>\n",
       "      <td>False</td>\n",
       "      <td>False</td>\n",
       "      <td>True</td>\n",
       "      <td>False</td>\n",
       "      <td>False</td>\n",
       "      <td>False</td>\n",
       "      <td>...</td>\n",
       "      <td>False</td>\n",
       "      <td>False</td>\n",
       "      <td>True</td>\n",
       "      <td>True</td>\n",
       "      <td>True</td>\n",
       "      <td>True</td>\n",
       "      <td>True</td>\n",
       "      <td>True</td>\n",
       "      <td>True</td>\n",
       "      <td>True</td>\n",
       "      <td>False</td>\n",
       "      <td>True</td>\n",
       "      <td>True</td>\n",
       "      <td>True</td>\n",
       "      <td>True</td>\n",
       "      <td>True</td>\n",
       "      <td>True</td>\n",
       "      <td>True</td>\n",
       "      <td>True</td>\n",
       "      <td>True</td>\n",
       "      <td>True</td>\n",
       "      <td>True</td>\n",
       "      <td>True</td>\n",
       "      <td>True</td>\n",
       "      <td>1</td>\n",
       "    </tr>\n",
       "    <tr>\n",
       "      <th>4</th>\n",
       "      <td>5</td>\n",
       "      <td>40</td>\n",
       "      <td>0</td>\n",
       "      <td>6</td>\n",
       "      <td>0</td>\n",
       "      <td>0</td>\n",
       "      <td>1</td>\n",
       "      <td>9</td>\n",
       "      <td>True</td>\n",
       "      <td>False</td>\n",
       "      <td>True</td>\n",
       "      <td>False</td>\n",
       "      <td>False</td>\n",
       "      <td>False</td>\n",
       "      <td>True</td>\n",
       "      <td>False</td>\n",
       "      <td>True</td>\n",
       "      <td>False</td>\n",
       "      <td>False</td>\n",
       "      <td>False</td>\n",
       "      <td>False</td>\n",
       "      <td>False</td>\n",
       "      <td>False</td>\n",
       "      <td>False</td>\n",
       "      <td>True</td>\n",
       "      <td>...</td>\n",
       "      <td>False</td>\n",
       "      <td>False</td>\n",
       "      <td>True</td>\n",
       "      <td>True</td>\n",
       "      <td>True</td>\n",
       "      <td>True</td>\n",
       "      <td>True</td>\n",
       "      <td>True</td>\n",
       "      <td>True</td>\n",
       "      <td>True</td>\n",
       "      <td>True</td>\n",
       "      <td>True</td>\n",
       "      <td>True</td>\n",
       "      <td>True</td>\n",
       "      <td>True</td>\n",
       "      <td>True</td>\n",
       "      <td>True</td>\n",
       "      <td>True</td>\n",
       "      <td>True</td>\n",
       "      <td>True</td>\n",
       "      <td>True</td>\n",
       "      <td>True</td>\n",
       "      <td>True</td>\n",
       "      <td>False</td>\n",
       "      <td>0</td>\n",
       "    </tr>\n",
       "  </tbody>\n",
       "</table>\n",
       "<p>5 rows × 60 columns</p>\n",
       "</div>"
      ],
      "text/plain": [
       "   time_in_hospital  num_lab_procedures  num_procedures  num_medications  \\\n",
       "0                14                  41               0               11   \n",
       "1                 2                  30               0               12   \n",
       "2                 5                  66               0               22   \n",
       "3                 3                  63               0                8   \n",
       "4                 5                  40               0                6   \n",
       "\n",
       "   number_outpatient  number_emergency  number_inpatient  number_diagnoses  \\\n",
       "0                  0                 0                 0                 6   \n",
       "1                  0                 0                 1                 9   \n",
       "2                  1                 0                 2                 9   \n",
       "3                  0                 0                 0                 8   \n",
       "4                  0                 0                 1                 9   \n",
       "\n",
       "   race_Caucasian  race_AfricanAmerican  gender_Female  age_[70-80)  \\\n",
       "0            True                 False          False        False   \n",
       "1            True                 False           True        False   \n",
       "2            True                 False           True        False   \n",
       "3            True                 False           True        False   \n",
       "4            True                 False           True        False   \n",
       "\n",
       "   age_[60-70)  age_[50-60)  age_[80-90)  age_[40-50)  payer_code_?  \\\n",
       "0        False         True        False        False         False   \n",
       "1        False         True        False        False         False   \n",
       "2        False        False         True        False         False   \n",
       "3        False         True        False        False          True   \n",
       "4        False        False         True        False          True   \n",
       "\n",
       "   payer_code_MC  payer_code_HM  payer_code_SP  payer_code_BC  \\\n",
       "0          False          False           True          False   \n",
       "1          False          False           True          False   \n",
       "2           True          False          False          False   \n",
       "3          False          False          False          False   \n",
       "4          False          False          False          False   \n",
       "\n",
       "   medical_specialty_?  medical_specialty_InternalMedicine  \\\n",
       "0                 True                               False   \n",
       "1                 True                               False   \n",
       "2                 True                               False   \n",
       "3                 True                               False   \n",
       "4                False                               False   \n",
       "\n",
       "   medical_specialty_Emergency/Trauma  \\\n",
       "0                               False   \n",
       "1                               False   \n",
       "2                               False   \n",
       "3                               False   \n",
       "4                               False   \n",
       "\n",
       "   medical_specialty_Family/GeneralPractice  ...  diag_3_276  diag_3_428  \\\n",
       "0                                     False  ...       False       False   \n",
       "1                                     False  ...       False       False   \n",
       "2                                     False  ...       False       False   \n",
       "3                                     False  ...       False       False   \n",
       "4                                      True  ...       False       False   \n",
       "\n",
       "   max_glu_serum_None  A1Cresult_None  metformin_No  repaglinide_No  \\\n",
       "0                True            True          True            True   \n",
       "1                True            True          True            True   \n",
       "2                True           False         False            True   \n",
       "3                True            True          True            True   \n",
       "4                True            True          True            True   \n",
       "\n",
       "   nateglinide_No  chlorpropamide_No  glimepiride_No  glipizide_No  \\\n",
       "0            True               True            True         False   \n",
       "1            True               True            True          True   \n",
       "2            True               True            True          True   \n",
       "3            True               True            True          True   \n",
       "4            True               True            True          True   \n",
       "\n",
       "   glyburide_No  tolbutamide_No  pioglitazone_No  rosiglitazone_No  \\\n",
       "0          True            True             True              True   \n",
       "1          True            True            False              True   \n",
       "2          True            True             True              True   \n",
       "3         False            True             True              True   \n",
       "4          True            True             True              True   \n",
       "\n",
       "   acarbose_No  miglitol_No  troglitazone_No  tolazamide_No  insulin_No  \\\n",
       "0         True         True             True           True        True   \n",
       "1         True         True             True           True       False   \n",
       "2         True         True             True           True        True   \n",
       "3         True         True             True           True        True   \n",
       "4         True         True             True           True        True   \n",
       "\n",
       "   glyburide-metformin_No  glipizide-metformin_No  \\\n",
       "0                    True                    True   \n",
       "1                    True                    True   \n",
       "2                    True                    True   \n",
       "3                    True                    True   \n",
       "4                    True                    True   \n",
       "\n",
       "   glimepiride-pioglitazone_No  change_No  diabetesMed_Yes  readmitted  \n",
       "0                         True       True             True           0  \n",
       "1                         True      False             True           1  \n",
       "2                         True       True             True           1  \n",
       "3                         True       True             True           1  \n",
       "4                         True       True            False           0  \n",
       "\n",
       "[5 rows x 60 columns]"
      ]
     },
     "execution_count": 253,
     "metadata": {},
     "output_type": "execute_result"
    }
   ],
   "source": [
    "# Check features that are unary or near unary -- these should be removed because they would not help at all with\n",
    "# distinguishing readmissions\n",
    "\n",
    "data = data.loc[:,data.apply(pd.Series.nunique) != 1]\n",
    "print(data.shape)\n",
    "data.head()"
   ]
  },
  {
   "cell_type": "code",
   "execution_count": 254,
   "id": "suspended-grenada",
   "metadata": {
    "ExecuteTime": {
     "end_time": "2021-02-11T18:49:30.104774Z",
     "start_time": "2021-02-11T18:49:29.969224Z"
    }
   },
   "outputs": [
    {
     "name": "stdout",
     "output_type": "stream",
     "text": [
      "True     74.212\n",
      "False    25.788\n",
      "Name: race_Caucasian, dtype: float64\n",
      "False    80.732\n",
      "True     19.268\n",
      "Name: race_AfricanAmerican, dtype: float64\n",
      "True     53.748\n",
      "False    46.252\n",
      "Name: gender_Female, dtype: float64\n",
      "False    74.868\n",
      "True     25.132\n",
      "Name: age_[70-80), dtype: float64\n",
      "False    78.156\n",
      "True     21.844\n",
      "Name: age_[60-70), dtype: float64\n",
      "False    82.72\n",
      "True     17.28\n",
      "Name: age_[50-60), dtype: float64\n",
      "False    82.972\n",
      "True     17.028\n",
      "Name: age_[80-90), dtype: float64\n",
      "False    90.288\n",
      "True      9.712\n",
      "Name: age_[40-50), dtype: float64\n",
      "False    59.98\n",
      "True     40.02\n",
      "Name: payer_code_?, dtype: float64\n",
      "False    68.684\n",
      "True     31.316\n",
      "Name: payer_code_MC, dtype: float64\n",
      "False    93.896\n",
      "True      6.104\n",
      "Name: payer_code_HM, dtype: float64\n",
      "False    95.192\n",
      "True      4.808\n",
      "Name: payer_code_SP, dtype: float64\n",
      "False    95.428\n",
      "True      4.572\n",
      "Name: payer_code_BC, dtype: float64\n",
      "False    50.82\n",
      "True     49.18\n",
      "Name: medical_specialty_?, dtype: float64\n",
      "False    85.896\n",
      "True     14.104\n",
      "Name: medical_specialty_InternalMedicine, dtype: float64\n",
      "False    92.428\n",
      "True      7.572\n",
      "Name: medical_specialty_Emergency/Trauma, dtype: float64\n",
      "False    92.464\n",
      "True      7.536\n",
      "Name: medical_specialty_Family/GeneralPractice, dtype: float64\n",
      "False    94.944\n",
      "True      5.056\n",
      "Name: medical_specialty_Cardiology, dtype: float64\n",
      "False    93.508\n",
      "True      6.492\n",
      "Name: diag_1_428, dtype: float64\n",
      "False    93.752\n",
      "True      6.248\n",
      "Name: diag_1_414, dtype: float64\n",
      "False    95.956\n",
      "True      4.044\n",
      "Name: diag_1_786, dtype: float64\n",
      "False    93.14\n",
      "True      6.86\n",
      "Name: diag_2_276, dtype: float64\n",
      "False    93.276\n",
      "True      6.724\n",
      "Name: diag_2_428, dtype: float64\n",
      "False    93.932\n",
      "True      6.068\n",
      "Name: diag_2_250, dtype: float64\n",
      "False    95.064\n",
      "True      4.936\n",
      "Name: diag_2_427, dtype: float64\n",
      "False    88.608\n",
      "True     11.392\n",
      "Name: diag_3_250, dtype: float64\n",
      "False    91.796\n",
      "True      8.204\n",
      "Name: diag_3_401, dtype: float64\n",
      "False    95.04\n",
      "True      4.96\n",
      "Name: diag_3_276, dtype: float64\n",
      "False    95.54\n",
      "True      4.46\n",
      "Name: diag_3_428, dtype: float64\n",
      "True     94.508\n",
      "False     5.492\n",
      "Name: max_glu_serum_None, dtype: float64\n",
      "True     82.948\n",
      "False    17.052\n",
      "Name: A1Cresult_None, dtype: float64\n",
      "True     80.564\n",
      "False    19.436\n",
      "Name: metformin_No, dtype: float64\n",
      "True     98.324\n",
      "False     1.676\n",
      "Name: repaglinide_No, dtype: float64\n",
      "True     99.26\n",
      "False     0.74\n",
      "Name: nateglinide_No, dtype: float64\n",
      "True     99.928\n",
      "False     0.072\n",
      "Name: chlorpropamide_No, dtype: float64\n",
      "True     94.804\n",
      "False     5.196\n",
      "Name: glimepiride_No, dtype: float64\n",
      "True     87.76\n",
      "False    12.24\n",
      "Name: glipizide_No, dtype: float64\n",
      "True     89.632\n",
      "False    10.368\n",
      "Name: glyburide_No, dtype: float64\n",
      "True     99.976\n",
      "False     0.024\n",
      "Name: tolbutamide_No, dtype: float64\n",
      "True     92.816\n",
      "False     7.184\n",
      "Name: pioglitazone_No, dtype: float64\n",
      "True     93.648\n",
      "False     6.352\n",
      "Name: rosiglitazone_No, dtype: float64\n",
      "True     99.72\n",
      "False     0.28\n",
      "Name: acarbose_No, dtype: float64\n",
      "True     99.96\n",
      "False     0.04\n",
      "Name: miglitol_No, dtype: float64\n",
      "True     99.996\n",
      "False     0.004\n",
      "Name: troglitazone_No, dtype: float64\n",
      "True     99.956\n",
      "False     0.044\n",
      "Name: tolazamide_No, dtype: float64\n",
      "False    53.132\n",
      "True     46.868\n",
      "Name: insulin_No, dtype: float64\n",
      "True     99.364\n",
      "False     0.636\n",
      "Name: glyburide-metformin_No, dtype: float64\n",
      "True     99.984\n",
      "False     0.016\n",
      "Name: glipizide-metformin_No, dtype: float64\n",
      "True     99.996\n",
      "False     0.004\n",
      "Name: glimepiride-pioglitazone_No, dtype: float64\n",
      "True     54.26\n",
      "False    45.74\n",
      "Name: change_No, dtype: float64\n",
      "True     76.74\n",
      "False    23.26\n",
      "Name: diabetesMed_Yes, dtype: float64\n",
      "0    54.36\n",
      "1    45.64\n",
      "Name: readmitted, dtype: float64\n"
     ]
    }
   ],
   "source": [
    "for col in data.columns:\n",
    "    if (len(data[col].unique()) < 4):\n",
    "        #print(data[col].value_counts())\n",
    "        print(data[col].value_counts()/len(data)*100)\n",
    "\n",
    "        #DROP FEATURES with values less than 1% of total"
   ]
  },
  {
   "cell_type": "code",
   "execution_count": 255,
   "id": "latest-upgrade",
   "metadata": {
    "ExecuteTime": {
     "end_time": "2021-02-11T18:49:32.714505Z",
     "start_time": "2021-02-11T18:49:32.657940Z"
    }
   },
   "outputs": [
    {
     "name": "stdout",
     "output_type": "stream",
     "text": [
      "We've been able to reduce the features to => 50\n"
     ]
    }
   ],
   "source": [
    "data = data.drop(['repaglinide_No','nateglinide_No','glyburide_No','rosiglitazone_No','acarbose_No','miglitol_No','troglitazone_No'\n",
    "                 ,'insulin_No','glyburide-metformin_No','glipizide-metformin_No'], axis=1)\n",
    "print(\"We've been able to reduce the features to => {}\".format(data.shape[1]))"
   ]
  },
  {
   "cell_type": "code",
   "execution_count": 256,
   "id": "rural-revolution",
   "metadata": {
    "ExecuteTime": {
     "end_time": "2021-02-11T18:49:33.299786Z",
     "start_time": "2021-02-11T18:49:33.243814Z"
    }
   },
   "outputs": [],
   "source": [
    "data_cols = list(data.columns[ data.columns != 'readmitted'])\n",
    "categorical_features = list(data.select_dtypes(include=['bool']))\n",
    "continuous_features = list(data.select_dtypes(include=['int64']))\n",
    "continuous_features.remove('readmitted')"
   ]
  },
  {
   "cell_type": "code",
   "execution_count": 257,
   "id": "presidential-nerve",
   "metadata": {
    "ExecuteTime": {
     "end_time": "2021-02-11T18:49:37.037039Z",
     "start_time": "2021-02-11T18:49:34.964128Z"
    }
   },
   "outputs": [
    {
     "data": {
      "text/plain": [
       "(array([[0.34520292, 0.        , 0.39789438, 0.        , 0.39543216,\n",
       "         0.        , 0.3012113 , 0.        , 0.20912436, 0.        ,\n",
       "         0.        , 0.15791023, 0.        , 0.11506764, 0.        ,\n",
       "         0.08535688, 0.        , 0.06040641, 0.        , 0.        ,\n",
       "         0.04612554, 0.        , 0.0380823 , 0.        , 0.03151639,\n",
       "         0.        , 0.02609951, 0.        , 0.02133922],\n",
       "        [0.25592261, 0.        , 0.36482168, 0.        , 0.38515472,\n",
       "         0.        , 0.32669723, 0.        , 0.22718263, 0.        ,\n",
       "         0.        , 0.17595901, 0.        , 0.13548844, 0.        ,\n",
       "         0.10029664, 0.        , 0.06823299, 0.        , 0.        ,\n",
       "         0.05845749, 0.        , 0.03968853, 0.        , 0.03656037,\n",
       "         0.        , 0.02756691, 0.        , 0.02873997]]),\n",
       " array([ 1.        ,  1.44827586,  1.89655172,  2.34482759,  2.79310345,\n",
       "         3.24137931,  3.68965517,  4.13793103,  4.5862069 ,  5.03448276,\n",
       "         5.48275862,  5.93103448,  6.37931034,  6.82758621,  7.27586207,\n",
       "         7.72413793,  8.17241379,  8.62068966,  9.06896552,  9.51724138,\n",
       "         9.96551724, 10.4137931 , 10.86206897, 11.31034483, 11.75862069,\n",
       "        12.20689655, 12.65517241, 13.10344828, 13.55172414, 14.        ]),\n",
       " <a list of 2 BarContainer objects>)"
      ]
     },
     "execution_count": 257,
     "metadata": {},
     "output_type": "execute_result"
    },
    {
     "data": {
      "text/plain": [
       "Text(0.5, 0, 'time_in_hospital')"
      ]
     },
     "execution_count": 257,
     "metadata": {},
     "output_type": "execute_result"
    },
    {
     "data": {
      "text/plain": [
       "(0.0, 0.8)"
      ]
     },
     "execution_count": 257,
     "metadata": {},
     "output_type": "execute_result"
    },
    {
     "data": {
      "text/plain": [
       "Text(0, 0.5, 'Fraction')"
      ]
     },
     "execution_count": 257,
     "metadata": {},
     "output_type": "execute_result"
    },
    {
     "data": {
      "text/plain": [
       "(array([[0.0172867 , 0.00302573, 0.00651866, 0.00596246, 0.00631843,\n",
       "         0.00809827, 0.00914393, 0.0088547 , 0.01114625, 0.01650802,\n",
       "         0.0183101 , 0.01986746, 0.02930061, 0.01915553, 0.01746468,\n",
       "         0.01566259, 0.02120234, 0.0145057 , 0.01259237, 0.01388275,\n",
       "         0.00756432, 0.00565099, 0.00578448, 0.002781  , 0.00209131,\n",
       "         0.00157961, 0.0006007 , 0.0006007 , 0.00062294],\n",
       "        [0.01510682, 0.00265032, 0.00614874, 0.00548616, 0.00492959,\n",
       "         0.00630776, 0.00795096, 0.00890507, 0.01155539, 0.01587541,\n",
       "         0.01712106, 0.01894978, 0.02814639, 0.0191353 , 0.01812818,\n",
       "         0.01720057, 0.02199765, 0.01486829, 0.01441773, 0.01568989,\n",
       "         0.00893157, 0.0075004 , 0.00638727, 0.00325989, 0.00222627,\n",
       "         0.00177571, 0.00071559, 0.00026503, 0.00045055]]),\n",
       " array([ 1.        ,  4.31034483,  7.62068966, 10.93103448, 14.24137931,\n",
       "        17.55172414, 20.86206897, 24.17241379, 27.48275862, 30.79310345,\n",
       "        34.10344828, 37.4137931 , 40.72413793, 44.03448276, 47.34482759,\n",
       "        50.65517241, 53.96551724, 57.27586207, 60.5862069 , 63.89655172,\n",
       "        67.20689655, 70.51724138, 73.82758621, 77.13793103, 80.44827586,\n",
       "        83.75862069, 87.06896552, 90.37931034, 93.68965517, 97.        ]),\n",
       " <a list of 2 BarContainer objects>)"
      ]
     },
     "execution_count": 257,
     "metadata": {},
     "output_type": "execute_result"
    },
    {
     "data": {
      "text/plain": [
       "Text(0.5, 0, 'num_lab_procedures')"
      ]
     },
     "execution_count": 257,
     "metadata": {},
     "output_type": "execute_result"
    },
    {
     "data": {
      "text/plain": [
       "(0.0, 0.8)"
      ]
     },
     "execution_count": 257,
     "metadata": {},
     "output_type": "execute_result"
    },
    {
     "data": {
      "text/plain": [
       "(array([[2.13890115, 0.        , 0.        , 0.        , 0.95741967,\n",
       "         0.        , 0.        , 0.        , 0.        , 0.62452784,\n",
       "         0.        , 0.        , 0.        , 0.        , 0.47870984,\n",
       "         0.        , 0.        , 0.        , 0.        , 0.21623743,\n",
       "         0.        , 0.        , 0.        , 0.        , 0.15364238,\n",
       "         0.        , 0.        , 0.        , 0.26389502],\n",
       "        [2.30059889, 0.        , 0.        , 0.        , 1.01283961,\n",
       "         0.        , 0.        , 0.        , 0.        , 0.59474145,\n",
       "         0.        , 0.        , 0.        , 0.        , 0.40835524,\n",
       "         0.        , 0.        , 0.        , 0.        , 0.18342098,\n",
       "         0.        , 0.        , 0.        , 0.        , 0.12877593,\n",
       "         0.        , 0.        , 0.        , 0.20460123]]),\n",
       " array([0.        , 0.20689655, 0.4137931 , 0.62068966, 0.82758621,\n",
       "        1.03448276, 1.24137931, 1.44827586, 1.65517241, 1.86206897,\n",
       "        2.06896552, 2.27586207, 2.48275862, 2.68965517, 2.89655172,\n",
       "        3.10344828, 3.31034483, 3.51724138, 3.72413793, 3.93103448,\n",
       "        4.13793103, 4.34482759, 4.55172414, 4.75862069, 4.96551724,\n",
       "        5.17241379, 5.37931034, 5.5862069 , 5.79310345, 6.        ]),\n",
       " <a list of 2 BarContainer objects>)"
      ]
     },
     "execution_count": 257,
     "metadata": {},
     "output_type": "execute_result"
    },
    {
     "data": {
      "text/plain": [
       "Text(0.5, 0, 'num_procedures')"
      ]
     },
     "execution_count": 257,
     "metadata": {},
     "output_type": "execute_result"
    },
    {
     "data": {
      "text/plain": [
       "(0.0, 0.8)"
      ]
     },
     "execution_count": 257,
     "metadata": {},
     "output_type": "execute_result"
    },
    {
     "data": {
      "text/plain": [
       "(array([[1.00998375e-02, 2.14304795e-02, 3.65983358e-02, 4.83271793e-02,\n",
       "         5.45536024e-02, 5.66532102e-02, 5.44450020e-02, 4.61189711e-02,\n",
       "         4.00373486e-02, 2.96479100e-02, 2.30232854e-02, 1.78828664e-02,\n",
       "         1.27786474e-02, 1.07876400e-02, 6.51602418e-03, 5.35761988e-03,\n",
       "         3.69241370e-03, 3.22181195e-03, 2.13580792e-03, 1.88240698e-03,\n",
       "         1.30320484e-03, 1.19460443e-03, 9.05003358e-04, 5.79202149e-04,\n",
       "         5.06801880e-04, 6.51602418e-04, 3.62001343e-04, 3.98201477e-04,\n",
       "         4.34401612e-04],\n",
       "        [5.60413130e-03, 1.24153063e-02, 2.39684385e-02, 3.93582452e-02,\n",
       "         5.22046385e-02, 5.66879435e-02, 5.73776828e-02, 5.54808999e-02,\n",
       "         4.51348113e-02, 3.85391799e-02, 2.85379609e-02, 2.02179814e-02,\n",
       "         1.67261765e-02, 1.18548931e-02, 8.31997955e-03, 5.04371817e-03,\n",
       "         4.00910931e-03, 2.41408733e-03, 1.98300031e-03, 1.85367420e-03,\n",
       "         9.05282748e-04, 8.19065344e-04, 6.46630535e-04, 1.72434809e-04,\n",
       "         3.87978321e-04, 3.44869618e-04, 8.62174046e-05, 1.72434809e-04,\n",
       "         2.58652214e-04]]),\n",
       " array([ 1.        ,  3.03448276,  5.06896552,  7.10344828,  9.13793103,\n",
       "        11.17241379, 13.20689655, 15.24137931, 17.27586207, 19.31034483,\n",
       "        21.34482759, 23.37931034, 25.4137931 , 27.44827586, 29.48275862,\n",
       "        31.51724138, 33.55172414, 35.5862069 , 37.62068966, 39.65517241,\n",
       "        41.68965517, 43.72413793, 45.75862069, 47.79310345, 49.82758621,\n",
       "        51.86206897, 53.89655172, 55.93103448, 57.96551724, 60.        ]),\n",
       " <a list of 2 BarContainer objects>)"
      ]
     },
     "execution_count": 257,
     "metadata": {},
     "output_type": "execute_result"
    },
    {
     "data": {
      "text/plain": [
       "Text(0.5, 0, 'num_medications')"
      ]
     },
     "execution_count": 257,
     "metadata": {},
     "output_type": "execute_result"
    },
    {
     "data": {
      "text/plain": [
       "(0.0, 0.8)"
      ]
     },
     "execution_count": 257,
     "metadata": {},
     "output_type": "execute_result"
    },
    {
     "data": {
      "text/plain": [
       "(array([[1.80731533e+00, 0.00000000e+00, 1.41358531e-01, 0.00000000e+00,\n",
       "         5.47440266e-02, 0.00000000e+00, 3.24804392e-02, 0.00000000e+00,\n",
       "         1.57065034e-02, 0.00000000e+00, 8.84443884e-03, 0.00000000e+00,\n",
       "         4.87969039e-03, 0.00000000e+00, 1.67739357e-03, 0.00000000e+00,\n",
       "         1.67739357e-03, 0.00000000e+00, 1.21992260e-03, 0.00000000e+00,\n",
       "         6.09961299e-04, 0.00000000e+00, 4.57470974e-04, 0.00000000e+00,\n",
       "         0.00000000e+00, 0.00000000e+00, 3.04980650e-04, 0.00000000e+00,\n",
       "         1.52490325e-04],\n",
       "        [1.63209522e+00, 0.00000000e+00, 2.26301208e-01, 0.00000000e+00,\n",
       "         9.81547410e-02, 0.00000000e+00, 4.83502984e-02, 0.00000000e+00,\n",
       "         2.81740460e-02, 0.00000000e+00, 1.54502833e-02, 0.00000000e+00,\n",
       "         8.36132979e-03, 0.00000000e+00, 4.18066489e-03, 0.00000000e+00,\n",
       "         1.99944843e-03, 0.00000000e+00, 1.99944843e-03, 0.00000000e+00,\n",
       "         1.63591235e-03, 0.00000000e+00, 2.18121647e-03, 0.00000000e+00,\n",
       "         5.45304117e-04, 0.00000000e+00, 9.08840195e-04, 0.00000000e+00,\n",
       "         1.09060823e-03]]),\n",
       " array([ 0.        ,  0.48275862,  0.96551724,  1.44827586,  1.93103448,\n",
       "         2.4137931 ,  2.89655172,  3.37931034,  3.86206897,  4.34482759,\n",
       "         4.82758621,  5.31034483,  5.79310345,  6.27586207,  6.75862069,\n",
       "         7.24137931,  7.72413793,  8.20689655,  8.68965517,  9.17241379,\n",
       "         9.65517241, 10.13793103, 10.62068966, 11.10344828, 11.5862069 ,\n",
       "        12.06896552, 12.55172414, 13.03448276, 13.51724138, 14.        ]),\n",
       " <a list of 2 BarContainer objects>)"
      ]
     },
     "execution_count": 257,
     "metadata": {},
     "output_type": "execute_result"
    },
    {
     "data": {
      "text/plain": [
       "Text(0.5, 0, 'number_outpatient')"
      ]
     },
     "execution_count": 257,
     "metadata": {},
     "output_type": "execute_result"
    },
    {
     "data": {
      "text/plain": [
       "(0.0, 0.8)"
      ]
     },
     "execution_count": 257,
     "metadata": {},
     "output_type": "execute_result"
    },
    {
     "data": {
      "text/plain": [
       "Text(0, 0.5, 'Fraction')"
      ]
     },
     "execution_count": 257,
     "metadata": {},
     "output_type": "execute_result"
    },
    {
     "data": {
      "text/plain": [
       "(array([[2.67782602e+00, 0.00000000e+00, 1.64336179e-01, 0.00000000e+00,\n",
       "         0.00000000e+00, 3.84162496e-02, 0.00000000e+00, 0.00000000e+00,\n",
       "         1.08846041e-02, 0.00000000e+00, 0.00000000e+00, 3.41477775e-03,\n",
       "         0.00000000e+00, 0.00000000e+00, 2.13423609e-03, 0.00000000e+00,\n",
       "         0.00000000e+00, 1.49396526e-03, 0.00000000e+00, 0.00000000e+00,\n",
       "         6.40270827e-04, 0.00000000e+00, 0.00000000e+00, 2.13423609e-04,\n",
       "         0.00000000e+00, 0.00000000e+00, 6.40270827e-04, 0.00000000e+00,\n",
       "         0.00000000e+00],\n",
       "        [2.44344543e+00, 0.00000000e+00, 2.88752305e-01, 0.00000000e+00,\n",
       "         0.00000000e+00, 9.62507683e-02, 0.00000000e+00, 0.00000000e+00,\n",
       "         2.97919045e-02, 0.00000000e+00, 0.00000000e+00, 1.80788480e-02,\n",
       "         0.00000000e+00, 0.00000000e+00, 7.89358153e-03, 0.00000000e+00,\n",
       "         0.00000000e+00, 5.34726490e-03, 0.00000000e+00, 0.00000000e+00,\n",
       "         5.09263324e-03, 0.00000000e+00, 0.00000000e+00, 2.29168496e-03,\n",
       "         0.00000000e+00, 0.00000000e+00, 1.78242163e-03, 0.00000000e+00,\n",
       "         1.27315831e-03]]),\n",
       " array([ 0.        ,  0.34482759,  0.68965517,  1.03448276,  1.37931034,\n",
       "         1.72413793,  2.06896552,  2.4137931 ,  2.75862069,  3.10344828,\n",
       "         3.44827586,  3.79310345,  4.13793103,  4.48275862,  4.82758621,\n",
       "         5.17241379,  5.51724138,  5.86206897,  6.20689655,  6.55172414,\n",
       "         6.89655172,  7.24137931,  7.5862069 ,  7.93103448,  8.27586207,\n",
       "         8.62068966,  8.96551724,  9.31034483,  9.65517241, 10.        ]),\n",
       " <a list of 2 BarContainer objects>)"
      ]
     },
     "execution_count": 257,
     "metadata": {},
     "output_type": "execute_result"
    },
    {
     "data": {
      "text/plain": [
       "Text(0.5, 0, 'number_emergency')"
      ]
     },
     "execution_count": 257,
     "metadata": {},
     "output_type": "execute_result"
    },
    {
     "data": {
      "text/plain": [
       "(0.0, 0.8)"
      ]
     },
     "execution_count": 257,
     "metadata": {},
     "output_type": "execute_result"
    },
    {
     "data": {
      "text/plain": [
       "(array([[2.19191258e+00, 0.00000000e+00, 4.65656045e-01, 0.00000000e+00,\n",
       "         0.00000000e+00, 1.39995585e-01, 0.00000000e+00, 0.00000000e+00,\n",
       "         5.97542130e-02, 0.00000000e+00, 0.00000000e+00, 2.36882773e-02,\n",
       "         0.00000000e+00, 0.00000000e+00, 8.53631614e-03, 0.00000000e+00,\n",
       "         0.00000000e+00, 4.26815807e-03, 0.00000000e+00, 0.00000000e+00,\n",
       "         3.62793436e-03, 0.00000000e+00, 0.00000000e+00, 1.06703952e-03,\n",
       "         0.00000000e+00, 0.00000000e+00, 1.28044742e-03, 0.00000000e+00,\n",
       "         2.13407903e-04],\n",
       "        [1.59707561e+00, 0.00000000e+00, 6.64705366e-01, 0.00000000e+00,\n",
       "         0.00000000e+00, 3.14015983e-01, 0.00000000e+00, 0.00000000e+00,\n",
       "         1.50513744e-01, 0.00000000e+00, 0.00000000e+00, 7.66575920e-02,\n",
       "         0.00000000e+00, 0.00000000e+00, 4.02388689e-02, 0.00000000e+00,\n",
       "         0.00000000e+00, 2.31755511e-02, 0.00000000e+00, 0.00000000e+00,\n",
       "         1.47712304e-02, 0.00000000e+00, 0.00000000e+00, 8.40432072e-03,\n",
       "         0.00000000e+00, 0.00000000e+00, 6.36690963e-03, 0.00000000e+00,\n",
       "         4.07482217e-03]]),\n",
       " array([ 0.        ,  0.34482759,  0.68965517,  1.03448276,  1.37931034,\n",
       "         1.72413793,  2.06896552,  2.4137931 ,  2.75862069,  3.10344828,\n",
       "         3.44827586,  3.79310345,  4.13793103,  4.48275862,  4.82758621,\n",
       "         5.17241379,  5.51724138,  5.86206897,  6.20689655,  6.55172414,\n",
       "         6.89655172,  7.24137931,  7.5862069 ,  7.93103448,  8.27586207,\n",
       "         8.62068966,  8.96551724,  9.31034483,  9.65517241, 10.        ]),\n",
       " <a list of 2 BarContainer objects>)"
      ]
     },
     "execution_count": 257,
     "metadata": {},
     "output_type": "execute_result"
    },
    {
     "data": {
      "text/plain": [
       "Text(0.5, 0, 'number_inpatient')"
      ]
     },
     "execution_count": 257,
     "metadata": {},
     "output_type": "execute_result"
    },
    {
     "data": {
      "text/plain": [
       "(0.0, 0.8)"
      ]
     },
     "execution_count": 257,
     "metadata": {},
     "output_type": "execute_result"
    },
    {
     "data": {
      "text/plain": [
       "(array([[1.04651831e-02, 0.00000000e+00, 3.80163796e-02, 0.00000000e+00,\n",
       "         0.00000000e+00, 9.95260274e-02, 0.00000000e+00, 0.00000000e+00,\n",
       "         1.87518996e-01, 0.00000000e+00, 0.00000000e+00, 3.87425351e-01,\n",
       "         0.00000000e+00, 0.00000000e+00, 3.06907514e-01, 0.00000000e+00,\n",
       "         0.00000000e+00, 2.98150932e-01, 0.00000000e+00, 0.00000000e+00,\n",
       "         2.87472173e-01, 0.00000000e+00, 0.00000000e+00, 1.28401390e+00,\n",
       "         0.00000000e+00, 0.00000000e+00, 2.13575166e-04, 0.00000000e+00,\n",
       "         0.00000000e+00],\n",
       "        [2.54405161e-03, 0.00000000e+00, 2.00980077e-02, 0.00000000e+00,\n",
       "         0.00000000e+00, 6.15660490e-02, 0.00000000e+00, 0.00000000e+00,\n",
       "         1.25930555e-01, 0.00000000e+00, 0.00000000e+00, 2.42448119e-01,\n",
       "         0.00000000e+00, 0.00000000e+00, 2.67634230e-01, 0.00000000e+00,\n",
       "         0.00000000e+00, 3.00706901e-01, 0.00000000e+00, 0.00000000e+00,\n",
       "         3.10628702e-01, 0.00000000e+00, 0.00000000e+00, 1.56713579e+00,\n",
       "         0.00000000e+00, 0.00000000e+00, 5.08810323e-04, 0.00000000e+00,\n",
       "         5.08810323e-04]]),\n",
       " array([ 1.        ,  1.34486207,  1.68972414,  2.03458621,  2.37944828,\n",
       "         2.72431034,  3.06917241,  3.41403448,  3.75889655,  4.10375862,\n",
       "         4.44862069,  4.79348276,  5.13834483,  5.4832069 ,  5.82806897,\n",
       "         6.17293103,  6.5177931 ,  6.86265517,  7.20751724,  7.55237931,\n",
       "         7.89724138,  8.24210345,  8.58696552,  8.93182759,  9.27668966,\n",
       "         9.62155172,  9.96641379, 10.31127586, 10.65613793, 11.001     ]),\n",
       " <a list of 2 BarContainer objects>)"
      ]
     },
     "execution_count": 257,
     "metadata": {},
     "output_type": "execute_result"
    },
    {
     "data": {
      "text/plain": [
       "Text(0.5, 0, 'number_diagnoses')"
      ]
     },
     "execution_count": 257,
     "metadata": {},
     "output_type": "execute_result"
    },
    {
     "data": {
      "text/plain": [
       "(0.0, 0.8)"
      ]
     },
     "execution_count": 257,
     "metadata": {},
     "output_type": "execute_result"
    },
    {
     "data": {
      "image/png": "[encoded data removed]",
      "text/plain": [
       "<Figure size 1008x288 with 8 Axes>"
      ]
     },
     "metadata": {},
     "output_type": "display_data"
    }
   ],
   "source": [
    "# Plot the data by each feature\n",
    "\n",
    "axarr = [[]]*len(continuous_features)\n",
    "columns = 4\n",
    "rows = int( np.ceil( len(continuous_features) / columns ) )\n",
    "f, fig = plt.subplots( figsize=(columns*3.5, rows*2) )\n",
    "\n",
    "_ = f.suptitle('Data Distributions by Feature and Class', size=16)\n",
    "\n",
    "for i, col in enumerate(continuous_features[:]):\n",
    "    axarr[i] = plt.subplot2grid( (int(rows), int(columns)), (int(i//columns), int(i%columns)) )\n",
    "    axarr[i].hist( [ data.loc[ data.readmitted == 0, col ], data.loc[ data.readmitted == 1, col ] ], label=['not readmitted','readmitted'], \n",
    "                          bins=np.linspace( np.percentile(data[col],0.1), np.percentile(data[col],99.9), 30 ),\n",
    "                          density=True )\n",
    "    axarr[i].set_xlabel(col, size=12)\n",
    "    axarr[i].set_ylim([0,0.8])\n",
    "    axarr[i].tick_params(axis='both', labelsize=10)\n",
    "    if i == 0: \n",
    "        legend = axarr[i].legend()\n",
    "        legend.get_frame().set_facecolor('white')\n",
    "    if i%4 != 0 : \n",
    "        axarr[i].tick_params(axis='y', left='off', labelleft='off')\n",
    "    else:\n",
    "        axarr[i].set_ylabel('Fraction',size=12)\n",
    "\n",
    "plt.tight_layout(rect=[0,0,1,0.95]) # xmin, ymin, xmax, ymax\n",
    "plt.savefig('../reports/figures/Original_Data_Distributions_readmissions.png')\n",
    "plt.show()"
   ]
  },
  {
   "cell_type": "code",
   "execution_count": 258,
   "id": "precise-albania",
   "metadata": {
    "ExecuteTime": {
     "end_time": "2021-02-11T18:49:42.185795Z",
     "start_time": "2021-02-11T18:49:42.085706Z"
    }
   },
   "outputs": [
    {
     "data": {
      "text/html": [
       "<div>\n",
       "<style scoped>\n",
       "    .dataframe tbody tr th:only-of-type {\n",
       "        vertical-align: middle;\n",
       "    }\n",
       "\n",
       "    .dataframe tbody tr th {\n",
       "        vertical-align: top;\n",
       "    }\n",
       "\n",
       "    .dataframe thead th {\n",
       "        text-align: right;\n",
       "    }\n",
       "</style>\n",
       "<table border=\"1\" class=\"dataframe\">\n",
       "  <thead>\n",
       "    <tr style=\"text-align: right;\">\n",
       "      <th></th>\n",
       "      <th>time_in_hospital</th>\n",
       "      <th>num_lab_procedures</th>\n",
       "      <th>num_procedures</th>\n",
       "      <th>num_medications</th>\n",
       "      <th>number_outpatient</th>\n",
       "      <th>number_emergency</th>\n",
       "      <th>number_inpatient</th>\n",
       "      <th>number_diagnoses</th>\n",
       "      <th>race_Caucasian</th>\n",
       "      <th>race_AfricanAmerican</th>\n",
       "      <th>gender_Female</th>\n",
       "      <th>age_[70-80)</th>\n",
       "      <th>age_[60-70)</th>\n",
       "      <th>age_[50-60)</th>\n",
       "      <th>age_[80-90)</th>\n",
       "      <th>age_[40-50)</th>\n",
       "      <th>payer_code_?</th>\n",
       "      <th>payer_code_MC</th>\n",
       "      <th>payer_code_HM</th>\n",
       "      <th>payer_code_SP</th>\n",
       "      <th>payer_code_BC</th>\n",
       "      <th>medical_specialty_?</th>\n",
       "      <th>medical_specialty_InternalMedicine</th>\n",
       "      <th>medical_specialty_Emergency/Trauma</th>\n",
       "      <th>medical_specialty_Family/GeneralPractice</th>\n",
       "      <th>medical_specialty_Cardiology</th>\n",
       "      <th>diag_1_428</th>\n",
       "      <th>diag_1_414</th>\n",
       "      <th>diag_1_786</th>\n",
       "      <th>diag_2_276</th>\n",
       "      <th>diag_2_428</th>\n",
       "      <th>diag_2_250</th>\n",
       "      <th>diag_2_427</th>\n",
       "      <th>diag_3_250</th>\n",
       "      <th>diag_3_401</th>\n",
       "      <th>diag_3_276</th>\n",
       "      <th>diag_3_428</th>\n",
       "      <th>max_glu_serum_None</th>\n",
       "      <th>A1Cresult_None</th>\n",
       "      <th>metformin_No</th>\n",
       "      <th>chlorpropamide_No</th>\n",
       "      <th>glimepiride_No</th>\n",
       "      <th>glipizide_No</th>\n",
       "      <th>tolbutamide_No</th>\n",
       "      <th>pioglitazone_No</th>\n",
       "      <th>tolazamide_No</th>\n",
       "      <th>glimepiride-pioglitazone_No</th>\n",
       "      <th>change_No</th>\n",
       "      <th>diabetesMed_Yes</th>\n",
       "      <th>readmitted</th>\n",
       "    </tr>\n",
       "  </thead>\n",
       "  <tbody>\n",
       "    <tr>\n",
       "      <th>0</th>\n",
       "      <td>14</td>\n",
       "      <td>41</td>\n",
       "      <td>0</td>\n",
       "      <td>11</td>\n",
       "      <td>0</td>\n",
       "      <td>0</td>\n",
       "      <td>0</td>\n",
       "      <td>6</td>\n",
       "      <td>1</td>\n",
       "      <td>0</td>\n",
       "      <td>0</td>\n",
       "      <td>0</td>\n",
       "      <td>0</td>\n",
       "      <td>1</td>\n",
       "      <td>0</td>\n",
       "      <td>0</td>\n",
       "      <td>0</td>\n",
       "      <td>0</td>\n",
       "      <td>0</td>\n",
       "      <td>1</td>\n",
       "      <td>0</td>\n",
       "      <td>1</td>\n",
       "      <td>0</td>\n",
       "      <td>0</td>\n",
       "      <td>0</td>\n",
       "      <td>0</td>\n",
       "      <td>0</td>\n",
       "      <td>0</td>\n",
       "      <td>0</td>\n",
       "      <td>0</td>\n",
       "      <td>0</td>\n",
       "      <td>0</td>\n",
       "      <td>0</td>\n",
       "      <td>0</td>\n",
       "      <td>1</td>\n",
       "      <td>0</td>\n",
       "      <td>0</td>\n",
       "      <td>1</td>\n",
       "      <td>1</td>\n",
       "      <td>1</td>\n",
       "      <td>1</td>\n",
       "      <td>1</td>\n",
       "      <td>0</td>\n",
       "      <td>1</td>\n",
       "      <td>1</td>\n",
       "      <td>1</td>\n",
       "      <td>1</td>\n",
       "      <td>1</td>\n",
       "      <td>1</td>\n",
       "      <td>0</td>\n",
       "    </tr>\n",
       "    <tr>\n",
       "      <th>1</th>\n",
       "      <td>2</td>\n",
       "      <td>30</td>\n",
       "      <td>0</td>\n",
       "      <td>12</td>\n",
       "      <td>0</td>\n",
       "      <td>0</td>\n",
       "      <td>1</td>\n",
       "      <td>9</td>\n",
       "      <td>1</td>\n",
       "      <td>0</td>\n",
       "      <td>1</td>\n",
       "      <td>0</td>\n",
       "      <td>0</td>\n",
       "      <td>1</td>\n",
       "      <td>0</td>\n",
       "      <td>0</td>\n",
       "      <td>0</td>\n",
       "      <td>0</td>\n",
       "      <td>0</td>\n",
       "      <td>1</td>\n",
       "      <td>0</td>\n",
       "      <td>1</td>\n",
       "      <td>0</td>\n",
       "      <td>0</td>\n",
       "      <td>0</td>\n",
       "      <td>0</td>\n",
       "      <td>0</td>\n",
       "      <td>0</td>\n",
       "      <td>0</td>\n",
       "      <td>0</td>\n",
       "      <td>0</td>\n",
       "      <td>0</td>\n",
       "      <td>0</td>\n",
       "      <td>0</td>\n",
       "      <td>0</td>\n",
       "      <td>0</td>\n",
       "      <td>0</td>\n",
       "      <td>1</td>\n",
       "      <td>1</td>\n",
       "      <td>1</td>\n",
       "      <td>1</td>\n",
       "      <td>1</td>\n",
       "      <td>1</td>\n",
       "      <td>1</td>\n",
       "      <td>0</td>\n",
       "      <td>1</td>\n",
       "      <td>1</td>\n",
       "      <td>0</td>\n",
       "      <td>1</td>\n",
       "      <td>1</td>\n",
       "    </tr>\n",
       "    <tr>\n",
       "      <th>2</th>\n",
       "      <td>5</td>\n",
       "      <td>66</td>\n",
       "      <td>0</td>\n",
       "      <td>22</td>\n",
       "      <td>1</td>\n",
       "      <td>0</td>\n",
       "      <td>2</td>\n",
       "      <td>9</td>\n",
       "      <td>1</td>\n",
       "      <td>0</td>\n",
       "      <td>1</td>\n",
       "      <td>0</td>\n",
       "      <td>0</td>\n",
       "      <td>0</td>\n",
       "      <td>1</td>\n",
       "      <td>0</td>\n",
       "      <td>0</td>\n",
       "      <td>1</td>\n",
       "      <td>0</td>\n",
       "      <td>0</td>\n",
       "      <td>0</td>\n",
       "      <td>1</td>\n",
       "      <td>0</td>\n",
       "      <td>0</td>\n",
       "      <td>0</td>\n",
       "      <td>0</td>\n",
       "      <td>0</td>\n",
       "      <td>0</td>\n",
       "      <td>0</td>\n",
       "      <td>0</td>\n",
       "      <td>0</td>\n",
       "      <td>0</td>\n",
       "      <td>0</td>\n",
       "      <td>0</td>\n",
       "      <td>0</td>\n",
       "      <td>0</td>\n",
       "      <td>0</td>\n",
       "      <td>1</td>\n",
       "      <td>0</td>\n",
       "      <td>0</td>\n",
       "      <td>1</td>\n",
       "      <td>1</td>\n",
       "      <td>1</td>\n",
       "      <td>1</td>\n",
       "      <td>1</td>\n",
       "      <td>1</td>\n",
       "      <td>1</td>\n",
       "      <td>1</td>\n",
       "      <td>1</td>\n",
       "      <td>1</td>\n",
       "    </tr>\n",
       "    <tr>\n",
       "      <th>3</th>\n",
       "      <td>3</td>\n",
       "      <td>63</td>\n",
       "      <td>0</td>\n",
       "      <td>8</td>\n",
       "      <td>0</td>\n",
       "      <td>0</td>\n",
       "      <td>0</td>\n",
       "      <td>8</td>\n",
       "      <td>1</td>\n",
       "      <td>0</td>\n",
       "      <td>1</td>\n",
       "      <td>0</td>\n",
       "      <td>0</td>\n",
       "      <td>1</td>\n",
       "      <td>0</td>\n",
       "      <td>0</td>\n",
       "      <td>1</td>\n",
       "      <td>0</td>\n",
       "      <td>0</td>\n",
       "      <td>0</td>\n",
       "      <td>0</td>\n",
       "      <td>1</td>\n",
       "      <td>0</td>\n",
       "      <td>0</td>\n",
       "      <td>0</td>\n",
       "      <td>0</td>\n",
       "      <td>0</td>\n",
       "      <td>1</td>\n",
       "      <td>0</td>\n",
       "      <td>0</td>\n",
       "      <td>0</td>\n",
       "      <td>0</td>\n",
       "      <td>0</td>\n",
       "      <td>0</td>\n",
       "      <td>0</td>\n",
       "      <td>0</td>\n",
       "      <td>0</td>\n",
       "      <td>1</td>\n",
       "      <td>1</td>\n",
       "      <td>1</td>\n",
       "      <td>1</td>\n",
       "      <td>1</td>\n",
       "      <td>1</td>\n",
       "      <td>1</td>\n",
       "      <td>1</td>\n",
       "      <td>1</td>\n",
       "      <td>1</td>\n",
       "      <td>1</td>\n",
       "      <td>1</td>\n",
       "      <td>1</td>\n",
       "    </tr>\n",
       "    <tr>\n",
       "      <th>4</th>\n",
       "      <td>5</td>\n",
       "      <td>40</td>\n",
       "      <td>0</td>\n",
       "      <td>6</td>\n",
       "      <td>0</td>\n",
       "      <td>0</td>\n",
       "      <td>1</td>\n",
       "      <td>9</td>\n",
       "      <td>1</td>\n",
       "      <td>0</td>\n",
       "      <td>1</td>\n",
       "      <td>0</td>\n",
       "      <td>0</td>\n",
       "      <td>0</td>\n",
       "      <td>1</td>\n",
       "      <td>0</td>\n",
       "      <td>1</td>\n",
       "      <td>0</td>\n",
       "      <td>0</td>\n",
       "      <td>0</td>\n",
       "      <td>0</td>\n",
       "      <td>0</td>\n",
       "      <td>0</td>\n",
       "      <td>0</td>\n",
       "      <td>1</td>\n",
       "      <td>0</td>\n",
       "      <td>0</td>\n",
       "      <td>0</td>\n",
       "      <td>0</td>\n",
       "      <td>0</td>\n",
       "      <td>0</td>\n",
       "      <td>0</td>\n",
       "      <td>0</td>\n",
       "      <td>0</td>\n",
       "      <td>1</td>\n",
       "      <td>0</td>\n",
       "      <td>0</td>\n",
       "      <td>1</td>\n",
       "      <td>1</td>\n",
       "      <td>1</td>\n",
       "      <td>1</td>\n",
       "      <td>1</td>\n",
       "      <td>1</td>\n",
       "      <td>1</td>\n",
       "      <td>1</td>\n",
       "      <td>1</td>\n",
       "      <td>1</td>\n",
       "      <td>1</td>\n",
       "      <td>0</td>\n",
       "      <td>0</td>\n",
       "    </tr>\n",
       "  </tbody>\n",
       "</table>\n",
       "</div>"
      ],
      "text/plain": [
       "   time_in_hospital  num_lab_procedures  num_procedures  num_medications  \\\n",
       "0                14                  41               0               11   \n",
       "1                 2                  30               0               12   \n",
       "2                 5                  66               0               22   \n",
       "3                 3                  63               0                8   \n",
       "4                 5                  40               0                6   \n",
       "\n",
       "   number_outpatient  number_emergency  number_inpatient  number_diagnoses  \\\n",
       "0                  0                 0                 0                 6   \n",
       "1                  0                 0                 1                 9   \n",
       "2                  1                 0                 2                 9   \n",
       "3                  0                 0                 0                 8   \n",
       "4                  0                 0                 1                 9   \n",
       "\n",
       "   race_Caucasian  race_AfricanAmerican  gender_Female  age_[70-80)  \\\n",
       "0               1                     0              0            0   \n",
       "1               1                     0              1            0   \n",
       "2               1                     0              1            0   \n",
       "3               1                     0              1            0   \n",
       "4               1                     0              1            0   \n",
       "\n",
       "   age_[60-70)  age_[50-60)  age_[80-90)  age_[40-50)  payer_code_?  \\\n",
       "0            0            1            0            0             0   \n",
       "1            0            1            0            0             0   \n",
       "2            0            0            1            0             0   \n",
       "3            0            1            0            0             1   \n",
       "4            0            0            1            0             1   \n",
       "\n",
       "   payer_code_MC  payer_code_HM  payer_code_SP  payer_code_BC  \\\n",
       "0              0              0              1              0   \n",
       "1              0              0              1              0   \n",
       "2              1              0              0              0   \n",
       "3              0              0              0              0   \n",
       "4              0              0              0              0   \n",
       "\n",
       "   medical_specialty_?  medical_specialty_InternalMedicine  \\\n",
       "0                    1                                   0   \n",
       "1                    1                                   0   \n",
       "2                    1                                   0   \n",
       "3                    1                                   0   \n",
       "4                    0                                   0   \n",
       "\n",
       "   medical_specialty_Emergency/Trauma  \\\n",
       "0                                   0   \n",
       "1                                   0   \n",
       "2                                   0   \n",
       "3                                   0   \n",
       "4                                   0   \n",
       "\n",
       "   medical_specialty_Family/GeneralPractice  medical_specialty_Cardiology  \\\n",
       "0                                         0                             0   \n",
       "1                                         0                             0   \n",
       "2                                         0                             0   \n",
       "3                                         0                             0   \n",
       "4                                         1                             0   \n",
       "\n",
       "   diag_1_428  diag_1_414  diag_1_786  diag_2_276  diag_2_428  diag_2_250  \\\n",
       "0           0           0           0           0           0           0   \n",
       "1           0           0           0           0           0           0   \n",
       "2           0           0           0           0           0           0   \n",
       "3           0           1           0           0           0           0   \n",
       "4           0           0           0           0           0           0   \n",
       "\n",
       "   diag_2_427  diag_3_250  diag_3_401  diag_3_276  diag_3_428  \\\n",
       "0           0           0           1           0           0   \n",
       "1           0           0           0           0           0   \n",
       "2           0           0           0           0           0   \n",
       "3           0           0           0           0           0   \n",
       "4           0           0           1           0           0   \n",
       "\n",
       "   max_glu_serum_None  A1Cresult_None  metformin_No  chlorpropamide_No  \\\n",
       "0                   1               1             1                  1   \n",
       "1                   1               1             1                  1   \n",
       "2                   1               0             0                  1   \n",
       "3                   1               1             1                  1   \n",
       "4                   1               1             1                  1   \n",
       "\n",
       "   glimepiride_No  glipizide_No  tolbutamide_No  pioglitazone_No  \\\n",
       "0               1             0               1                1   \n",
       "1               1             1               1                0   \n",
       "2               1             1               1                1   \n",
       "3               1             1               1                1   \n",
       "4               1             1               1                1   \n",
       "\n",
       "   tolazamide_No  glimepiride-pioglitazone_No  change_No  diabetesMed_Yes  \\\n",
       "0              1                            1          1                1   \n",
       "1              1                            1          0                1   \n",
       "2              1                            1          1                1   \n",
       "3              1                            1          1                1   \n",
       "4              1                            1          1                0   \n",
       "\n",
       "   readmitted  \n",
       "0           0  \n",
       "1           1  \n",
       "2           1  \n",
       "3           1  \n",
       "4           0  "
      ]
     },
     "execution_count": 258,
     "metadata": {},
     "output_type": "execute_result"
    }
   ],
   "source": [
    "#Encode categorical features\n",
    "for column in categorical_features:\n",
    "    data[column] = data[column].astype('category').cat.codes\n",
    "\n",
    "data.head()"
   ]
  },
  {
   "cell_type": "code",
   "execution_count": 211,
   "id": "maritime-scholar",
   "metadata": {
    "ExecuteTime": {
     "end_time": "2021-02-11T18:20:17.909983Z",
     "start_time": "2021-02-11T18:20:16.946891Z"
    }
   },
   "outputs": [
    {
     "data": {
      "image/png": "[encoded data removed]",
      "text/plain": [
       "<Figure size 1008x360 with 2 Axes>"
      ]
     },
     "metadata": {},
     "output_type": "display_data"
    }
   ],
   "source": [
    "# log transform highly skewed continuous features\n",
    "#Example of skewed feature\n",
    "\n",
    "_ = plt.figure(figsize=(14,5))\n",
    "_ = plt.subplot(1,2,1);\n",
    "_ = plt.hist(data['number_outpatient'], bins=40)\n",
    "_ = plt.title('Original Outpatient Distribution')\n",
    "\n",
    "_ = plt.subplot(1,2,2)\n",
    "d0 = np.log10( data['number_outpatient'].values + 1 )\n",
    "_ = plt.hist( d0, bins=40 )\n",
    "_ = plt.title('Log10(x+1) Transformed Outpatient Distribution')\n",
    "plt.show()"
   ]
  },
  {
   "cell_type": "code",
   "execution_count": 212,
   "id": "agreed-adams",
   "metadata": {
    "ExecuteTime": {
     "end_time": "2021-02-11T18:22:28.543764Z",
     "start_time": "2021-02-11T18:22:28.184369Z"
    }
   },
   "outputs": [
    {
     "data": {
      "image/png": "[encoded data removed]",
      "text/plain": [
       "<Figure size 1008x360 with 2 Axes>"
      ]
     },
     "metadata": {},
     "output_type": "display_data"
    }
   ],
   "source": [
    "# log transform highly skewed continuous features\n",
    "#Example of skewed feature\n",
    "\n",
    "_ = plt.figure(figsize=(14,5))\n",
    "_ = plt.subplot(1,2,1);\n",
    "_ = plt.hist(data['number_emergency'], bins=40)\n",
    "_ = plt.title('Original Emergency Distribution')\n",
    "\n",
    "_ = plt.subplot(1,2,2)\n",
    "d1 = np.log10( data['number_emergency'].values + 1 )\n",
    "_ = plt.hist( d1, bins=40 )\n",
    "_ = plt.title('Log10(x+1) Transformed Emergency Distribution')\n",
    "plt.show()"
   ]
  },
  {
   "cell_type": "code",
   "execution_count": 213,
   "id": "religious-bookmark",
   "metadata": {
    "ExecuteTime": {
     "end_time": "2021-02-11T18:23:03.737211Z",
     "start_time": "2021-02-11T18:23:03.362722Z"
    }
   },
   "outputs": [
    {
     "data": {
      "image/png": "[encoded data removed]",
      "text/plain": [
       "<Figure size 1008x360 with 2 Axes>"
      ]
     },
     "metadata": {},
     "output_type": "display_data"
    }
   ],
   "source": [
    "# log transform highly skewed continuous features\n",
    "#Example of skewed feature\n",
    "\n",
    "_ = plt.figure(figsize=(14,5))\n",
    "_ = plt.subplot(1,2,1);\n",
    "_ = plt.hist(data['number_inpatient'], bins=40)\n",
    "_ = plt.title('Original Inpatient Distribution')\n",
    "\n",
    "_ = plt.subplot(1,2,2)\n",
    "d2 = np.log10( data['number_inpatient'].values + 1 )\n",
    "_ = plt.hist( d2, bins=40 )\n",
    "_ = plt.title('Log10(x+1) Transformed Inpatient Distribution')\n",
    "plt.show()"
   ]
  },
  {
   "cell_type": "code",
   "execution_count": 259,
   "id": "beautiful-plastic",
   "metadata": {
    "ExecuteTime": {
     "end_time": "2021-02-11T18:49:48.851394Z",
     "start_time": "2021-02-11T18:49:48.768487Z"
    }
   },
   "outputs": [
    {
     "data": {
      "text/html": [
       "<div>\n",
       "<style scoped>\n",
       "    .dataframe tbody tr th:only-of-type {\n",
       "        vertical-align: middle;\n",
       "    }\n",
       "\n",
       "    .dataframe tbody tr th {\n",
       "        vertical-align: top;\n",
       "    }\n",
       "\n",
       "    .dataframe thead th {\n",
       "        text-align: right;\n",
       "    }\n",
       "</style>\n",
       "<table border=\"1\" class=\"dataframe\">\n",
       "  <thead>\n",
       "    <tr style=\"text-align: right;\">\n",
       "      <th></th>\n",
       "      <th>time_in_hospital</th>\n",
       "      <th>num_lab_procedures</th>\n",
       "      <th>num_procedures</th>\n",
       "      <th>num_medications</th>\n",
       "      <th>number_outpatient</th>\n",
       "      <th>number_emergency</th>\n",
       "      <th>number_inpatient</th>\n",
       "      <th>number_diagnoses</th>\n",
       "    </tr>\n",
       "  </thead>\n",
       "  <tbody>\n",
       "    <tr>\n",
       "      <th>min</th>\n",
       "      <td>1.000000</td>\n",
       "      <td>1.000000</td>\n",
       "      <td>0.000000</td>\n",
       "      <td>1.000000</td>\n",
       "      <td>0.000000</td>\n",
       "      <td>0.000000</td>\n",
       "      <td>0.000000</td>\n",
       "      <td>1.000000</td>\n",
       "    </tr>\n",
       "    <tr>\n",
       "      <th>max</th>\n",
       "      <td>14.000000</td>\n",
       "      <td>97.000000</td>\n",
       "      <td>6.000000</td>\n",
       "      <td>60.000000</td>\n",
       "      <td>14.000000</td>\n",
       "      <td>10.000000</td>\n",
       "      <td>10.000000</td>\n",
       "      <td>11.001000</td>\n",
       "    </tr>\n",
       "    <tr>\n",
       "      <th>mean</th>\n",
       "      <td>4.814462</td>\n",
       "      <td>44.299130</td>\n",
       "      <td>2.123033</td>\n",
       "      <td>15.974904</td>\n",
       "      <td>2.083293</td>\n",
       "      <td>1.617533</td>\n",
       "      <td>1.852798</td>\n",
       "      <td>7.428199</td>\n",
       "    </tr>\n",
       "    <tr>\n",
       "      <th>stdev</th>\n",
       "      <td>2.697211</td>\n",
       "      <td>18.395464</td>\n",
       "      <td>1.208055</td>\n",
       "      <td>7.918765</td>\n",
       "      <td>1.698997</td>\n",
       "      <td>1.225419</td>\n",
       "      <td>1.354772</td>\n",
       "      <td>1.904913</td>\n",
       "    </tr>\n",
       "  </tbody>\n",
       "</table>\n",
       "</div>"
      ],
      "text/plain": [
       "       time_in_hospital  num_lab_procedures  num_procedures  num_medications  \\\n",
       "min            1.000000            1.000000        0.000000         1.000000   \n",
       "max           14.000000           97.000000        6.000000        60.000000   \n",
       "mean           4.814462           44.299130        2.123033        15.974904   \n",
       "stdev          2.697211           18.395464        1.208055         7.918765   \n",
       "\n",
       "       number_outpatient  number_emergency  number_inpatient  number_diagnoses  \n",
       "min             0.000000          0.000000          0.000000          1.000000  \n",
       "max            14.000000         10.000000         10.000000         11.001000  \n",
       "mean            2.083293          1.617533          1.852798          7.428199  \n",
       "stdev           1.698997          1.225419          1.354772          1.904913  "
      ]
     },
     "execution_count": 259,
     "metadata": {},
     "output_type": "execute_result"
    }
   ],
   "source": [
    "# Center and scale all data, only using the middle 99.8%, so outliers don't pull too much.\n",
    "# First generate the percentile data for each feature\n",
    "\n",
    "percentiles =  pd.DataFrame( np.array([ np.percentile( data[i], [ 0.1, 99.9 ] ) for i in continuous_features ]).T,\n",
    "                            columns=continuous_features, index=['min','max'] )\n",
    "\n",
    "percentile_means = \\\n",
    "    [ [ np.mean( data.loc[ (data[i]>percentiles[i]['min']) & (data[i]<percentiles[i]['max']) , i ] ) ]\n",
    "     for i in continuous_features ]\n",
    "\n",
    "percentiles = percentiles.append( pd.DataFrame(np.array(percentile_means).T, columns=continuous_features, index=['mean']) )\n",
    "\n",
    "percentile_stds = \\\n",
    "    [ [ np.std( data.loc[ (data[i]>percentiles[i]['min']) & (data[i]<percentiles[i]['max']) , i ] ) ]\n",
    "     for i in continuous_features ]\n",
    "\n",
    "percentiles = percentiles.append( pd.DataFrame(np.array(percentile_stds).T, columns=continuous_features, index=['stdev']) )\n",
    "\n",
    "percentiles"
   ]
  },
  {
   "cell_type": "code",
   "execution_count": 260,
   "id": "lightweight-grove",
   "metadata": {
    "ExecuteTime": {
     "end_time": "2021-02-11T18:50:22.112971Z",
     "start_time": "2021-02-11T18:50:22.058214Z"
    }
   },
   "outputs": [],
   "source": [
    "# Center and scale the data using the percentile data we just generated\n",
    "\n",
    "data[continuous_features] = ( data[continuous_features] - percentiles.loc[ 'mean', continuous_features ] ) / percentiles.loc[ 'stdev', continuous_features ]\n"
   ]
  },
  {
   "cell_type": "code",
   "execution_count": 261,
   "id": "operating-numbers",
   "metadata": {
    "ExecuteTime": {
     "end_time": "2021-02-11T18:50:31.224647Z",
     "start_time": "2021-02-11T18:50:31.001619Z"
    }
   },
   "outputs": [
    {
     "data": {
      "image/png": "[encoded data removed]",
      "text/plain": [
       "<Figure size 432x288 with 1 Axes>"
      ]
     },
     "metadata": {},
     "output_type": "display_data"
    }
   ],
   "source": [
    "# There are outliers, 50-100 stdevs away from mean in several columns\n",
    "\n",
    "plot_cols = continuous_features\n",
    "# plt.plot( np.log10( data[ plot_cols ].abs().max().values ) )\n",
    "# plt.plot( data[ plot_cols ].abs().max().values / data[ plot_cols ].std().values / 10, label='max z/10' )\n",
    "plt.plot( data.loc[ data.readmitted==1, plot_cols ].abs().max().values / data[ plot_cols ].std().values / 10, label='readmitted max z/10' )\n",
    "plt.plot( data.loc[ data.readmitted==0, plot_cols ].abs().max().values / data[ plot_cols ].std().values / 10, label='not reamditted max z/10' )\n",
    "plt.plot( data[ plot_cols ].mean().values, label='mean' )\n",
    "# plt.plot( data[ plot_cols ].abs().mean().values, label='abs mean' )\n",
    "plt.plot( data[ plot_cols ].std().values, label='std' )\n",
    "plt.xlabel('Feature')\n",
    "plt.ylabel('z/10')\n",
    "plt.legend() ; "
   ]
  },
  {
   "cell_type": "code",
   "execution_count": 262,
   "id": "active-malawi",
   "metadata": {
    "ExecuteTime": {
     "end_time": "2021-02-11T18:51:07.118590Z",
     "start_time": "2021-02-11T18:51:06.216795Z"
    }
   },
   "outputs": [
    {
     "name": "stderr",
     "output_type": "stream",
     "text": [
      "/Users/jrudd/opt/anaconda3/envs/gans_env/lib/python3.8/site-packages/numpy/core/_methods.py:195: RuntimeWarning:\n",
      "\n",
      "overflow encountered in multiply\n",
      "\n",
      "/Users/jrudd/opt/anaconda3/envs/gans_env/lib/python3.8/site-packages/numpy/core/_methods.py:199: RuntimeWarning:\n",
      "\n",
      "overflow encountered in reduce\n",
      "\n"
     ]
    },
    {
     "data": {
      "text/html": [
       "<div>\n",
       "<style scoped>\n",
       "    .dataframe tbody tr th:only-of-type {\n",
       "        vertical-align: middle;\n",
       "    }\n",
       "\n",
       "    .dataframe tbody tr th {\n",
       "        vertical-align: top;\n",
       "    }\n",
       "\n",
       "    .dataframe thead th {\n",
       "        text-align: right;\n",
       "    }\n",
       "</style>\n",
       "<table border=\"1\" class=\"dataframe\">\n",
       "  <thead>\n",
       "    <tr style=\"text-align: right;\">\n",
       "      <th></th>\n",
       "      <th>time_in_hospital</th>\n",
       "      <th>num_lab_procedures</th>\n",
       "      <th>num_procedures</th>\n",
       "      <th>num_medications</th>\n",
       "      <th>number_outpatient</th>\n",
       "      <th>number_emergency</th>\n",
       "      <th>number_inpatient</th>\n",
       "      <th>number_diagnoses</th>\n",
       "      <th>race_Caucasian</th>\n",
       "      <th>race_AfricanAmerican</th>\n",
       "      <th>gender_Female</th>\n",
       "      <th>age_[70-80)</th>\n",
       "      <th>age_[60-70)</th>\n",
       "      <th>age_[50-60)</th>\n",
       "      <th>age_[80-90)</th>\n",
       "      <th>age_[40-50)</th>\n",
       "      <th>payer_code_?</th>\n",
       "      <th>payer_code_MC</th>\n",
       "      <th>payer_code_HM</th>\n",
       "      <th>payer_code_SP</th>\n",
       "      <th>payer_code_BC</th>\n",
       "      <th>medical_specialty_?</th>\n",
       "      <th>medical_specialty_InternalMedicine</th>\n",
       "      <th>medical_specialty_Emergency/Trauma</th>\n",
       "      <th>medical_specialty_Family/GeneralPractice</th>\n",
       "      <th>medical_specialty_Cardiology</th>\n",
       "      <th>diag_1_428</th>\n",
       "      <th>diag_1_414</th>\n",
       "      <th>diag_1_786</th>\n",
       "      <th>diag_2_276</th>\n",
       "      <th>diag_2_428</th>\n",
       "      <th>diag_2_250</th>\n",
       "      <th>diag_2_427</th>\n",
       "      <th>diag_3_250</th>\n",
       "      <th>diag_3_401</th>\n",
       "      <th>diag_3_276</th>\n",
       "      <th>diag_3_428</th>\n",
       "      <th>max_glu_serum_None</th>\n",
       "      <th>A1Cresult_None</th>\n",
       "      <th>metformin_No</th>\n",
       "      <th>chlorpropamide_No</th>\n",
       "      <th>glimepiride_No</th>\n",
       "      <th>glipizide_No</th>\n",
       "      <th>tolbutamide_No</th>\n",
       "      <th>pioglitazone_No</th>\n",
       "      <th>tolazamide_No</th>\n",
       "      <th>glimepiride-pioglitazone_No</th>\n",
       "      <th>change_No</th>\n",
       "      <th>diabetesMed_Yes</th>\n",
       "      <th>readmitted</th>\n",
       "    </tr>\n",
       "  </thead>\n",
       "  <tbody>\n",
       "    <tr>\n",
       "      <th>0</th>\n",
       "      <td>2.111678</td>\n",
       "      <td>-0.154080</td>\n",
       "      <td>-0.964258</td>\n",
       "      <td>-0.577016</td>\n",
       "      <td>-0.446349</td>\n",
       "      <td>-0.359197</td>\n",
       "      <td>-0.695041</td>\n",
       "      <td>-0.912755</td>\n",
       "      <td>0.589484</td>\n",
       "      <td>-0.488535</td>\n",
       "      <td>-1.077993</td>\n",
       "      <td>-0.579383</td>\n",
       "      <td>-0.52867</td>\n",
       "      <td>2.187930</td>\n",
       "      <td>-0.453019</td>\n",
       "      <td>-0.327974</td>\n",
       "      <td>-0.816837</td>\n",
       "      <td>-0.675236</td>\n",
       "      <td>-0.254967</td>\n",
       "      <td>4.449570</td>\n",
       "      <td>-0.218885</td>\n",
       "      <td>1.016537</td>\n",
       "      <td>-0.405214</td>\n",
       "      <td>-0.286222</td>\n",
       "      <td>-0.285486</td>\n",
       "      <td>-0.230765</td>\n",
       "      <td>-0.26349</td>\n",
       "      <td>-0.258155</td>\n",
       "      <td>-0.205291</td>\n",
       "      <td>-0.27139</td>\n",
       "      <td>-0.26849</td>\n",
       "      <td>-0.254165</td>\n",
       "      <td>-0.227866</td>\n",
       "      <td>-0.358561</td>\n",
       "      <td>3.345023</td>\n",
       "      <td>-0.228448</td>\n",
       "      <td>-0.21606</td>\n",
       "      <td>0.241063</td>\n",
       "      <td>0.453403</td>\n",
       "      <td>0.491171</td>\n",
       "      <td>0.026842</td>\n",
       "      <td>0.234111</td>\n",
       "      <td>-2.677673</td>\n",
       "      <td>0.015494</td>\n",
       "      <td>0.278209</td>\n",
       "      <td>0.020981</td>\n",
       "      <td>0.006325</td>\n",
       "      <td>0.918138</td>\n",
       "      <td>0.550546</td>\n",
       "      <td>0</td>\n",
       "    </tr>\n",
       "    <tr>\n",
       "      <th>1</th>\n",
       "      <td>-0.894297</td>\n",
       "      <td>-0.685450</td>\n",
       "      <td>-0.964258</td>\n",
       "      <td>-0.404558</td>\n",
       "      <td>-0.446349</td>\n",
       "      <td>-0.359197</td>\n",
       "      <td>1.014742</td>\n",
       "      <td>0.867835</td>\n",
       "      <td>0.589484</td>\n",
       "      <td>-0.488535</td>\n",
       "      <td>0.927650</td>\n",
       "      <td>-0.579383</td>\n",
       "      <td>-0.52867</td>\n",
       "      <td>2.187930</td>\n",
       "      <td>-0.453019</td>\n",
       "      <td>-0.327974</td>\n",
       "      <td>-0.816837</td>\n",
       "      <td>-0.675236</td>\n",
       "      <td>-0.254967</td>\n",
       "      <td>4.449570</td>\n",
       "      <td>-0.218885</td>\n",
       "      <td>1.016537</td>\n",
       "      <td>-0.405214</td>\n",
       "      <td>-0.286222</td>\n",
       "      <td>-0.285486</td>\n",
       "      <td>-0.230765</td>\n",
       "      <td>-0.26349</td>\n",
       "      <td>-0.258155</td>\n",
       "      <td>-0.205291</td>\n",
       "      <td>-0.27139</td>\n",
       "      <td>-0.26849</td>\n",
       "      <td>-0.254165</td>\n",
       "      <td>-0.227866</td>\n",
       "      <td>-0.358561</td>\n",
       "      <td>-0.298952</td>\n",
       "      <td>-0.228448</td>\n",
       "      <td>-0.21606</td>\n",
       "      <td>0.241063</td>\n",
       "      <td>0.453403</td>\n",
       "      <td>0.491171</td>\n",
       "      <td>0.026842</td>\n",
       "      <td>0.234111</td>\n",
       "      <td>0.373459</td>\n",
       "      <td>0.015494</td>\n",
       "      <td>-3.594415</td>\n",
       "      <td>0.020981</td>\n",
       "      <td>0.006325</td>\n",
       "      <td>-1.089160</td>\n",
       "      <td>0.550546</td>\n",
       "      <td>1</td>\n",
       "    </tr>\n",
       "    <tr>\n",
       "      <th>2</th>\n",
       "      <td>0.510231</td>\n",
       "      <td>1.199084</td>\n",
       "      <td>-0.964258</td>\n",
       "      <td>0.876331</td>\n",
       "      <td>2.072255</td>\n",
       "      <td>-0.359197</td>\n",
       "      <td>1.686747</td>\n",
       "      <td>0.867835</td>\n",
       "      <td>0.589484</td>\n",
       "      <td>-0.488535</td>\n",
       "      <td>0.927650</td>\n",
       "      <td>-0.579383</td>\n",
       "      <td>-0.52867</td>\n",
       "      <td>-0.457053</td>\n",
       "      <td>2.207415</td>\n",
       "      <td>-0.327974</td>\n",
       "      <td>-0.816837</td>\n",
       "      <td>1.480964</td>\n",
       "      <td>-0.254967</td>\n",
       "      <td>-0.224741</td>\n",
       "      <td>-0.218885</td>\n",
       "      <td>1.016537</td>\n",
       "      <td>-0.405214</td>\n",
       "      <td>-0.286222</td>\n",
       "      <td>-0.285486</td>\n",
       "      <td>-0.230765</td>\n",
       "      <td>-0.26349</td>\n",
       "      <td>-0.258155</td>\n",
       "      <td>-0.205291</td>\n",
       "      <td>-0.27139</td>\n",
       "      <td>-0.26849</td>\n",
       "      <td>-0.254165</td>\n",
       "      <td>-0.227866</td>\n",
       "      <td>-0.358561</td>\n",
       "      <td>-0.298952</td>\n",
       "      <td>-0.228448</td>\n",
       "      <td>-0.21606</td>\n",
       "      <td>0.241063</td>\n",
       "      <td>-2.205542</td>\n",
       "      <td>-2.035950</td>\n",
       "      <td>0.026842</td>\n",
       "      <td>0.234111</td>\n",
       "      <td>0.373459</td>\n",
       "      <td>0.015494</td>\n",
       "      <td>0.278209</td>\n",
       "      <td>0.020981</td>\n",
       "      <td>0.006325</td>\n",
       "      <td>0.918138</td>\n",
       "      <td>0.550546</td>\n",
       "      <td>1</td>\n",
       "    </tr>\n",
       "    <tr>\n",
       "      <th>3</th>\n",
       "      <td>-0.337258</td>\n",
       "      <td>1.027579</td>\n",
       "      <td>-0.964258</td>\n",
       "      <td>-1.140125</td>\n",
       "      <td>-0.446349</td>\n",
       "      <td>-0.359197</td>\n",
       "      <td>-0.695041</td>\n",
       "      <td>0.089744</td>\n",
       "      <td>0.589484</td>\n",
       "      <td>-0.488535</td>\n",
       "      <td>0.927650</td>\n",
       "      <td>-0.579383</td>\n",
       "      <td>-0.52867</td>\n",
       "      <td>2.187930</td>\n",
       "      <td>-0.453019</td>\n",
       "      <td>-0.327974</td>\n",
       "      <td>1.224235</td>\n",
       "      <td>-0.675236</td>\n",
       "      <td>-0.254967</td>\n",
       "      <td>-0.224741</td>\n",
       "      <td>-0.218885</td>\n",
       "      <td>1.016537</td>\n",
       "      <td>-0.405214</td>\n",
       "      <td>-0.286222</td>\n",
       "      <td>-0.285486</td>\n",
       "      <td>-0.230765</td>\n",
       "      <td>-0.26349</td>\n",
       "      <td>3.873644</td>\n",
       "      <td>-0.205291</td>\n",
       "      <td>-0.27139</td>\n",
       "      <td>-0.26849</td>\n",
       "      <td>-0.254165</td>\n",
       "      <td>-0.227866</td>\n",
       "      <td>-0.358561</td>\n",
       "      <td>-0.298952</td>\n",
       "      <td>-0.228448</td>\n",
       "      <td>-0.21606</td>\n",
       "      <td>0.241063</td>\n",
       "      <td>0.453403</td>\n",
       "      <td>0.491171</td>\n",
       "      <td>0.026842</td>\n",
       "      <td>0.234111</td>\n",
       "      <td>0.373459</td>\n",
       "      <td>0.015494</td>\n",
       "      <td>0.278209</td>\n",
       "      <td>0.020981</td>\n",
       "      <td>0.006325</td>\n",
       "      <td>0.918138</td>\n",
       "      <td>0.550546</td>\n",
       "      <td>1</td>\n",
       "    </tr>\n",
       "    <tr>\n",
       "      <th>4</th>\n",
       "      <td>0.510231</td>\n",
       "      <td>-0.203821</td>\n",
       "      <td>-0.964258</td>\n",
       "      <td>-1.551454</td>\n",
       "      <td>-0.446349</td>\n",
       "      <td>-0.359197</td>\n",
       "      <td>1.014742</td>\n",
       "      <td>0.867835</td>\n",
       "      <td>0.589484</td>\n",
       "      <td>-0.488535</td>\n",
       "      <td>0.927650</td>\n",
       "      <td>-0.579383</td>\n",
       "      <td>-0.52867</td>\n",
       "      <td>-0.457053</td>\n",
       "      <td>2.207415</td>\n",
       "      <td>-0.327974</td>\n",
       "      <td>1.224235</td>\n",
       "      <td>-0.675236</td>\n",
       "      <td>-0.254967</td>\n",
       "      <td>-0.224741</td>\n",
       "      <td>-0.218885</td>\n",
       "      <td>-0.983732</td>\n",
       "      <td>-0.405214</td>\n",
       "      <td>-0.286222</td>\n",
       "      <td>3.502804</td>\n",
       "      <td>-0.230765</td>\n",
       "      <td>-0.26349</td>\n",
       "      <td>-0.258155</td>\n",
       "      <td>-0.205291</td>\n",
       "      <td>-0.27139</td>\n",
       "      <td>-0.26849</td>\n",
       "      <td>-0.254165</td>\n",
       "      <td>-0.227866</td>\n",
       "      <td>-0.358561</td>\n",
       "      <td>3.345023</td>\n",
       "      <td>-0.228448</td>\n",
       "      <td>-0.21606</td>\n",
       "      <td>0.241063</td>\n",
       "      <td>0.453403</td>\n",
       "      <td>0.491171</td>\n",
       "      <td>0.026842</td>\n",
       "      <td>0.234111</td>\n",
       "      <td>0.373459</td>\n",
       "      <td>0.015494</td>\n",
       "      <td>0.278209</td>\n",
       "      <td>0.020981</td>\n",
       "      <td>0.006325</td>\n",
       "      <td>0.918138</td>\n",
       "      <td>-1.816377</td>\n",
       "      <td>0</td>\n",
       "    </tr>\n",
       "  </tbody>\n",
       "</table>\n",
       "</div>"
      ],
      "text/plain": [
       "   time_in_hospital  num_lab_procedures  num_procedures  num_medications  \\\n",
       "0          2.111678           -0.154080       -0.964258        -0.577016   \n",
       "1         -0.894297           -0.685450       -0.964258        -0.404558   \n",
       "2          0.510231            1.199084       -0.964258         0.876331   \n",
       "3         -0.337258            1.027579       -0.964258        -1.140125   \n",
       "4          0.510231           -0.203821       -0.964258        -1.551454   \n",
       "\n",
       "   number_outpatient  number_emergency  number_inpatient  number_diagnoses  \\\n",
       "0          -0.446349         -0.359197         -0.695041         -0.912755   \n",
       "1          -0.446349         -0.359197          1.014742          0.867835   \n",
       "2           2.072255         -0.359197          1.686747          0.867835   \n",
       "3          -0.446349         -0.359197         -0.695041          0.089744   \n",
       "4          -0.446349         -0.359197          1.014742          0.867835   \n",
       "\n",
       "   race_Caucasian  race_AfricanAmerican  gender_Female  age_[70-80)  \\\n",
       "0        0.589484             -0.488535      -1.077993    -0.579383   \n",
       "1        0.589484             -0.488535       0.927650    -0.579383   \n",
       "2        0.589484             -0.488535       0.927650    -0.579383   \n",
       "3        0.589484             -0.488535       0.927650    -0.579383   \n",
       "4        0.589484             -0.488535       0.927650    -0.579383   \n",
       "\n",
       "   age_[60-70)  age_[50-60)  age_[80-90)  age_[40-50)  payer_code_?  \\\n",
       "0     -0.52867     2.187930    -0.453019    -0.327974     -0.816837   \n",
       "1     -0.52867     2.187930    -0.453019    -0.327974     -0.816837   \n",
       "2     -0.52867    -0.457053     2.207415    -0.327974     -0.816837   \n",
       "3     -0.52867     2.187930    -0.453019    -0.327974      1.224235   \n",
       "4     -0.52867    -0.457053     2.207415    -0.327974      1.224235   \n",
       "\n",
       "   payer_code_MC  payer_code_HM  payer_code_SP  payer_code_BC  \\\n",
       "0      -0.675236      -0.254967       4.449570      -0.218885   \n",
       "1      -0.675236      -0.254967       4.449570      -0.218885   \n",
       "2       1.480964      -0.254967      -0.224741      -0.218885   \n",
       "3      -0.675236      -0.254967      -0.224741      -0.218885   \n",
       "4      -0.675236      -0.254967      -0.224741      -0.218885   \n",
       "\n",
       "   medical_specialty_?  medical_specialty_InternalMedicine  \\\n",
       "0             1.016537                           -0.405214   \n",
       "1             1.016537                           -0.405214   \n",
       "2             1.016537                           -0.405214   \n",
       "3             1.016537                           -0.405214   \n",
       "4            -0.983732                           -0.405214   \n",
       "\n",
       "   medical_specialty_Emergency/Trauma  \\\n",
       "0                           -0.286222   \n",
       "1                           -0.286222   \n",
       "2                           -0.286222   \n",
       "3                           -0.286222   \n",
       "4                           -0.286222   \n",
       "\n",
       "   medical_specialty_Family/GeneralPractice  medical_specialty_Cardiology  \\\n",
       "0                                 -0.285486                     -0.230765   \n",
       "1                                 -0.285486                     -0.230765   \n",
       "2                                 -0.285486                     -0.230765   \n",
       "3                                 -0.285486                     -0.230765   \n",
       "4                                  3.502804                     -0.230765   \n",
       "\n",
       "   diag_1_428  diag_1_414  diag_1_786  diag_2_276  diag_2_428  diag_2_250  \\\n",
       "0    -0.26349   -0.258155   -0.205291    -0.27139    -0.26849   -0.254165   \n",
       "1    -0.26349   -0.258155   -0.205291    -0.27139    -0.26849   -0.254165   \n",
       "2    -0.26349   -0.258155   -0.205291    -0.27139    -0.26849   -0.254165   \n",
       "3    -0.26349    3.873644   -0.205291    -0.27139    -0.26849   -0.254165   \n",
       "4    -0.26349   -0.258155   -0.205291    -0.27139    -0.26849   -0.254165   \n",
       "\n",
       "   diag_2_427  diag_3_250  diag_3_401  diag_3_276  diag_3_428  \\\n",
       "0   -0.227866   -0.358561    3.345023   -0.228448    -0.21606   \n",
       "1   -0.227866   -0.358561   -0.298952   -0.228448    -0.21606   \n",
       "2   -0.227866   -0.358561   -0.298952   -0.228448    -0.21606   \n",
       "3   -0.227866   -0.358561   -0.298952   -0.228448    -0.21606   \n",
       "4   -0.227866   -0.358561    3.345023   -0.228448    -0.21606   \n",
       "\n",
       "   max_glu_serum_None  A1Cresult_None  metformin_No  chlorpropamide_No  \\\n",
       "0            0.241063        0.453403      0.491171           0.026842   \n",
       "1            0.241063        0.453403      0.491171           0.026842   \n",
       "2            0.241063       -2.205542     -2.035950           0.026842   \n",
       "3            0.241063        0.453403      0.491171           0.026842   \n",
       "4            0.241063        0.453403      0.491171           0.026842   \n",
       "\n",
       "   glimepiride_No  glipizide_No  tolbutamide_No  pioglitazone_No  \\\n",
       "0        0.234111     -2.677673        0.015494         0.278209   \n",
       "1        0.234111      0.373459        0.015494        -3.594415   \n",
       "2        0.234111      0.373459        0.015494         0.278209   \n",
       "3        0.234111      0.373459        0.015494         0.278209   \n",
       "4        0.234111      0.373459        0.015494         0.278209   \n",
       "\n",
       "   tolazamide_No  glimepiride-pioglitazone_No  change_No  diabetesMed_Yes  \\\n",
       "0       0.020981                     0.006325   0.918138         0.550546   \n",
       "1       0.020981                     0.006325  -1.089160         0.550546   \n",
       "2       0.020981                     0.006325   0.918138         0.550546   \n",
       "3       0.020981                     0.006325   0.918138         0.550546   \n",
       "4       0.020981                     0.006325   0.918138        -1.816377   \n",
       "\n",
       "   readmitted  \n",
       "0           0  \n",
       "1           1  \n",
       "2           1  \n",
       "3           1  \n",
       "4           0  "
      ]
     },
     "execution_count": 262,
     "metadata": {},
     "output_type": "execute_result"
    }
   ],
   "source": [
    "#Transform data to Gaussian\n",
    "\n",
    "data[data_cols] = PowerTransformer(method='yeo-johnson', standardize=True, copy=True).fit_transform(data[data_cols])\n",
    "\n",
    "data.head()"
   ]
  },
  {
   "cell_type": "code",
   "execution_count": 263,
   "id": "unlimited-baptist",
   "metadata": {
    "ExecuteTime": {
     "end_time": "2021-02-11T18:51:30.298759Z",
     "start_time": "2021-02-11T18:51:30.244755Z"
    }
   },
   "outputs": [],
   "source": [
    "# Save engineered dataset for use in analysis\n",
    "# Save as pickle for faster reload\n",
    "\n",
    "pickle.dump(data, open(processed_data + 'readmissions.engineered.pkl','wb'))\n"
   ]
  },
  {
   "cell_type": "markdown",
   "id": "atomic-wilson",
   "metadata": {},
   "source": [
    "# Model Testing"
   ]
  },
  {
   "cell_type": "markdown",
   "id": "unknown-pharmacy",
   "metadata": {},
   "source": [
    "## Credit data"
   ]
  },
  {
   "cell_type": "code",
   "execution_count": 291,
   "id": "prospective-digit",
   "metadata": {
    "ExecuteTime": {
     "end_time": "2021-02-11T19:26:22.873048Z",
     "start_time": "2021-02-11T19:26:22.774741Z"
    }
   },
   "outputs": [
    {
     "name": "stdout",
     "output_type": "stream",
     "text": [
      "['Time', 'V1', 'V2', 'V3', 'V4', 'V5', 'V6', 'V7', 'V8', 'V9', 'V10', 'V11', 'V12', 'V13', 'V14', 'V15', 'V16', 'V17', 'V18', 'V19', 'V20', 'V21', 'V22', 'V23', 'V24', 'V25', 'V26', 'V27', 'V28', 'Amount']\n",
      "# of data columns:  30\n"
     ]
    }
   ],
   "source": [
    "# Load engineered dataset from EDA section\n",
    "\n",
    "data = pickle.load(open(processed_data + 'credicard.engineered.pkl','rb'))\n",
    "\n",
    "# data columns will be all other columns except class\n",
    "data_cols = list(data.columns[ data.columns != 'Class' ])\n",
    "label_cols = ['Class']\n",
    "\n",
    "print(data_cols)\n",
    "print('# of data columns: ',len(data_cols))"
   ]
  },
  {
   "cell_type": "code",
   "execution_count": 294,
   "id": "sharing-sensitivity",
   "metadata": {
    "ExecuteTime": {
     "end_time": "2021-02-11T19:27:44.331003Z",
     "start_time": "2021-02-11T19:27:44.258711Z"
    }
   },
   "outputs": [
    {
     "name": "stdout",
     "output_type": "stream",
     "text": [
      "31\n",
      "Index(['Time', 'V1', 'V2', 'V3', 'V4', 'V5', 'V6', 'V7', 'V8', 'V9', 'V10',\n",
      "       'V11', 'V12', 'V13', 'V14', 'V15', 'V16', 'V17', 'V18', 'V19', 'V20',\n",
      "       'V21', 'V22', 'V23', 'V24', 'V25', 'V26', 'V27', 'V28', 'Amount',\n",
      "       'Class'],\n",
      "      dtype='object')\n",
      "[0 1]\n"
     ]
    },
    {
     "data": {
      "text/html": [
       "<div>\n",
       "<style scoped>\n",
       "    .dataframe tbody tr th:only-of-type {\n",
       "        vertical-align: middle;\n",
       "    }\n",
       "\n",
       "    .dataframe tbody tr th {\n",
       "        vertical-align: top;\n",
       "    }\n",
       "\n",
       "    .dataframe thead th {\n",
       "        text-align: right;\n",
       "    }\n",
       "</style>\n",
       "<table border=\"1\" class=\"dataframe\">\n",
       "  <thead>\n",
       "    <tr style=\"text-align: right;\">\n",
       "      <th></th>\n",
       "      <th>Time</th>\n",
       "      <th>V1</th>\n",
       "      <th>V2</th>\n",
       "      <th>V3</th>\n",
       "      <th>V4</th>\n",
       "      <th>V5</th>\n",
       "      <th>V6</th>\n",
       "      <th>V7</th>\n",
       "      <th>V8</th>\n",
       "      <th>V9</th>\n",
       "      <th>V10</th>\n",
       "      <th>V11</th>\n",
       "      <th>V12</th>\n",
       "      <th>V13</th>\n",
       "      <th>V14</th>\n",
       "      <th>V15</th>\n",
       "      <th>V16</th>\n",
       "      <th>V17</th>\n",
       "      <th>V18</th>\n",
       "      <th>V19</th>\n",
       "      <th>V20</th>\n",
       "      <th>V21</th>\n",
       "      <th>V22</th>\n",
       "      <th>V23</th>\n",
       "      <th>V24</th>\n",
       "      <th>V25</th>\n",
       "      <th>V26</th>\n",
       "      <th>V27</th>\n",
       "      <th>V28</th>\n",
       "      <th>Amount</th>\n",
       "      <th>Class</th>\n",
       "    </tr>\n",
       "  </thead>\n",
       "  <tbody>\n",
       "    <tr>\n",
       "      <th>0</th>\n",
       "      <td>-2.097892</td>\n",
       "      <td>-0.918361</td>\n",
       "      <td>-0.126941</td>\n",
       "      <td>2.179072</td>\n",
       "      <td>0.985929</td>\n",
       "      <td>-0.256348</td>\n",
       "      <td>0.453311</td>\n",
       "      <td>0.193567</td>\n",
       "      <td>0.019899</td>\n",
       "      <td>0.380248</td>\n",
       "      <td>0.127280</td>\n",
       "      <td>-0.513029</td>\n",
       "      <td>-0.773716</td>\n",
       "      <td>-0.997406</td>\n",
       "      <td>-0.404862</td>\n",
       "      <td>1.711526</td>\n",
       "      <td>-0.600737</td>\n",
       "      <td>0.215343</td>\n",
       "      <td>0.010324</td>\n",
       "      <td>0.503249</td>\n",
       "      <td>0.324326</td>\n",
       "      <td>-0.004980</td>\n",
       "      <td>0.366815</td>\n",
       "      <td>-0.190321</td>\n",
       "      <td>0.008864</td>\n",
       "      <td>0.209150</td>\n",
       "      <td>-0.320634</td>\n",
       "      <td>0.319677</td>\n",
       "      <td>-0.051441</td>\n",
       "      <td>1.116232</td>\n",
       "      <td>0</td>\n",
       "    </tr>\n",
       "    <tr>\n",
       "      <th>1</th>\n",
       "      <td>-2.097892</td>\n",
       "      <td>0.627278</td>\n",
       "      <td>0.097411</td>\n",
       "      <td>-0.030922</td>\n",
       "      <td>0.387996</td>\n",
       "      <td>0.031793</td>\n",
       "      <td>0.038355</td>\n",
       "      <td>-0.063818</td>\n",
       "      <td>0.006326</td>\n",
       "      <td>-0.184730</td>\n",
       "      <td>-0.114989</td>\n",
       "      <td>1.523893</td>\n",
       "      <td>1.297063</td>\n",
       "      <td>0.498809</td>\n",
       "      <td>-0.233321</td>\n",
       "      <td>0.674971</td>\n",
       "      <td>0.491301</td>\n",
       "      <td>-0.174764</td>\n",
       "      <td>-0.238217</td>\n",
       "      <td>-0.169665</td>\n",
       "      <td>-0.092147</td>\n",
       "      <td>-0.297283</td>\n",
       "      <td>-0.883694</td>\n",
       "      <td>0.152007</td>\n",
       "      <td>-0.639250</td>\n",
       "      <td>0.286009</td>\n",
       "      <td>0.356852</td>\n",
       "      <td>-0.041941</td>\n",
       "      <td>0.058518</td>\n",
       "      <td>-1.128782</td>\n",
       "      <td>0</td>\n",
       "    </tr>\n",
       "    <tr>\n",
       "      <th>2</th>\n",
       "      <td>-2.097861</td>\n",
       "      <td>-0.917772</td>\n",
       "      <td>-0.876575</td>\n",
       "      <td>1.379633</td>\n",
       "      <td>0.341674</td>\n",
       "      <td>-0.374776</td>\n",
       "      <td>1.327090</td>\n",
       "      <td>0.639733</td>\n",
       "      <td>0.171795</td>\n",
       "      <td>-1.453454</td>\n",
       "      <td>0.234507</td>\n",
       "      <td>0.640717</td>\n",
       "      <td>-0.106076</td>\n",
       "      <td>0.724944</td>\n",
       "      <td>-0.256407</td>\n",
       "      <td>2.871130</td>\n",
       "      <td>-2.809860</td>\n",
       "      <td>1.379931</td>\n",
       "      <td>-0.164889</td>\n",
       "      <td>-2.836166</td>\n",
       "      <td>0.681052</td>\n",
       "      <td>0.359178</td>\n",
       "      <td>1.069681</td>\n",
       "      <td>1.507168</td>\n",
       "      <td>-1.129176</td>\n",
       "      <td>-0.653908</td>\n",
       "      <td>-0.205645</td>\n",
       "      <td>-0.157419</td>\n",
       "      <td>-0.171327</td>\n",
       "      <td>1.629849</td>\n",
       "      <td>0</td>\n",
       "    </tr>\n",
       "    <tr>\n",
       "      <th>3</th>\n",
       "      <td>-2.097861</td>\n",
       "      <td>-0.751287</td>\n",
       "      <td>-0.198599</td>\n",
       "      <td>1.399416</td>\n",
       "      <td>-0.580509</td>\n",
       "      <td>-0.019312</td>\n",
       "      <td>0.984311</td>\n",
       "      <td>0.191959</td>\n",
       "      <td>0.308552</td>\n",
       "      <td>-1.319307</td>\n",
       "      <td>-0.008705</td>\n",
       "      <td>-0.179208</td>\n",
       "      <td>0.025795</td>\n",
       "      <td>0.517338</td>\n",
       "      <td>-0.381402</td>\n",
       "      <td>-0.720131</td>\n",
       "      <td>-1.192490</td>\n",
       "      <td>-0.825670</td>\n",
       "      <td>2.432502</td>\n",
       "      <td>-1.528564</td>\n",
       "      <td>-0.272131</td>\n",
       "      <td>-0.130886</td>\n",
       "      <td>-0.013017</td>\n",
       "      <td>-0.317606</td>\n",
       "      <td>-1.748833</td>\n",
       "      <td>1.279747</td>\n",
       "      <td>-0.397429</td>\n",
       "      <td>0.138793</td>\n",
       "      <td>0.200887</td>\n",
       "      <td>1.008889</td>\n",
       "      <td>0</td>\n",
       "    </tr>\n",
       "    <tr>\n",
       "      <th>4</th>\n",
       "      <td>-2.097829</td>\n",
       "      <td>-0.834752</td>\n",
       "      <td>0.531035</td>\n",
       "      <td>1.158863</td>\n",
       "      <td>0.357472</td>\n",
       "      <td>-0.305871</td>\n",
       "      <td>0.179725</td>\n",
       "      <td>0.479228</td>\n",
       "      <td>-0.331302</td>\n",
       "      <td>0.769637</td>\n",
       "      <td>0.718426</td>\n",
       "      <td>-0.798731</td>\n",
       "      <td>0.495542</td>\n",
       "      <td>1.343519</td>\n",
       "      <td>-1.166584</td>\n",
       "      <td>0.137789</td>\n",
       "      <td>-0.580778</td>\n",
       "      <td>-0.317908</td>\n",
       "      <td>-0.066081</td>\n",
       "      <td>0.986295</td>\n",
       "      <td>0.529106</td>\n",
       "      <td>0.007357</td>\n",
       "      <td>1.107968</td>\n",
       "      <td>-0.233433</td>\n",
       "      <td>0.140403</td>\n",
       "      <td>-0.431047</td>\n",
       "      <td>1.048430</td>\n",
       "      <td>0.541582</td>\n",
       "      <td>0.661431</td>\n",
       "      <td>0.688624</td>\n",
       "      <td>0</td>\n",
       "    </tr>\n",
       "  </tbody>\n",
       "</table>\n",
       "</div>"
      ],
      "text/plain": [
       "       Time        V1        V2        V3        V4        V5        V6  \\\n",
       "0 -2.097892 -0.918361 -0.126941  2.179072  0.985929 -0.256348  0.453311   \n",
       "1 -2.097892  0.627278  0.097411 -0.030922  0.387996  0.031793  0.038355   \n",
       "2 -2.097861 -0.917772 -0.876575  1.379633  0.341674 -0.374776  1.327090   \n",
       "3 -2.097861 -0.751287 -0.198599  1.399416 -0.580509 -0.019312  0.984311   \n",
       "4 -2.097829 -0.834752  0.531035  1.158863  0.357472 -0.305871  0.179725   \n",
       "\n",
       "         V7        V8        V9       V10       V11       V12       V13  \\\n",
       "0  0.193567  0.019899  0.380248  0.127280 -0.513029 -0.773716 -0.997406   \n",
       "1 -0.063818  0.006326 -0.184730 -0.114989  1.523893  1.297063  0.498809   \n",
       "2  0.639733  0.171795 -1.453454  0.234507  0.640717 -0.106076  0.724944   \n",
       "3  0.191959  0.308552 -1.319307 -0.008705 -0.179208  0.025795  0.517338   \n",
       "4  0.479228 -0.331302  0.769637  0.718426 -0.798731  0.495542  1.343519   \n",
       "\n",
       "        V14       V15       V16       V17       V18       V19       V20  \\\n",
       "0 -0.404862  1.711526 -0.600737  0.215343  0.010324  0.503249  0.324326   \n",
       "1 -0.233321  0.674971  0.491301 -0.174764 -0.238217 -0.169665 -0.092147   \n",
       "2 -0.256407  2.871130 -2.809860  1.379931 -0.164889 -2.836166  0.681052   \n",
       "3 -0.381402 -0.720131 -1.192490 -0.825670  2.432502 -1.528564 -0.272131   \n",
       "4 -1.166584  0.137789 -0.580778 -0.317908 -0.066081  0.986295  0.529106   \n",
       "\n",
       "        V21       V22       V23       V24       V25       V26       V27  \\\n",
       "0 -0.004980  0.366815 -0.190321  0.008864  0.209150 -0.320634  0.319677   \n",
       "1 -0.297283 -0.883694  0.152007 -0.639250  0.286009  0.356852 -0.041941   \n",
       "2  0.359178  1.069681  1.507168 -1.129176 -0.653908 -0.205645 -0.157419   \n",
       "3 -0.130886 -0.013017 -0.317606 -1.748833  1.279747 -0.397429  0.138793   \n",
       "4  0.007357  1.107968 -0.233433  0.140403 -0.431047  1.048430  0.541582   \n",
       "\n",
       "        V28    Amount  Class  \n",
       "0 -0.051441  1.116232      0  \n",
       "1  0.058518 -1.128782      0  \n",
       "2 -0.171327  1.629849      0  \n",
       "3  0.200887  1.008889      0  \n",
       "4  0.661431  0.688624      0  "
      ]
     },
     "execution_count": 294,
     "metadata": {},
     "output_type": "execute_result"
    }
   ],
   "source": [
    "# define the columns we want to test on, in case we want to use less than the full set\n",
    "\n",
    "test_cols = data.columns\n",
    "\n",
    "print(len(test_cols))\n",
    "print(test_cols)\n",
    "print(data.Class.unique())\n",
    "data.head()"
   ]
  },
  {
   "cell_type": "code",
   "execution_count": 295,
   "id": "infinite-brave",
   "metadata": {
    "ExecuteTime": {
     "end_time": "2021-02-11T19:28:03.792492Z",
     "start_time": "2021-02-11T19:28:03.743741Z"
    }
   },
   "outputs": [],
   "source": [
    "# https://github.com/dmlc/xgboost/blob/master/demo/guide-python/custom_objective.py\n",
    "\n",
    "def recall(preds, dtrain):\n",
    "    labels = dtrain.get_label()\n",
    "    return 'recall',  recall_score(labels, np.round(preds))\n",
    "\n",
    "def precision(preds, dtrain):\n",
    "    labels = dtrain.get_label()\n",
    "    return 'precision',  precision_score(labels, np.round(preds))\n",
    "\n",
    "def roc_auc(preds, dtrain):\n",
    "    labels = dtrain.get_label()\n",
    "    return 'roc_auc',  roc_auc_score(labels, preds)"
   ]
  },
  {
   "cell_type": "code",
   "execution_count": 289,
   "id": "martial-lightning",
   "metadata": {
    "ExecuteTime": {
     "end_time": "2021-02-11T19:15:04.943104Z",
     "start_time": "2021-02-11T19:15:04.610419Z"
    }
   },
   "outputs": [
    {
     "name": "stdout",
     "output_type": "stream",
     "text": [
      "classes 0, 1:  284315 492\n",
      "train, test:  199364 85443\n"
     ]
    }
   ],
   "source": [
    "# Set up the test and train sets\n",
    "\n",
    "np.random.seed(0)\n",
    "\n",
    "n_real = np.sum(data.Class==0) # 200000\n",
    "n_test = np.sum(data.Class==1) # 492\n",
    "train_fraction = 0.7\n",
    "fn_real = int(n_real * train_fraction)\n",
    "fn_test = int(n_test * train_fraction)\n",
    "\n",
    "real_samples = data.loc[ data.Class==0, test_cols].sample(n_real, replace=False).reset_index(drop=True)\n",
    "test_samples = data.loc[ data.Class==1, test_cols].sample(n_test, replace=False).reset_index(drop=True)\n",
    "\n",
    "train_df = pd.concat([real_samples[:fn_real],test_samples[:fn_test]],axis=0,ignore_index=True).reset_index(drop=True)\n",
    "# train_df = pd.concat([real_samples[:fn_test],test_samples[:fn_test]],axis=0,ignore_index=True).reset_index(drop=True)\n",
    "\n",
    "test_df = pd.concat([real_samples[fn_real:],test_samples[fn_test:]],axis=0,ignore_index=True).reset_index(drop=True)\n",
    "print( 'classes 0, 1: ', n_real, n_test )\n",
    "print( 'train, test: ', len(train_df), len(test_df) )\n",
    "\n",
    "X_col = test_df.columns[:-1]\n",
    "y_col = test_df.columns[-1]\n",
    "dtrain = xgb.DMatrix(train_df[X_col], train_df[y_col], feature_names=X_col)\n",
    "dtest = xgb.DMatrix(test_df[X_col], test_df[y_col], feature_names=X_col)"
   ]
  },
  {
   "cell_type": "code",
   "execution_count": 306,
   "id": "matched-india",
   "metadata": {
    "ExecuteTime": {
     "end_time": "2021-02-11T19:42:58.422516Z",
     "start_time": "2021-02-11T19:42:58.334222Z"
    }
   },
   "outputs": [
    {
     "ename": "ValueError",
     "evalue": "Target is multiclass but average='binary'. Please choose another average setting, one of [None, 'micro', 'macro', 'weighted'].",
     "output_type": "error",
     "traceback": [
      "\u001b[0;31m---------------------------------------------------------------------------\u001b[0m",
      "\u001b[0;31mValueError\u001b[0m                                Traceback (most recent call last)",
      "\u001b[0;32m<ipython-input-306-a5ed43cac94c>\u001b[0m in \u001b[0;36m<module>\u001b[0;34m\u001b[0m\n\u001b[1;32m     12\u001b[0m }\n\u001b[1;32m     13\u001b[0m \u001b[0;34m\u001b[0m\u001b[0m\n\u001b[0;32m---> 14\u001b[0;31m xgb_test = xgb.train(xgb_params, dtrain, num_boost_round=100, \n\u001b[0m\u001b[1;32m     15\u001b[0m                      \u001b[0mverbose_eval\u001b[0m\u001b[0;34m=\u001b[0m\u001b[0;32mFalse\u001b[0m\u001b[0;34m,\u001b[0m\u001b[0;34m\u001b[0m\u001b[0;34m\u001b[0m\u001b[0m\n\u001b[1;32m     16\u001b[0m                      \u001b[0mearly_stopping_rounds\u001b[0m\u001b[0;34m=\u001b[0m\u001b[0;36m20\u001b[0m\u001b[0;34m,\u001b[0m\u001b[0;34m\u001b[0m\u001b[0;34m\u001b[0m\u001b[0m\n",
      "\u001b[0;32m~/opt/anaconda3/envs/gans_env/lib/python3.8/site-packages/xgboost/training.py\u001b[0m in \u001b[0;36mtrain\u001b[0;34m(params, dtrain, num_boost_round, evals, obj, feval, maximize, early_stopping_rounds, evals_result, verbose_eval, xgb_model, callbacks)\u001b[0m\n\u001b[1;32m    225\u001b[0m     \u001b[0mBooster\u001b[0m \u001b[0;34m:\u001b[0m \u001b[0ma\u001b[0m \u001b[0mtrained\u001b[0m \u001b[0mbooster\u001b[0m \u001b[0mmodel\u001b[0m\u001b[0;34m\u001b[0m\u001b[0;34m\u001b[0m\u001b[0m\n\u001b[1;32m    226\u001b[0m     \"\"\"\n\u001b[0;32m--> 227\u001b[0;31m     bst = _train_internal(params, dtrain,\n\u001b[0m\u001b[1;32m    228\u001b[0m                           \u001b[0mnum_boost_round\u001b[0m\u001b[0;34m=\u001b[0m\u001b[0mnum_boost_round\u001b[0m\u001b[0;34m,\u001b[0m\u001b[0;34m\u001b[0m\u001b[0;34m\u001b[0m\u001b[0m\n\u001b[1;32m    229\u001b[0m                           \u001b[0mevals\u001b[0m\u001b[0;34m=\u001b[0m\u001b[0mevals\u001b[0m\u001b[0;34m,\u001b[0m\u001b[0;34m\u001b[0m\u001b[0;34m\u001b[0m\u001b[0m\n",
      "\u001b[0;32m~/opt/anaconda3/envs/gans_env/lib/python3.8/site-packages/xgboost/training.py\u001b[0m in \u001b[0;36m_train_internal\u001b[0;34m(params, dtrain, num_boost_round, evals, obj, feval, xgb_model, callbacks, evals_result, maximize, verbose_eval, early_stopping_rounds)\u001b[0m\n\u001b[1;32m    108\u001b[0m         \u001b[0mnboost\u001b[0m \u001b[0;34m+=\u001b[0m \u001b[0;36m1\u001b[0m\u001b[0;34m\u001b[0m\u001b[0;34m\u001b[0m\u001b[0m\n\u001b[1;32m    109\u001b[0m         \u001b[0;31m# check evaluation result.\u001b[0m\u001b[0;34m\u001b[0m\u001b[0;34m\u001b[0m\u001b[0;34m\u001b[0m\u001b[0m\n\u001b[0;32m--> 110\u001b[0;31m         \u001b[0;32mif\u001b[0m \u001b[0mcallbacks\u001b[0m\u001b[0;34m.\u001b[0m\u001b[0mafter_iteration\u001b[0m\u001b[0;34m(\u001b[0m\u001b[0mbst\u001b[0m\u001b[0;34m,\u001b[0m \u001b[0mi\u001b[0m\u001b[0;34m,\u001b[0m \u001b[0mdtrain\u001b[0m\u001b[0;34m,\u001b[0m \u001b[0mevals\u001b[0m\u001b[0;34m)\u001b[0m\u001b[0;34m:\u001b[0m\u001b[0;34m\u001b[0m\u001b[0;34m\u001b[0m\u001b[0m\n\u001b[0m\u001b[1;32m    111\u001b[0m             \u001b[0;32mbreak\u001b[0m\u001b[0;34m\u001b[0m\u001b[0;34m\u001b[0m\u001b[0m\n\u001b[1;32m    112\u001b[0m         \u001b[0;31m# do checkpoint after evaluation, in case evaluation also updates\u001b[0m\u001b[0;34m\u001b[0m\u001b[0;34m\u001b[0m\u001b[0;34m\u001b[0m\u001b[0m\n",
      "\u001b[0;32m~/opt/anaconda3/envs/gans_env/lib/python3.8/site-packages/xgboost/callback.py\u001b[0m in \u001b[0;36mafter_iteration\u001b[0;34m(self, model, epoch, dtrain, evals)\u001b[0m\n\u001b[1;32m    421\u001b[0m             \u001b[0;32mfor\u001b[0m \u001b[0m_\u001b[0m\u001b[0;34m,\u001b[0m \u001b[0mname\u001b[0m \u001b[0;32min\u001b[0m \u001b[0mevals\u001b[0m\u001b[0;34m:\u001b[0m\u001b[0;34m\u001b[0m\u001b[0;34m\u001b[0m\u001b[0m\n\u001b[1;32m    422\u001b[0m                 \u001b[0;32massert\u001b[0m \u001b[0mname\u001b[0m\u001b[0;34m.\u001b[0m\u001b[0mfind\u001b[0m\u001b[0;34m(\u001b[0m\u001b[0;34m'-'\u001b[0m\u001b[0;34m)\u001b[0m \u001b[0;34m==\u001b[0m \u001b[0;34m-\u001b[0m\u001b[0;36m1\u001b[0m\u001b[0;34m,\u001b[0m \u001b[0;34m'Dataset name should not contain `-`'\u001b[0m\u001b[0;34m\u001b[0m\u001b[0;34m\u001b[0m\u001b[0m\n\u001b[0;32m--> 423\u001b[0;31m             \u001b[0mscore\u001b[0m \u001b[0;34m=\u001b[0m \u001b[0mmodel\u001b[0m\u001b[0;34m.\u001b[0m\u001b[0meval_set\u001b[0m\u001b[0;34m(\u001b[0m\u001b[0mevals\u001b[0m\u001b[0;34m,\u001b[0m \u001b[0mepoch\u001b[0m\u001b[0;34m,\u001b[0m \u001b[0mself\u001b[0m\u001b[0;34m.\u001b[0m\u001b[0mmetric\u001b[0m\u001b[0;34m)\u001b[0m\u001b[0;34m\u001b[0m\u001b[0;34m\u001b[0m\u001b[0m\n\u001b[0m\u001b[1;32m    424\u001b[0m             \u001b[0mscore\u001b[0m \u001b[0;34m=\u001b[0m \u001b[0mscore\u001b[0m\u001b[0;34m.\u001b[0m\u001b[0msplit\u001b[0m\u001b[0;34m(\u001b[0m\u001b[0;34m)\u001b[0m\u001b[0;34m[\u001b[0m\u001b[0;36m1\u001b[0m\u001b[0;34m:\u001b[0m\u001b[0;34m]\u001b[0m  \u001b[0;31m# into datasets\u001b[0m\u001b[0;34m\u001b[0m\u001b[0;34m\u001b[0m\u001b[0m\n\u001b[1;32m    425\u001b[0m             \u001b[0;31m# split up `test-error:0.1234`\u001b[0m\u001b[0;34m\u001b[0m\u001b[0;34m\u001b[0m\u001b[0;34m\u001b[0m\u001b[0m\n",
      "\u001b[0;32m~/opt/anaconda3/envs/gans_env/lib/python3.8/site-packages/xgboost/core.py\u001b[0m in \u001b[0;36meval_set\u001b[0;34m(self, evals, iteration, feval)\u001b[0m\n\u001b[1;32m   1350\u001b[0m         \u001b[0;32mif\u001b[0m \u001b[0mfeval\u001b[0m \u001b[0;32mis\u001b[0m \u001b[0;32mnot\u001b[0m \u001b[0;32mNone\u001b[0m\u001b[0;34m:\u001b[0m\u001b[0;34m\u001b[0m\u001b[0;34m\u001b[0m\u001b[0m\n\u001b[1;32m   1351\u001b[0m             \u001b[0;32mfor\u001b[0m \u001b[0mdmat\u001b[0m\u001b[0;34m,\u001b[0m \u001b[0mevname\u001b[0m \u001b[0;32min\u001b[0m \u001b[0mevals\u001b[0m\u001b[0;34m:\u001b[0m\u001b[0;34m\u001b[0m\u001b[0;34m\u001b[0m\u001b[0m\n\u001b[0;32m-> 1352\u001b[0;31m                 feval_ret = feval(self.predict(dmat, training=False,\n\u001b[0m\u001b[1;32m   1353\u001b[0m                                                output_margin=True), dmat)\n\u001b[1;32m   1354\u001b[0m                 \u001b[0;32mif\u001b[0m \u001b[0misinstance\u001b[0m\u001b[0;34m(\u001b[0m\u001b[0mfeval_ret\u001b[0m\u001b[0;34m,\u001b[0m \u001b[0mlist\u001b[0m\u001b[0;34m)\u001b[0m\u001b[0;34m:\u001b[0m\u001b[0;34m\u001b[0m\u001b[0;34m\u001b[0m\u001b[0m\n",
      "\u001b[0;32m<ipython-input-295-9e7ac31f7006>\u001b[0m in \u001b[0;36mrecall\u001b[0;34m(preds, dtrain)\u001b[0m\n\u001b[1;32m      3\u001b[0m \u001b[0;32mdef\u001b[0m \u001b[0mrecall\u001b[0m\u001b[0;34m(\u001b[0m\u001b[0mpreds\u001b[0m\u001b[0;34m,\u001b[0m \u001b[0mdtrain\u001b[0m\u001b[0;34m)\u001b[0m\u001b[0;34m:\u001b[0m\u001b[0;34m\u001b[0m\u001b[0;34m\u001b[0m\u001b[0m\n\u001b[1;32m      4\u001b[0m     \u001b[0mlabels\u001b[0m \u001b[0;34m=\u001b[0m \u001b[0mdtrain\u001b[0m\u001b[0;34m.\u001b[0m\u001b[0mget_label\u001b[0m\u001b[0;34m(\u001b[0m\u001b[0;34m)\u001b[0m\u001b[0;34m\u001b[0m\u001b[0;34m\u001b[0m\u001b[0m\n\u001b[0;32m----> 5\u001b[0;31m     \u001b[0;32mreturn\u001b[0m \u001b[0;34m'recall'\u001b[0m\u001b[0;34m,\u001b[0m  \u001b[0mrecall_score\u001b[0m\u001b[0;34m(\u001b[0m\u001b[0mlabels\u001b[0m\u001b[0;34m,\u001b[0m \u001b[0mnp\u001b[0m\u001b[0;34m.\u001b[0m\u001b[0mround\u001b[0m\u001b[0;34m(\u001b[0m\u001b[0mpreds\u001b[0m\u001b[0;34m)\u001b[0m\u001b[0;34m)\u001b[0m\u001b[0;34m\u001b[0m\u001b[0;34m\u001b[0m\u001b[0m\n\u001b[0m\u001b[1;32m      6\u001b[0m \u001b[0;34m\u001b[0m\u001b[0m\n\u001b[1;32m      7\u001b[0m \u001b[0;32mdef\u001b[0m \u001b[0mprecision\u001b[0m\u001b[0;34m(\u001b[0m\u001b[0mpreds\u001b[0m\u001b[0;34m,\u001b[0m \u001b[0mdtrain\u001b[0m\u001b[0;34m)\u001b[0m\u001b[0;34m:\u001b[0m\u001b[0;34m\u001b[0m\u001b[0;34m\u001b[0m\u001b[0m\n",
      "\u001b[0;32m~/opt/anaconda3/envs/gans_env/lib/python3.8/site-packages/sklearn/metrics/_classification.py\u001b[0m in \u001b[0;36mrecall_score\u001b[0;34m(y_true, y_pred, labels, pos_label, average, sample_weight, zero_division)\u001b[0m\n\u001b[1;32m   1781\u001b[0m     \u001b[0;31m`\u001b[0m\u001b[0;31m`\u001b[0m\u001b[0mzero_division\u001b[0m\u001b[0;31m`\u001b[0m\u001b[0;31m`\u001b[0m\u001b[0;34m.\u001b[0m\u001b[0;34m\u001b[0m\u001b[0;34m\u001b[0m\u001b[0m\n\u001b[1;32m   1782\u001b[0m     \"\"\"\n\u001b[0;32m-> 1783\u001b[0;31m     _, r, _, _ = precision_recall_fscore_support(y_true, y_pred,\n\u001b[0m\u001b[1;32m   1784\u001b[0m                                                  \u001b[0mlabels\u001b[0m\u001b[0;34m=\u001b[0m\u001b[0mlabels\u001b[0m\u001b[0;34m,\u001b[0m\u001b[0;34m\u001b[0m\u001b[0;34m\u001b[0m\u001b[0m\n\u001b[1;32m   1785\u001b[0m                                                  \u001b[0mpos_label\u001b[0m\u001b[0;34m=\u001b[0m\u001b[0mpos_label\u001b[0m\u001b[0;34m,\u001b[0m\u001b[0;34m\u001b[0m\u001b[0;34m\u001b[0m\u001b[0m\n",
      "\u001b[0;32m~/opt/anaconda3/envs/gans_env/lib/python3.8/site-packages/sklearn/metrics/_classification.py\u001b[0m in \u001b[0;36mprecision_recall_fscore_support\u001b[0;34m(y_true, y_pred, beta, labels, pos_label, average, warn_for, sample_weight, zero_division)\u001b[0m\n\u001b[1;32m   1481\u001b[0m     \u001b[0;32mif\u001b[0m \u001b[0mbeta\u001b[0m \u001b[0;34m<\u001b[0m \u001b[0;36m0\u001b[0m\u001b[0;34m:\u001b[0m\u001b[0;34m\u001b[0m\u001b[0;34m\u001b[0m\u001b[0m\n\u001b[1;32m   1482\u001b[0m         \u001b[0;32mraise\u001b[0m \u001b[0mValueError\u001b[0m\u001b[0;34m(\u001b[0m\u001b[0;34m\"beta should be >=0 in the F-beta score\"\u001b[0m\u001b[0;34m)\u001b[0m\u001b[0;34m\u001b[0m\u001b[0;34m\u001b[0m\u001b[0m\n\u001b[0;32m-> 1483\u001b[0;31m     labels = _check_set_wise_labels(y_true, y_pred, average, labels,\n\u001b[0m\u001b[1;32m   1484\u001b[0m                                     pos_label)\n\u001b[1;32m   1485\u001b[0m \u001b[0;34m\u001b[0m\u001b[0m\n",
      "\u001b[0;32m~/opt/anaconda3/envs/gans_env/lib/python3.8/site-packages/sklearn/metrics/_classification.py\u001b[0m in \u001b[0;36m_check_set_wise_labels\u001b[0;34m(y_true, y_pred, average, labels, pos_label)\u001b[0m\n\u001b[1;32m   1312\u001b[0m             \u001b[0;32mif\u001b[0m \u001b[0my_type\u001b[0m \u001b[0;34m==\u001b[0m \u001b[0;34m'multiclass'\u001b[0m\u001b[0;34m:\u001b[0m\u001b[0;34m\u001b[0m\u001b[0;34m\u001b[0m\u001b[0m\n\u001b[1;32m   1313\u001b[0m                 \u001b[0maverage_options\u001b[0m\u001b[0;34m.\u001b[0m\u001b[0mremove\u001b[0m\u001b[0;34m(\u001b[0m\u001b[0;34m'samples'\u001b[0m\u001b[0;34m)\u001b[0m\u001b[0;34m\u001b[0m\u001b[0;34m\u001b[0m\u001b[0m\n\u001b[0;32m-> 1314\u001b[0;31m             raise ValueError(\"Target is %s but average='binary'. Please \"\n\u001b[0m\u001b[1;32m   1315\u001b[0m                              \u001b[0;34m\"choose another average setting, one of %r.\"\u001b[0m\u001b[0;34m\u001b[0m\u001b[0;34m\u001b[0m\u001b[0m\n\u001b[1;32m   1316\u001b[0m                              % (y_type, average_options))\n",
      "\u001b[0;31mValueError\u001b[0m: Target is multiclass but average='binary'. Please choose another average setting, one of [None, 'micro', 'macro', 'weighted']."
     ]
    }
   ],
   "source": [
    "# Run the xgboost algorithm, maximize recall on the test set\n",
    "\n",
    "results_dict = {}\n",
    "\n",
    "xgb_params = {\n",
    "#     'max_depth': 4,\n",
    "    'objective': 'binary:logistic',\n",
    "    'random_state': 0,\n",
    "    'eval_metric': 'auc', # auc, error\n",
    "#     'tree_method': 'hist'\n",
    "#     'grow_policy': 'lossguide' # depthwise, lossguide\n",
    "}\n",
    "\n",
    "xgb_test = xgb.train(xgb_params, dtrain, num_boost_round=100, \n",
    "                     verbose_eval=False,\n",
    "                     early_stopping_rounds=20, \n",
    "                     evals=[(dtrain,'train'),(dtest,'test')],\n",
    "                     evals_result = results_dict,              \n",
    "                     feval = recall, maximize=True\n",
    "#                      feval = roc_auc, maximize=True\n",
    "                    )\n",
    "\n",
    "y_pred = xgb_test.predict(dtest, ntree_limit=xgb_test.best_iteration+1)\n",
    "y_true = test_df['Class'].values\n",
    "print( 'best iteration: ', xgb_test.best_iteration )\n",
    "print( recall( y_pred, dtest) )\n",
    "print( precision( y_pred, dtest ) )\n",
    "print( roc_auc( y_pred, dtest) )\n",
    "# print( 'Accuracy: {:.3f}'.format(SimpleAccuracy(y_pred, y_true)) )\n",
    "SimpleMetrics( np.round(y_pred), y_true)"
   ]
  },
  {
   "cell_type": "markdown",
   "id": "prerequisite-ceiling",
   "metadata": {},
   "source": [
    "# GAN Data Synthesizing\n"
   ]
  },
  {
   "cell_type": "code",
   "execution_count": 63,
   "id": "constant-quilt",
   "metadata": {
    "ExecuteTime": {
     "end_time": "2021-02-09T21:26:39.790616Z",
     "start_time": "2021-02-09T21:26:39.427557Z"
    }
   },
   "outputs": [],
   "source": [
    "import tensorflow as tf\n",
    "from tensorflow.keras.layers import Input, Dense, Dropout\n",
    "from tensorflow.keras import Model\n",
    "\n",
    "from tensorflow.keras.optimizers import Adam\n",
    "\n",
    "class GAN():\n",
    "    \n",
    "    def __init__(self, gan_args):\n",
    "        [self.batch_size, lr, self.noise_dim,\n",
    "         self.data_dim, layers_dim] = gan_args\n",
    "\n",
    "        self.generator = Generator(self.batch_size).\\\n",
    "            build_model(input_shape=(self.noise_dim,), dim=layers_dim, data_dim=self.data_dim)\n",
    "\n",
    "        self.discriminator = Discriminator(self.batch_size).\\\n",
    "            build_model(input_shape=(self.data_dim,), dim=layers_dim)\n",
    "\n",
    "        optimizer = Adam(lr, 0.5)\n",
    "\n",
    "        # Build and compile the discriminator\n",
    "        self.discriminator.compile(loss='binary_crossentropy',\n",
    "                                   optimizer=optimizer,\n",
    "                                   metrics=['accuracy'])\n",
    "\n",
    "        # The generator takes noise as input and generates imgs\n",
    "        z = Input(shape=(self.noise_dim,))\n",
    "        record = self.generator(z)\n",
    "\n",
    "        # For the combined model we will only train the generator\n",
    "        self.discriminator.trainable = False\n",
    "\n",
    "        # The discriminator takes generated images as input and determines validity\n",
    "        validity = self.discriminator(record)\n",
    "\n",
    "        # The combined model  (stacked generator and discriminator)\n",
    "        # Trains the generator to fool the discriminator\n",
    "        self.combined = Model(z, validity)\n",
    "        self.combined.compile(loss='binary_crossentropy', optimizer=optimizer)\n",
    "\n",
    "    def get_data_batch(self, train, batch_size, seed=0):\n",
    "        # # random sampling - some samples will have excessively low or high sampling, but easy to implement\n",
    "        # np.random.seed(seed)\n",
    "        # x = train.loc[ np.random.choice(train.index, batch_size) ].values\n",
    "        # iterate through shuffled indices, so every sample gets covered evenly\n",
    "\n",
    "        start_i = (batch_size * seed) % len(train)\n",
    "        stop_i = start_i + batch_size\n",
    "        shuffle_seed = (batch_size * seed) // len(train)\n",
    "        np.random.seed(shuffle_seed)\n",
    "        train_ix = np.random.choice(list(train.index), replace=False, size=len(train))  # wasteful to shuffle every time\n",
    "        train_ix = list(train_ix) + list(train_ix)  # duplicate to cover ranges past the end of the set\n",
    "        x = train.loc[train_ix[start_i: stop_i]].values\n",
    "        return np.reshape(x, (batch_size, -1))\n",
    "        \n",
    "    def train(self, data, train_arguments):\n",
    "        [cache_prefix, epochs, sample_interval] = train_arguments\n",
    "        \n",
    "        data_cols = data.columns\n",
    "\n",
    "        # Adversarial ground truths\n",
    "        valid = np.ones((self.batch_size, 1))\n",
    "        fake = np.zeros((self.batch_size, 1))\n",
    "\n",
    "        for epoch in range(epochs):    \n",
    "            # ---------------------\n",
    "            #  Train Discriminator\n",
    "            # ---------------------\n",
    "            batch_data = self.get_data_batch(data, self.batch_size)\n",
    "            noise = tf.random.normal((self.batch_size, self.noise_dim))\n",
    "\n",
    "            # Generate a batch of new images\n",
    "            gen_data = self.generator.predict(noise)\n",
    "    \n",
    "            # Train the discriminator\n",
    "            d_loss_real = self.discriminator.train_on_batch(batch_data, valid)\n",
    "            d_loss_fake = self.discriminator.train_on_batch(gen_data, fake)\n",
    "            d_loss = 0.5 * np.add(d_loss_real, d_loss_fake)\n",
    "    \n",
    "            # ---------------------\n",
    "            #  Train Generator\n",
    "            # ---------------------\n",
    "            noise = tf.random.normal((self.batch_size, self.noise_dim))\n",
    "            # Train the generator (to have the discriminator label samples as valid)\n",
    "            g_loss = self.combined.train_on_batch(noise, valid)\n",
    "    \n",
    "            # Plot the progress\n",
    "            print(\"%d [D loss: %f, acc.: %.2f%%] [G loss: %f]\" % (epoch, d_loss[0], 100 * d_loss[1], g_loss))\n",
    "    \n",
    "            # If at save interval => save generated events\n",
    "            if epoch % sample_interval == 0:\n",
    "                #Test here data generation step\n",
    "                # save model checkpoints\n",
    "                model_checkpoint_base_name = '../models' + cache_prefix + '_{}_model_weights_step_{}.h5'\n",
    "                self.generator.save_weights(model_checkpoint_base_name.format('generator', epoch))\n",
    "                self.discriminator.save_weights(model_checkpoint_base_name.format('discriminator', epoch))\n",
    "\n",
    "                #Here is generating the data\n",
    "                z = tf.random.normal((432, self.noise_dim))\n",
    "                gen_data = self.generator(z)\n",
    "                print('generated_data')\n",
    "\n",
    "    def save(self, path, name):\n",
    "        assert os.path.isdir(path) == True, \\\n",
    "            \"Please provide a valid path. Path must be a directory.\"\n",
    "        model_path = os.path.join(path, name)\n",
    "        self.generator.save_weights(model_path)  # Load the generator\n",
    "        return\n",
    "    \n",
    "    def load(self, path):\n",
    "        assert os.path.isdir(path) == True, \\\n",
    "            \"Please provide a valid path. Path must be a directory.\"\n",
    "        self.generator = Generator(self.batch_size)\n",
    "        self.generator = self.generator.load_weights(path)\n",
    "        return self.generator\n",
    "    \n",
    "class Generator():\n",
    "    def __init__(self, batch_size):\n",
    "        self.batch_size=batch_size\n",
    "        \n",
    "    def build_model(self, input_shape, dim, data_dim):\n",
    "        input= Input(shape=input_shape, batch_size=self.batch_size)\n",
    "        x = Dense(dim, activation='relu')(input)\n",
    "        x = Dense(dim * 2, activation='relu')(x)\n",
    "        x = Dense(dim * 4, activation='relu')(x)\n",
    "        x = Dense(data_dim)(x)\n",
    "        return Model(inputs=input, outputs=x)\n",
    "\n",
    "class Discriminator():\n",
    "    def __init__(self,batch_size):\n",
    "        self.batch_size=batch_size\n",
    "    \n",
    "    def build_model(self, input_shape, dim):\n",
    "        input = Input(shape=input_shape, batch_size=self.batch_size)\n",
    "        x = Dense(dim * 4, activation='relu')(input)\n",
    "        x = Dropout(0.1)(x)\n",
    "        x = Dense(dim * 2, activation='relu')(x)\n",
    "        x = Dropout(0.1)(x)\n",
    "        x = Dense(dim, activation='relu')(x)\n",
    "        x = Dense(1, activation='sigmoid')(x)\n",
    "        return Model(inputs=input, outputs=x)"
   ]
  },
  {
   "cell_type": "markdown",
   "id": "incorporated-formula",
   "metadata": {},
   "source": [
    "## Credit data"
   ]
  },
  {
   "cell_type": "code",
   "execution_count": 64,
   "id": "wrong-swedish",
   "metadata": {
    "ExecuteTime": {
     "end_time": "2021-02-09T21:27:08.799121Z",
     "start_time": "2021-02-09T21:27:08.586218Z"
    }
   },
   "outputs": [],
   "source": [
    "#Define the GAN and training parameters\n",
    "train_data = credit_processed\n",
    "noise_dim = 32\n",
    "dim = 128\n",
    "batch_size = 128\n",
    "\n",
    "log_step = 100\n",
    "epochs = 200+1\n",
    "learning_rate = 5e-4\n",
    "beta_1 = 0.5\n",
    "beta_2 = 0.9\n",
    "models_dir = '../models'\n",
    "\n",
    "train_sample = train_data.copy().reset_index(drop=True)\n",
    "train_sample = pd.get_dummies(train_sample, columns=['Class'], prefix='Class', drop_first=True)\n",
    "label_cols = [ i for i in train_sample.columns if 'Class' in i ]\n",
    "data_cols = [ i for i in train_sample.columns if i not in label_cols ]\n",
    "train_sample[ data_cols ] = train_sample[ data_cols ] / 10 # scale to random noise size, one less thing to learn\n",
    "train_no_label = train_sample[ data_cols ]\n",
    "\n",
    "gan_args = [batch_size, learning_rate, beta_1, beta_2, noise_dim, train_sample.shape[1], dim]\n",
    "train_args = ['', epochs, log_step]"
   ]
  },
  {
   "cell_type": "code",
   "execution_count": 65,
   "id": "earlier-general",
   "metadata": {
    "ExecuteTime": {
     "end_time": "2021-02-09T21:27:31.778557Z",
     "start_time": "2021-02-09T21:27:10.409553Z"
    }
   },
   "outputs": [
    {
     "name": "stdout",
     "output_type": "stream",
     "text": [
      "0 [D loss: 0.722783, acc.: 42.19%] [G loss: 0.660949]\n",
      "generated_data\n",
      "1 [D loss: 0.707327, acc.: 50.00%] [G loss: 0.692486]\n",
      "2 [D loss: 0.690700, acc.: 59.77%] [G loss: 0.731108]\n",
      "3 [D loss: 0.679712, acc.: 79.30%] [G loss: 0.759216]\n",
      "4 [D loss: 0.680321, acc.: 75.39%] [G loss: 0.762747]\n",
      "5 [D loss: 0.691376, acc.: 58.98%] [G loss: 0.751459]\n",
      "6 [D loss: 0.702637, acc.: 48.83%] [G loss: 0.738473]\n",
      "7 [D loss: 0.711071, acc.: 41.41%] [G loss: 0.735447]\n",
      "8 [D loss: 0.709876, acc.: 37.11%] [G loss: 0.739019]\n",
      "9 [D loss: 0.706704, acc.: 42.19%] [G loss: 0.775413]\n",
      "10 [D loss: 0.686106, acc.: 55.08%] [G loss: 0.813722]\n",
      "11 [D loss: 0.667987, acc.: 67.58%] [G loss: 0.853355]\n",
      "12 [D loss: 0.658877, acc.: 72.27%] [G loss: 0.884241]\n",
      "13 [D loss: 0.653484, acc.: 67.58%] [G loss: 0.889105]\n",
      "14 [D loss: 0.647472, acc.: 66.41%] [G loss: 0.889278]\n",
      "15 [D loss: 0.648138, acc.: 64.45%] [G loss: 0.892895]\n",
      "16 [D loss: 0.648285, acc.: 63.67%] [G loss: 0.892259]\n",
      "17 [D loss: 0.647820, acc.: 62.89%] [G loss: 0.873692]\n",
      "18 [D loss: 0.654465, acc.: 63.67%] [G loss: 0.852591]\n",
      "19 [D loss: 0.671187, acc.: 64.06%] [G loss: 0.826273]\n",
      "20 [D loss: 0.682415, acc.: 57.81%] [G loss: 0.793861]\n",
      "21 [D loss: 0.685693, acc.: 55.08%] [G loss: 0.782011]\n",
      "22 [D loss: 0.687242, acc.: 55.08%] [G loss: 0.774789]\n",
      "23 [D loss: 0.686095, acc.: 55.86%] [G loss: 0.777138]\n",
      "24 [D loss: 0.687062, acc.: 57.03%] [G loss: 0.775046]\n",
      "25 [D loss: 0.687716, acc.: 56.25%] [G loss: 0.764156]\n",
      "26 [D loss: 0.690624, acc.: 55.47%] [G loss: 0.762548]\n",
      "27 [D loss: 0.691977, acc.: 57.03%] [G loss: 0.749231]\n",
      "28 [D loss: 0.696690, acc.: 51.95%] [G loss: 0.741203]\n",
      "29 [D loss: 0.694332, acc.: 54.30%] [G loss: 0.740318]\n",
      "30 [D loss: 0.696543, acc.: 52.34%] [G loss: 0.741170]\n",
      "31 [D loss: 0.695986, acc.: 56.64%] [G loss: 0.739246]\n",
      "32 [D loss: 0.692479, acc.: 57.03%] [G loss: 0.740884]\n",
      "33 [D loss: 0.693061, acc.: 54.69%] [G loss: 0.739702]\n",
      "34 [D loss: 0.694165, acc.: 54.30%] [G loss: 0.733045]\n",
      "35 [D loss: 0.696433, acc.: 48.44%] [G loss: 0.721526]\n",
      "36 [D loss: 0.698136, acc.: 48.44%] [G loss: 0.715972]\n",
      "37 [D loss: 0.701353, acc.: 36.72%] [G loss: 0.705374]\n",
      "38 [D loss: 0.700168, acc.: 40.62%] [G loss: 0.702383]\n",
      "39 [D loss: 0.699031, acc.: 37.89%] [G loss: 0.700279]\n",
      "40 [D loss: 0.696850, acc.: 39.45%] [G loss: 0.701930]\n",
      "41 [D loss: 0.695683, acc.: 41.41%] [G loss: 0.699960]\n",
      "42 [D loss: 0.693773, acc.: 47.27%] [G loss: 0.700301]\n",
      "43 [D loss: 0.692867, acc.: 48.05%] [G loss: 0.699499]\n",
      "44 [D loss: 0.694147, acc.: 43.75%] [G loss: 0.693160]\n",
      "45 [D loss: 0.695014, acc.: 44.14%] [G loss: 0.687779]\n",
      "46 [D loss: 0.693800, acc.: 46.09%] [G loss: 0.684141]\n",
      "47 [D loss: 0.695236, acc.: 44.14%] [G loss: 0.680238]\n",
      "48 [D loss: 0.695443, acc.: 46.48%] [G loss: 0.676976]\n",
      "49 [D loss: 0.696568, acc.: 46.88%] [G loss: 0.673667]\n",
      "50 [D loss: 0.694866, acc.: 48.44%] [G loss: 0.680012]\n",
      "51 [D loss: 0.691553, acc.: 49.22%] [G loss: 0.684023]\n",
      "52 [D loss: 0.686267, acc.: 50.78%] [G loss: 0.692397]\n",
      "53 [D loss: 0.681370, acc.: 50.78%] [G loss: 0.699788]\n",
      "54 [D loss: 0.679742, acc.: 57.42%] [G loss: 0.695790]\n",
      "55 [D loss: 0.683514, acc.: 49.22%] [G loss: 0.688395]\n",
      "56 [D loss: 0.687460, acc.: 46.88%] [G loss: 0.672762]\n",
      "57 [D loss: 0.693989, acc.: 46.88%] [G loss: 0.653988]\n",
      "58 [D loss: 0.703534, acc.: 47.66%] [G loss: 0.644837]\n",
      "59 [D loss: 0.706021, acc.: 47.27%] [G loss: 0.642864]\n",
      "60 [D loss: 0.702794, acc.: 48.83%] [G loss: 0.655822]\n",
      "61 [D loss: 0.698044, acc.: 49.22%] [G loss: 0.677470]\n",
      "62 [D loss: 0.684924, acc.: 49.61%] [G loss: 0.707483]\n",
      "63 [D loss: 0.672446, acc.: 64.06%] [G loss: 0.735807]\n",
      "64 [D loss: 0.668163, acc.: 75.39%] [G loss: 0.747174]\n",
      "65 [D loss: 0.663276, acc.: 77.34%] [G loss: 0.749351]\n",
      "66 [D loss: 0.667302, acc.: 71.09%] [G loss: 0.737839]\n",
      "67 [D loss: 0.671145, acc.: 66.02%] [G loss: 0.732284]\n",
      "68 [D loss: 0.675521, acc.: 58.59%] [G loss: 0.721304]\n",
      "69 [D loss: 0.678813, acc.: 55.47%] [G loss: 0.709460]\n",
      "70 [D loss: 0.684478, acc.: 50.39%] [G loss: 0.705813]\n",
      "71 [D loss: 0.691719, acc.: 49.61%] [G loss: 0.707155]\n",
      "72 [D loss: 0.686892, acc.: 50.00%] [G loss: 0.702630]\n",
      "73 [D loss: 0.689564, acc.: 47.66%] [G loss: 0.699781]\n",
      "74 [D loss: 0.696734, acc.: 47.27%] [G loss: 0.686876]\n",
      "75 [D loss: 0.700320, acc.: 45.70%] [G loss: 0.679320]\n",
      "76 [D loss: 0.694387, acc.: 45.70%] [G loss: 0.690354]\n",
      "77 [D loss: 0.691316, acc.: 48.83%] [G loss: 0.703724]\n",
      "78 [D loss: 0.684370, acc.: 52.34%] [G loss: 0.722916]\n",
      "79 [D loss: 0.677741, acc.: 57.03%] [G loss: 0.731829]\n",
      "80 [D loss: 0.676190, acc.: 58.59%] [G loss: 0.735505]\n",
      "81 [D loss: 0.675219, acc.: 56.25%] [G loss: 0.742533]\n",
      "82 [D loss: 0.673577, acc.: 58.59%] [G loss: 0.742848]\n",
      "83 [D loss: 0.665377, acc.: 66.80%] [G loss: 0.748885]\n",
      "84 [D loss: 0.664297, acc.: 65.23%] [G loss: 0.745661]\n",
      "85 [D loss: 0.660859, acc.: 67.97%] [G loss: 0.763223]\n",
      "86 [D loss: 0.660241, acc.: 65.23%] [G loss: 0.758207]\n",
      "87 [D loss: 0.661686, acc.: 64.45%] [G loss: 0.744172]\n",
      "88 [D loss: 0.674063, acc.: 55.08%] [G loss: 0.711975]\n",
      "89 [D loss: 0.683912, acc.: 44.53%] [G loss: 0.684567]\n",
      "90 [D loss: 0.693035, acc.: 44.53%] [G loss: 0.674806]\n",
      "91 [D loss: 0.704898, acc.: 44.53%] [G loss: 0.661353]\n",
      "92 [D loss: 0.706057, acc.: 45.31%] [G loss: 0.672365]\n",
      "93 [D loss: 0.691946, acc.: 47.66%] [G loss: 0.694680]\n",
      "94 [D loss: 0.685183, acc.: 51.56%] [G loss: 0.725696]\n",
      "95 [D loss: 0.667208, acc.: 66.41%] [G loss: 0.756693]\n",
      "96 [D loss: 0.648780, acc.: 81.64%] [G loss: 0.785636]\n",
      "97 [D loss: 0.645231, acc.: 79.69%] [G loss: 0.783140]\n",
      "98 [D loss: 0.647475, acc.: 76.17%] [G loss: 0.784463]\n",
      "99 [D loss: 0.656865, acc.: 68.75%] [G loss: 0.750787]\n",
      "100 [D loss: 0.659068, acc.: 63.28%] [G loss: 0.726037]\n",
      "generated_data\n",
      "101 [D loss: 0.668515, acc.: 51.17%] [G loss: 0.718622]\n",
      "102 [D loss: 0.667342, acc.: 55.86%] [G loss: 0.728120]\n",
      "103 [D loss: 0.654139, acc.: 66.41%] [G loss: 0.731210]\n",
      "104 [D loss: 0.645107, acc.: 71.48%] [G loss: 0.753443]\n",
      "105 [D loss: 0.642978, acc.: 72.66%] [G loss: 0.772019]\n",
      "106 [D loss: 0.646208, acc.: 68.75%] [G loss: 0.765649]\n",
      "107 [D loss: 0.651666, acc.: 64.84%] [G loss: 0.743536]\n",
      "108 [D loss: 0.666001, acc.: 53.52%] [G loss: 0.721701]\n",
      "109 [D loss: 0.676576, acc.: 47.66%] [G loss: 0.703924]\n",
      "110 [D loss: 0.686152, acc.: 46.09%] [G loss: 0.689542]\n",
      "111 [D loss: 0.691842, acc.: 43.75%] [G loss: 0.678231]\n",
      "112 [D loss: 0.693899, acc.: 41.02%] [G loss: 0.687890]\n",
      "113 [D loss: 0.678676, acc.: 47.66%] [G loss: 0.712895]\n",
      "114 [D loss: 0.673334, acc.: 53.12%] [G loss: 0.737241]\n",
      "115 [D loss: 0.664229, acc.: 58.20%] [G loss: 0.751371]\n",
      "116 [D loss: 0.659830, acc.: 61.33%] [G loss: 0.744375]\n",
      "117 [D loss: 0.673902, acc.: 53.91%] [G loss: 0.708715]\n",
      "118 [D loss: 0.686670, acc.: 50.39%] [G loss: 0.684138]\n",
      "119 [D loss: 0.702856, acc.: 44.92%] [G loss: 0.664400]\n",
      "120 [D loss: 0.710512, acc.: 40.23%] [G loss: 0.655563]\n",
      "121 [D loss: 0.722633, acc.: 40.23%] [G loss: 0.643796]\n",
      "122 [D loss: 0.725263, acc.: 44.53%] [G loss: 0.638214]\n",
      "123 [D loss: 0.729845, acc.: 38.67%] [G loss: 0.645606]\n",
      "124 [D loss: 0.720886, acc.: 39.06%] [G loss: 0.658111]\n",
      "125 [D loss: 0.706480, acc.: 42.58%] [G loss: 0.676903]\n",
      "126 [D loss: 0.690179, acc.: 47.66%] [G loss: 0.723073]\n",
      "127 [D loss: 0.661192, acc.: 62.11%] [G loss: 0.774467]\n",
      "128 [D loss: 0.645113, acc.: 71.48%] [G loss: 0.814853]\n",
      "129 [D loss: 0.628262, acc.: 80.08%] [G loss: 0.856812]\n",
      "130 [D loss: 0.620418, acc.: 78.91%] [G loss: 0.864113]\n",
      "131 [D loss: 0.610755, acc.: 81.64%] [G loss: 0.866532]\n",
      "132 [D loss: 0.625521, acc.: 75.78%] [G loss: 0.853761]\n",
      "133 [D loss: 0.630462, acc.: 69.53%] [G loss: 0.806125]\n",
      "134 [D loss: 0.652362, acc.: 62.50%] [G loss: 0.767726]\n",
      "135 [D loss: 0.663333, acc.: 56.64%] [G loss: 0.732565]\n",
      "136 [D loss: 0.705782, acc.: 53.12%] [G loss: 0.704036]\n",
      "137 [D loss: 0.720940, acc.: 45.70%] [G loss: 0.689133]\n",
      "138 [D loss: 0.716258, acc.: 48.05%] [G loss: 0.675705]\n",
      "139 [D loss: 0.717773, acc.: 44.92%] [G loss: 0.678289]\n",
      "140 [D loss: 0.715827, acc.: 50.39%] [G loss: 0.706813]\n",
      "141 [D loss: 0.706943, acc.: 50.39%] [G loss: 0.746925]\n",
      "142 [D loss: 0.666712, acc.: 62.11%] [G loss: 0.791275]\n",
      "143 [D loss: 0.649074, acc.: 74.22%] [G loss: 0.873347]\n",
      "144 [D loss: 0.619892, acc.: 87.11%] [G loss: 0.970101]\n",
      "145 [D loss: 0.588055, acc.: 88.67%] [G loss: 1.022318]\n",
      "146 [D loss: 0.581364, acc.: 90.23%] [G loss: 1.023958]\n",
      "147 [D loss: 0.583489, acc.: 89.45%] [G loss: 1.003504]\n"
     ]
    },
    {
     "name": "stdout",
     "output_type": "stream",
     "text": [
      "148 [D loss: 0.602872, acc.: 84.77%] [G loss: 0.956921]\n",
      "149 [D loss: 0.626976, acc.: 76.95%] [G loss: 0.880357]\n",
      "150 [D loss: 0.661945, acc.: 62.89%] [G loss: 0.788125]\n",
      "151 [D loss: 0.692632, acc.: 54.69%] [G loss: 0.755443]\n",
      "152 [D loss: 0.702905, acc.: 48.83%] [G loss: 0.718254]\n",
      "153 [D loss: 0.696723, acc.: 49.22%] [G loss: 0.719269]\n",
      "154 [D loss: 0.686611, acc.: 53.52%] [G loss: 0.736606]\n",
      "155 [D loss: 0.674745, acc.: 55.08%] [G loss: 0.774919]\n",
      "156 [D loss: 0.649860, acc.: 68.75%] [G loss: 0.821329]\n",
      "157 [D loss: 0.637798, acc.: 75.00%] [G loss: 0.834874]\n",
      "158 [D loss: 0.634523, acc.: 77.73%] [G loss: 0.857834]\n",
      "159 [D loss: 0.633339, acc.: 79.69%] [G loss: 0.852964]\n",
      "160 [D loss: 0.635470, acc.: 74.22%] [G loss: 0.844177]\n",
      "161 [D loss: 0.650946, acc.: 68.36%] [G loss: 0.818777]\n",
      "162 [D loss: 0.673421, acc.: 58.98%] [G loss: 0.739530]\n",
      "163 [D loss: 0.693789, acc.: 53.91%] [G loss: 0.703002]\n",
      "164 [D loss: 0.708838, acc.: 46.09%] [G loss: 0.675272]\n",
      "165 [D loss: 0.727895, acc.: 44.92%] [G loss: 0.639185]\n",
      "166 [D loss: 0.730556, acc.: 40.62%] [G loss: 0.639055]\n",
      "167 [D loss: 0.722151, acc.: 43.36%] [G loss: 0.641491]\n",
      "168 [D loss: 0.704615, acc.: 42.97%] [G loss: 0.690125]\n",
      "169 [D loss: 0.674855, acc.: 52.73%] [G loss: 0.710104]\n",
      "170 [D loss: 0.659050, acc.: 63.67%] [G loss: 0.772400]\n",
      "171 [D loss: 0.623415, acc.: 83.59%] [G loss: 0.838915]\n",
      "172 [D loss: 0.607414, acc.: 83.59%] [G loss: 0.872808]\n",
      "173 [D loss: 0.595622, acc.: 85.55%] [G loss: 0.890401]\n",
      "174 [D loss: 0.592750, acc.: 83.20%] [G loss: 0.887697]\n",
      "175 [D loss: 0.598659, acc.: 80.86%] [G loss: 0.867265]\n",
      "176 [D loss: 0.617942, acc.: 76.17%] [G loss: 0.824000]\n",
      "177 [D loss: 0.643457, acc.: 64.45%] [G loss: 0.794202]\n",
      "178 [D loss: 0.664042, acc.: 56.25%] [G loss: 0.731973]\n",
      "179 [D loss: 0.686988, acc.: 52.34%] [G loss: 0.704811]\n",
      "180 [D loss: 0.701606, acc.: 48.05%] [G loss: 0.671179]\n",
      "181 [D loss: 0.724486, acc.: 41.80%] [G loss: 0.657609]\n",
      "182 [D loss: 0.741445, acc.: 38.28%] [G loss: 0.667087]\n",
      "183 [D loss: 0.740941, acc.: 37.11%] [G loss: 0.703191]\n",
      "184 [D loss: 0.726734, acc.: 39.84%] [G loss: 0.703157]\n",
      "185 [D loss: 0.719244, acc.: 39.84%] [G loss: 0.744484]\n",
      "186 [D loss: 0.714062, acc.: 42.97%] [G loss: 0.800805]\n",
      "187 [D loss: 0.695744, acc.: 52.34%] [G loss: 0.821584]\n",
      "188 [D loss: 0.681038, acc.: 54.69%] [G loss: 0.850325]\n",
      "189 [D loss: 0.669423, acc.: 59.38%] [G loss: 0.866538]\n",
      "190 [D loss: 0.672149, acc.: 62.11%] [G loss: 0.881236]\n",
      "191 [D loss: 0.663740, acc.: 65.62%] [G loss: 0.900417]\n",
      "192 [D loss: 0.660890, acc.: 66.80%] [G loss: 0.867731]\n",
      "193 [D loss: 0.664900, acc.: 67.58%] [G loss: 0.854813]\n",
      "194 [D loss: 0.661175, acc.: 71.09%] [G loss: 0.839959]\n",
      "195 [D loss: 0.677111, acc.: 61.33%] [G loss: 0.820126]\n",
      "196 [D loss: 0.672148, acc.: 62.89%] [G loss: 0.806844]\n",
      "197 [D loss: 0.667811, acc.: 61.72%] [G loss: 0.806692]\n",
      "198 [D loss: 0.666671, acc.: 63.28%] [G loss: 0.791679]\n",
      "199 [D loss: 0.669462, acc.: 57.03%] [G loss: 0.796064]\n",
      "200 [D loss: 0.657927, acc.: 63.67%] [G loss: 0.780159]\n",
      "generated_data\n"
     ]
    }
   ],
   "source": [
    "#Training the GAN model chosen: Vanilla GAN, CGAN, DCGAN, etc.\n",
    "model = VanilllaGAN\n",
    "synthesizer = model(gan_args)\n",
    "synthesizer.train(train_sample, train_args)"
   ]
  },
  {
   "cell_type": "code",
   "execution_count": 66,
   "id": "destroyed-dependence",
   "metadata": {
    "ExecuteTime": {
     "end_time": "2021-02-09T21:28:29.426575Z",
     "start_time": "2021-02-09T21:28:29.373883Z"
    }
   },
   "outputs": [
    {
     "name": "stdout",
     "output_type": "stream",
     "text": [
      "Model: \"functional_13\"\n",
      "_________________________________________________________________\n",
      "Layer (type)                 Output Shape              Param #   \n",
      "=================================================================\n",
      "input_7 (InputLayer)         [(128, 32)]               0         \n",
      "_________________________________________________________________\n",
      "dense_16 (Dense)             (128, 128)                4224      \n",
      "_________________________________________________________________\n",
      "dense_17 (Dense)             (128, 256)                33024     \n",
      "_________________________________________________________________\n",
      "dense_18 (Dense)             (128, 512)                131584    \n",
      "_________________________________________________________________\n",
      "dense_19 (Dense)             (128, 30)                 15390     \n",
      "=================================================================\n",
      "Total params: 184,222\n",
      "Trainable params: 184,222\n",
      "Non-trainable params: 0\n",
      "_________________________________________________________________\n"
     ]
    }
   ],
   "source": [
    "#Generator discription\n",
    "synthesizer.generator.summary()"
   ]
  },
  {
   "cell_type": "code",
   "execution_count": 67,
   "id": "bibliographic-stress",
   "metadata": {
    "ExecuteTime": {
     "end_time": "2021-02-09T21:28:30.484562Z",
     "start_time": "2021-02-09T21:28:30.432566Z"
    }
   },
   "outputs": [
    {
     "name": "stdout",
     "output_type": "stream",
     "text": [
      "Model: \"functional_15\"\n",
      "_________________________________________________________________\n",
      "Layer (type)                 Output Shape              Param #   \n",
      "=================================================================\n",
      "input_8 (InputLayer)         [(128, 30)]               0         \n",
      "_________________________________________________________________\n",
      "dense_20 (Dense)             (128, 512)                15872     \n",
      "_________________________________________________________________\n",
      "dropout_4 (Dropout)          (128, 512)                0         \n",
      "_________________________________________________________________\n",
      "dense_21 (Dense)             (128, 256)                131328    \n",
      "_________________________________________________________________\n",
      "dropout_5 (Dropout)          (128, 256)                0         \n",
      "_________________________________________________________________\n",
      "dense_22 (Dense)             (128, 128)                32896     \n",
      "_________________________________________________________________\n",
      "dense_23 (Dense)             (128, 1)                  129       \n",
      "=================================================================\n",
      "Total params: 180,225\n",
      "Trainable params: 0\n",
      "Non-trainable params: 180,225\n",
      "_________________________________________________________________\n"
     ]
    }
   ],
   "source": [
    "#Discriminator description\n",
    "synthesizer.discriminator.summary()"
   ]
  },
  {
   "cell_type": "code",
   "execution_count": 68,
   "id": "expected-sunglasses",
   "metadata": {
    "ExecuteTime": {
     "end_time": "2021-02-09T21:28:50.538002Z",
     "start_time": "2021-02-09T21:28:50.469130Z"
    }
   },
   "outputs": [],
   "source": [
    "#You can easily save the trained generator and loaded it aftwerwards\n",
    "synthesizer.save('../models/gan')"
   ]
  },
  {
   "cell_type": "code",
   "execution_count": 69,
   "id": "lasting-narrow",
   "metadata": {
    "ExecuteTime": {
     "end_time": "2021-02-09T21:28:51.678600Z",
     "start_time": "2021-02-09T21:28:51.626877Z"
    }
   },
   "outputs": [],
   "source": [
    "models = {'GAN': ['GAN', False, synthesizer.generator]}"
   ]
  },
  {
   "cell_type": "markdown",
   "id": "velvet-prime",
   "metadata": {},
   "source": [
    "# Results\n",
    "Show graphs and stats here"
   ]
  },
  {
   "cell_type": "code",
   "execution_count": 76,
   "id": "editorial-archives",
   "metadata": {
    "ExecuteTime": {
     "end_time": "2021-02-09T21:31:36.134556Z",
     "start_time": "2021-02-09T21:31:35.821960Z"
    }
   },
   "outputs": [
    {
     "data": {
      "text/plain": [
       "<matplotlib.collections.PathCollection at 0x7f83b206a3a0>"
      ]
     },
     "execution_count": 76,
     "metadata": {},
     "output_type": "execute_result"
    },
    {
     "data": {
      "text/plain": [
       "<matplotlib.collections.PathCollection at 0x7f83b206a7f0>"
      ]
     },
     "execution_count": 76,
     "metadata": {},
     "output_type": "execute_result"
    },
    {
     "data": {
      "text/plain": [
       "Text(0.5, 1.0, 'Actual Fraud Data')"
      ]
     },
     "execution_count": 76,
     "metadata": {},
     "output_type": "execute_result"
    },
    {
     "data": {
      "text/plain": [
       "Text(0, 0.5, 'V10')"
      ]
     },
     "execution_count": 76,
     "metadata": {},
     "output_type": "execute_result"
    },
    {
     "data": {
      "text/plain": [
       "Text(0.5, 0, 'V17')"
      ]
     },
     "execution_count": 76,
     "metadata": {},
     "output_type": "execute_result"
    },
    {
     "ename": "OSError",
     "evalue": "Unable to open file (unable to open file: name = '../models_generator_model_weights_step_0.h5', errno = 2, error message = 'No such file or directory', flags = 0, o_flags = 0)",
     "output_type": "error",
     "traceback": [
      "\u001b[0;31m---------------------------------------------------------------------------\u001b[0m",
      "\u001b[0;31mOSError\u001b[0m                                   Traceback (most recent call last)",
      "\u001b[0;32m<ipython-input-76-1c5d17f6bd8a>\u001b[0m in \u001b[0;36m<module>\u001b[0;34m\u001b[0m\n\u001b[1;32m     48\u001b[0m         \u001b[0;34m[\u001b[0m\u001b[0mmodel_name\u001b[0m\u001b[0;34m,\u001b[0m \u001b[0mwith_class\u001b[0m\u001b[0;34m,\u001b[0m \u001b[0mgenerator_model\u001b[0m\u001b[0;34m]\u001b[0m \u001b[0;34m=\u001b[0m \u001b[0mmodels\u001b[0m\u001b[0;34m[\u001b[0m\u001b[0mmodel_name\u001b[0m\u001b[0;34m]\u001b[0m\u001b[0;34m\u001b[0m\u001b[0;34m\u001b[0m\u001b[0m\n\u001b[1;32m     49\u001b[0m \u001b[0;34m\u001b[0m\u001b[0m\n\u001b[0;32m---> 50\u001b[0;31m         \u001b[0mgenerator_model\u001b[0m\u001b[0;34m.\u001b[0m\u001b[0mload_weights\u001b[0m\u001b[0;34m(\u001b[0m \u001b[0mbase_dir\u001b[0m \u001b[0;34m+\u001b[0m \u001b[0;34m'_generator_model_weights_step_'\u001b[0m\u001b[0;34m+\u001b[0m\u001b[0mstr\u001b[0m\u001b[0;34m(\u001b[0m\u001b[0mmodel_step\u001b[0m\u001b[0;34m)\u001b[0m\u001b[0;34m+\u001b[0m\u001b[0;34m'.h5'\u001b[0m\u001b[0;34m)\u001b[0m\u001b[0;34m\u001b[0m\u001b[0;34m\u001b[0m\u001b[0m\n\u001b[0m\u001b[1;32m     51\u001b[0m \u001b[0;34m\u001b[0m\u001b[0m\n\u001b[1;32m     52\u001b[0m         \u001b[0max\u001b[0m \u001b[0;34m=\u001b[0m \u001b[0mplt\u001b[0m\u001b[0;34m.\u001b[0m\u001b[0msubplot\u001b[0m\u001b[0;34m(\u001b[0m\u001b[0mrows\u001b[0m\u001b[0;34m,\u001b[0m \u001b[0mcolumns\u001b[0m\u001b[0;34m,\u001b[0m \u001b[0mmodel_step_ix\u001b[0m\u001b[0;34m*\u001b[0m\u001b[0mcolumns\u001b[0m \u001b[0;34m+\u001b[0m \u001b[0;36m1\u001b[0m \u001b[0;34m+\u001b[0m \u001b[0;34m(\u001b[0m\u001b[0mi\u001b[0m\u001b[0;34m+\u001b[0m\u001b[0;36m1\u001b[0m\u001b[0;34m)\u001b[0m \u001b[0;34m)\u001b[0m\u001b[0;34m\u001b[0m\u001b[0;34m\u001b[0m\u001b[0m\n",
      "\u001b[0;32m~/opt/anaconda3/envs/gans_env/lib/python3.8/site-packages/tensorflow/python/keras/engine/training.py\u001b[0m in \u001b[0;36mload_weights\u001b[0;34m(self, filepath, by_name, skip_mismatch, options)\u001b[0m\n\u001b[1;32m   2202\u001b[0m           'first, then load the weights.')\n\u001b[1;32m   2203\u001b[0m     \u001b[0mself\u001b[0m\u001b[0;34m.\u001b[0m\u001b[0m_assert_weights_created\u001b[0m\u001b[0;34m(\u001b[0m\u001b[0;34m)\u001b[0m\u001b[0;34m\u001b[0m\u001b[0;34m\u001b[0m\u001b[0m\n\u001b[0;32m-> 2204\u001b[0;31m     \u001b[0;32mwith\u001b[0m \u001b[0mh5py\u001b[0m\u001b[0;34m.\u001b[0m\u001b[0mFile\u001b[0m\u001b[0;34m(\u001b[0m\u001b[0mfilepath\u001b[0m\u001b[0;34m,\u001b[0m \u001b[0;34m'r'\u001b[0m\u001b[0;34m)\u001b[0m \u001b[0;32mas\u001b[0m \u001b[0mf\u001b[0m\u001b[0;34m:\u001b[0m\u001b[0;34m\u001b[0m\u001b[0;34m\u001b[0m\u001b[0m\n\u001b[0m\u001b[1;32m   2205\u001b[0m       \u001b[0;32mif\u001b[0m \u001b[0;34m'layer_names'\u001b[0m \u001b[0;32mnot\u001b[0m \u001b[0;32min\u001b[0m \u001b[0mf\u001b[0m\u001b[0;34m.\u001b[0m\u001b[0mattrs\u001b[0m \u001b[0;32mand\u001b[0m \u001b[0;34m'model_weights'\u001b[0m \u001b[0;32min\u001b[0m \u001b[0mf\u001b[0m\u001b[0;34m:\u001b[0m\u001b[0;34m\u001b[0m\u001b[0;34m\u001b[0m\u001b[0m\n\u001b[1;32m   2206\u001b[0m         \u001b[0mf\u001b[0m \u001b[0;34m=\u001b[0m \u001b[0mf\u001b[0m\u001b[0;34m[\u001b[0m\u001b[0;34m'model_weights'\u001b[0m\u001b[0;34m]\u001b[0m\u001b[0;34m\u001b[0m\u001b[0;34m\u001b[0m\u001b[0m\n",
      "\u001b[0;32m~/opt/anaconda3/envs/gans_env/lib/python3.8/site-packages/h5py/_hl/files.py\u001b[0m in \u001b[0;36m__init__\u001b[0;34m(self, name, mode, driver, libver, userblock_size, swmr, rdcc_nslots, rdcc_nbytes, rdcc_w0, track_order, **kwds)\u001b[0m\n\u001b[1;32m    404\u001b[0m             \u001b[0;32mwith\u001b[0m \u001b[0mphil\u001b[0m\u001b[0;34m:\u001b[0m\u001b[0;34m\u001b[0m\u001b[0;34m\u001b[0m\u001b[0m\n\u001b[1;32m    405\u001b[0m                 \u001b[0mfapl\u001b[0m \u001b[0;34m=\u001b[0m \u001b[0mmake_fapl\u001b[0m\u001b[0;34m(\u001b[0m\u001b[0mdriver\u001b[0m\u001b[0;34m,\u001b[0m \u001b[0mlibver\u001b[0m\u001b[0;34m,\u001b[0m \u001b[0mrdcc_nslots\u001b[0m\u001b[0;34m,\u001b[0m \u001b[0mrdcc_nbytes\u001b[0m\u001b[0;34m,\u001b[0m \u001b[0mrdcc_w0\u001b[0m\u001b[0;34m,\u001b[0m \u001b[0;34m**\u001b[0m\u001b[0mkwds\u001b[0m\u001b[0;34m)\u001b[0m\u001b[0;34m\u001b[0m\u001b[0;34m\u001b[0m\u001b[0m\n\u001b[0;32m--> 406\u001b[0;31m                 fid = make_fid(name, mode, userblock_size,\n\u001b[0m\u001b[1;32m    407\u001b[0m                                \u001b[0mfapl\u001b[0m\u001b[0;34m,\u001b[0m \u001b[0mfcpl\u001b[0m\u001b[0;34m=\u001b[0m\u001b[0mmake_fcpl\u001b[0m\u001b[0;34m(\u001b[0m\u001b[0mtrack_order\u001b[0m\u001b[0;34m=\u001b[0m\u001b[0mtrack_order\u001b[0m\u001b[0;34m)\u001b[0m\u001b[0;34m,\u001b[0m\u001b[0;34m\u001b[0m\u001b[0;34m\u001b[0m\u001b[0m\n\u001b[1;32m    408\u001b[0m                                swmr=swmr)\n",
      "\u001b[0;32m~/opt/anaconda3/envs/gans_env/lib/python3.8/site-packages/h5py/_hl/files.py\u001b[0m in \u001b[0;36mmake_fid\u001b[0;34m(name, mode, userblock_size, fapl, fcpl, swmr)\u001b[0m\n\u001b[1;32m    171\u001b[0m         \u001b[0;32mif\u001b[0m \u001b[0mswmr\u001b[0m \u001b[0;32mand\u001b[0m \u001b[0mswmr_support\u001b[0m\u001b[0;34m:\u001b[0m\u001b[0;34m\u001b[0m\u001b[0;34m\u001b[0m\u001b[0m\n\u001b[1;32m    172\u001b[0m             \u001b[0mflags\u001b[0m \u001b[0;34m|=\u001b[0m \u001b[0mh5f\u001b[0m\u001b[0;34m.\u001b[0m\u001b[0mACC_SWMR_READ\u001b[0m\u001b[0;34m\u001b[0m\u001b[0;34m\u001b[0m\u001b[0m\n\u001b[0;32m--> 173\u001b[0;31m         \u001b[0mfid\u001b[0m \u001b[0;34m=\u001b[0m \u001b[0mh5f\u001b[0m\u001b[0;34m.\u001b[0m\u001b[0mopen\u001b[0m\u001b[0;34m(\u001b[0m\u001b[0mname\u001b[0m\u001b[0;34m,\u001b[0m \u001b[0mflags\u001b[0m\u001b[0;34m,\u001b[0m \u001b[0mfapl\u001b[0m\u001b[0;34m=\u001b[0m\u001b[0mfapl\u001b[0m\u001b[0;34m)\u001b[0m\u001b[0;34m\u001b[0m\u001b[0;34m\u001b[0m\u001b[0m\n\u001b[0m\u001b[1;32m    174\u001b[0m     \u001b[0;32melif\u001b[0m \u001b[0mmode\u001b[0m \u001b[0;34m==\u001b[0m \u001b[0;34m'r+'\u001b[0m\u001b[0;34m:\u001b[0m\u001b[0;34m\u001b[0m\u001b[0;34m\u001b[0m\u001b[0m\n\u001b[1;32m    175\u001b[0m         \u001b[0mfid\u001b[0m \u001b[0;34m=\u001b[0m \u001b[0mh5f\u001b[0m\u001b[0;34m.\u001b[0m\u001b[0mopen\u001b[0m\u001b[0;34m(\u001b[0m\u001b[0mname\u001b[0m\u001b[0;34m,\u001b[0m \u001b[0mh5f\u001b[0m\u001b[0;34m.\u001b[0m\u001b[0mACC_RDWR\u001b[0m\u001b[0;34m,\u001b[0m \u001b[0mfapl\u001b[0m\u001b[0;34m=\u001b[0m\u001b[0mfapl\u001b[0m\u001b[0;34m)\u001b[0m\u001b[0;34m\u001b[0m\u001b[0;34m\u001b[0m\u001b[0m\n",
      "\u001b[0;32mh5py/_objects.pyx\u001b[0m in \u001b[0;36mh5py._objects.with_phil.wrapper\u001b[0;34m()\u001b[0m\n",
      "\u001b[0;32mh5py/_objects.pyx\u001b[0m in \u001b[0;36mh5py._objects.with_phil.wrapper\u001b[0;34m()\u001b[0m\n",
      "\u001b[0;32mh5py/h5f.pyx\u001b[0m in \u001b[0;36mh5py.h5f.open\u001b[0;34m()\u001b[0m\n",
      "\u001b[0;31mOSError\u001b[0m: Unable to open file (unable to open file: name = '../models_generator_model_weights_step_0.h5', errno = 2, error message = 'No such file or directory', flags = 0, o_flags = 0)"
     ]
    },
    {
     "data": {
      "image/png": "[encoded data removed]",
      "text/plain": [
       "<Figure size 1008x648 with 1 Axes>"
      ]
     },
     "metadata": {
      "needs_background": "light"
     },
     "output_type": "display_data"
    }
   ],
   "source": [
    "# Setup parameters visualization parameters\n",
    "seed = 17\n",
    "test_size = 492 # number of fraud cases\n",
    "noise_dim = 32\n",
    "\n",
    "np.random.seed(seed)\n",
    "z = np.random.normal(size=(test_size, noise_dim))\n",
    "real = synthesizer.get_data_batch(train=train_sample, batch_size=test_size, seed=seed)\n",
    "real_samples = pd.DataFrame(real, columns=data_cols+label_cols)\n",
    "labels = credit_processed['Class']\n",
    "\n",
    "model_names = ['GAN']\n",
    "colors = ['deepskyblue','blue']\n",
    "markers = ['o','^']\n",
    "class_labels = ['Class 1','Class 2']\n",
    "\n",
    "col1, col2 = 'V17', 'V10'\n",
    "\n",
    "base_dir = '../models'\n",
    "\n",
    "#Actual fraud data visualization\n",
    "model_steps = [ 0, 200, 300]\n",
    "rows = len(model_steps)\n",
    "columns = 5\n",
    "\n",
    "axarr = [[]]*len(model_steps)\n",
    "\n",
    "fig = plt.figure(figsize=(14,rows*3))\n",
    "\n",
    "for model_step_ix, model_step in enumerate(model_steps):        \n",
    "    axarr[model_step_ix] = plt.subplot(rows, columns, model_step_ix*columns + 1)\n",
    "    \n",
    "    for group, color, marker, label in zip(real_samples.groupby('Class_1'), colors, markers, class_labels ):\n",
    "        plt.scatter( group[1][[col1]], group[1][[col2]], \n",
    "                         label=label, marker=marker, edgecolors=color, facecolors='none' )\n",
    "    \n",
    "    plt.title('Actual Fraud Data')\n",
    "    plt.ylabel(col2) # Only add y label to left plot\n",
    "    plt.xlabel(col1)\n",
    "    xlims, ylims = axarr[model_step_ix].get_xlim(), axarr[model_step_ix].get_ylim()\n",
    "    \n",
    "    if model_step_ix == 0: \n",
    "        legend = plt.legend()\n",
    "        legend.get_frame().set_facecolor('white')\n",
    "    \n",
    "    for i, model_name in enumerate( model_names[:] ):\n",
    "\n",
    "        [model_name, with_class, generator_model] = models[model_name]\n",
    "\n",
    "        generator_model.load_weights( base_dir + '_generator_model_weights_step_'+str(model_step)+'.h5')\n",
    "\n",
    "        ax = plt.subplot(rows, columns, model_step_ix*columns + 1 + (i+1) )\n",
    "\n",
    "        if with_class:\n",
    "            g_z = generator_model.predict([z, labels])\n",
    "            gen_samples = pd.DataFrame(g_z, columns=data_cols+label_cols)\n",
    "            for group, color, marker, label in zip( gen_samples.groupby('Class_1'), colors, markers, class_labels ):\n",
    "                plt.scatter( group[1][[col1]], group[1][[col2]], \n",
    "                                 label=label, marker=marker, edgecolors=color, facecolors='none' )\n",
    "        else:\n",
    "            g_z = generator_model.predict(z)\n",
    "            gen_samples = pd.DataFrame(g_z, columns=data_cols+['label'])\n",
    "            gen_samples.to_csv(processed_data+'Generated_sample.csv')\n",
    "            plt.scatter( gen_samples[[col1]], gen_samples[[col2]], \n",
    "                             label=class_labels[0], marker=markers[0], edgecolors=colors[0], facecolors='none' )\n",
    "        plt.title(model_name)   \n",
    "        plt.xlabel(data_cols[0])\n",
    "        ax.set_xlim(xlims), ax.set_ylim(ylims)\n",
    "\n",
    "plt.suptitle('Comparison of GAN outputs', size=16, fontweight='bold')\n",
    "plt.tight_layout(rect=[0.075,0,1,0.95])\n",
    "\n",
    "# Adding text labels for traning steps\n",
    "vpositions = np.array([ i._position.bounds[1] for i in axarr ])\n",
    "vpositions += ((vpositions[0] - vpositions[1]) * 0.35 )\n",
    "for model_step_ix, model_step in enumerate( model_steps ):\n",
    "    fig.text( 0.05, vpositions[model_step_ix], 'training\\nstep\\n'+str(model_step), ha='center', va='center', size=12)\n",
    "\n",
    "plt.savefig('Comparison_of_GAN_outputs.png')\n"
   ]
  },
  {
   "cell_type": "code",
   "execution_count": 70,
   "id": "governing-browse",
   "metadata": {
    "ExecuteTime": {
     "end_time": "2021-02-09T21:28:55.760212Z",
     "start_time": "2021-02-09T21:28:55.699947Z"
    }
   },
   "outputs": [
    {
     "ename": "NameError",
     "evalue": "name 'pw' is not defined",
     "output_type": "error",
     "traceback": [
      "\u001b[0;31m---------------------------------------------------------------------------\u001b[0m",
      "\u001b[0;31mNameError\u001b[0m                                 Traceback (most recent call last)",
      "\u001b[0;32m<ipython-input-70-55947da30d73>\u001b[0m in \u001b[0;36m<module>\u001b[0;34m\u001b[0m\n\u001b[0;32m----> 1\u001b[0;31m \u001b[0mg_z\u001b[0m\u001b[0;34m=\u001b[0m\u001b[0mpw\u001b[0m\u001b[0;34m.\u001b[0m\u001b[0minverse_transform\u001b[0m\u001b[0;34m(\u001b[0m\u001b[0mg_z\u001b[0m\u001b[0;34m)\u001b[0m\u001b[0;34m\u001b[0m\u001b[0;34m\u001b[0m\u001b[0m\n\u001b[0m\u001b[1;32m      2\u001b[0m \u001b[0mgen_samples\u001b[0m \u001b[0;34m=\u001b[0m \u001b[0mpd\u001b[0m\u001b[0;34m.\u001b[0m\u001b[0mDataFrame\u001b[0m\u001b[0;34m(\u001b[0m\u001b[0mg_z\u001b[0m\u001b[0;34m,\u001b[0m \u001b[0mcolumns\u001b[0m\u001b[0;34m=\u001b[0m\u001b[0mdata_cols\u001b[0m\u001b[0;34m)\u001b[0m\u001b[0;34m\u001b[0m\u001b[0;34m\u001b[0m\u001b[0m\n\u001b[1;32m      3\u001b[0m \u001b[0mgen_samples\u001b[0m\u001b[0;34m.\u001b[0m\u001b[0mto_csv\u001b[0m\u001b[0;34m(\u001b[0m\u001b[0;34m'Generated_sample.csv'\u001b[0m\u001b[0;34m)\u001b[0m\u001b[0;34m\u001b[0m\u001b[0;34m\u001b[0m\u001b[0m\n",
      "\u001b[0;31mNameError\u001b[0m: name 'pw' is not defined"
     ]
    }
   ],
   "source": [
    "g_z=pw.inverse_transform(g_z)\n",
    "gen_samples = pd.DataFrame(g_z, columns=data_cols)\n",
    "gen_samples.to_csv('Generated_sample.csv')"
   ]
  },
  {
   "cell_type": "markdown",
   "id": "stylish-viking",
   "metadata": {},
   "source": [
    "# Conclusions and Next Steps\n",
    "Summarize findings here"
   ]
  },
  {
   "cell_type": "code",
   "execution_count": null,
   "id": "plastic-mercury",
   "metadata": {},
   "outputs": [],
   "source": []
  }
 ],
 "metadata": {
  "kernelspec": {
   "display_name": "Python 3",
   "language": "python",
   "name": "python3"
  },
  "language_info": {
   "codemirror_mode": {
    "name": "ipython",
    "version": 3
   },
   "file_extension": ".py",
   "mimetype": "text/x-python",
   "name": "python",
   "nbconvert_exporter": "python",
   "pygments_lexer": "ipython3",
   "version": "3.8.5"
  },
  "toc": {
   "base_numbering": 1,
   "nav_menu": {},
   "number_sections": true,
   "sideBar": true,
   "skip_h1_title": false,
   "title_cell": "Table of Contents",
   "title_sidebar": "Contents",
   "toc_cell": false,
   "toc_position": {
    "height": "calc(100% - 180px)",
    "left": "10px",
    "top": "150px",
    "width": "324.797px"
   },
   "toc_section_display": true,
   "toc_window_display": true
  }
 },
 "nbformat": 4,
 "nbformat_minor": 5
}
